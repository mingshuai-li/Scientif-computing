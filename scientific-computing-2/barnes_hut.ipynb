{
 "cells": [
  {
   "cell_type": "markdown",
   "metadata": {
    "pycharm": {
     "name": "#%% md\n"
    }
   },
   "source": [
    "# Barnes-Hut Algorithm\n",
    "\n",
    "In previous worksheets, we discussed a list based algorithm for short range forces. In next two worksheets, we will study tree based algorithms for the pairwise force calculation of long range forces. The Barnes-Hut algorithm is the first tree based algorithm that we will discuss.\n",
    "\n",
    "In previous methods (Verlet-lists and Linked List methods), we ignored the particles that were far away (beyond the cut off radius $r_c$), which is only reasonable for forces that rapidly converge to zero.\n",
    "\n",
    "## Example: Gravity\n",
    "If we want to calulate the gravitational force other planets exert on earth, then the force applied by a single planet of an other galaxy (other than milky way) may not be considerable. However, the total force applied by the whole galaxy can be considerable.\n",
    "\n",
    "The trick to reduce the complexity of this calculation is to consider the distant cluster of particles as a single entity. In 1986, Barnes and Hut observed that the particles might work in the same way that humans interact with neighboring individuals, more distant villages and larger countries. They came up with an algorithm that the potential on an individual particle from other particles close by is evaluated by direct summation (particle-particle interaction), whereas the potential due to more distant particles is calculated by particle-cluster interaction. To apply this algorithm, they proposed a tree structure to group the particles in a smart way to facilitate the tree algorithm. Let's follow their idea to construct a tree of particles!\n",
    "\n",
    "Here, we demonstrate the idea with a 2D quadtree where each cell can be subdivided into 4 child cells. We begin with a root cell which is big enough to contain all the particles in the domain. Then, we follow these rules to build the quadtree:\n",
    "- If there is more than or equal to $n_{crit}$ particles in the cell, we need to split the current cell cell into 4 child cells.\n",
    "- If there are less that $n_{crit}$ particle in the cell, the cell is left as it is. We call such cells **leaf** cells.\n",
    "- If there is no particles in a cell, we can ignore the cell (do not store the cell in memory).\n",
    "\n",
    "For the following figure let $n_{crit}=2$.\n",
    "\n",
    "<p align=\"center\">\n",
    "<img src=\"./figures/tree_construct.png\"\n",
    "     alt=\"Tree construct\"\n",
    "     width=\"800\" height=\"800\"/>\n",
    "</p>"
   ]
  },
  {
   "cell_type": "code",
   "execution_count": 1,
   "metadata": {
    "pycharm": {
     "name": "#%%\n"
    }
   },
   "outputs": [
    {
     "ename": "ModuleNotFoundError",
     "evalue": "No module named 'tabulate'",
     "output_type": "error",
     "traceback": [
      "\u001b[1;31m---------------------------------------------------------------------------\u001b[0m",
      "\u001b[1;31mModuleNotFoundError\u001b[0m                       Traceback (most recent call last)",
      "\u001b[1;32m<ipython-input-1-155026d46a42>\u001b[0m in \u001b[0;36m<module>\u001b[1;34m\u001b[0m\n\u001b[0;32m      5\u001b[0m \u001b[1;32mimport\u001b[0m \u001b[0mtime\u001b[0m\u001b[1;33m\u001b[0m\u001b[1;33m\u001b[0m\u001b[0m\n\u001b[0;32m      6\u001b[0m \u001b[1;32mfrom\u001b[0m \u001b[0mtqdm\u001b[0m \u001b[1;32mimport\u001b[0m \u001b[0mtqdm\u001b[0m\u001b[1;33m\u001b[0m\u001b[1;33m\u001b[0m\u001b[0m\n\u001b[1;32m----> 7\u001b[1;33m \u001b[1;32mfrom\u001b[0m \u001b[0mtabulate\u001b[0m \u001b[1;32mimport\u001b[0m \u001b[0mtabulate\u001b[0m\u001b[1;33m\u001b[0m\u001b[1;33m\u001b[0m\u001b[0m\n\u001b[0m",
      "\u001b[1;31mModuleNotFoundError\u001b[0m: No module named 'tabulate'"
     ]
    }
   ],
   "source": [
    "import math\n",
    "import numpy as np\n",
    "import matplotlib.pyplot as plt\n",
    "from matplotlib import rcParams, patches\n",
    "import time\n",
    "from tqdm import tqdm\n",
    "from tabulate import tabulate"
   ]
  },
  {
   "cell_type": "markdown",
   "metadata": {
    "pycharm": {
     "name": "#%% md\n"
    }
   },
   "source": [
    "Following is the implementation of class __Particles__, similar as in previous worksheets"
   ]
  },
  {
   "cell_type": "code",
   "execution_count": 2,
   "metadata": {
    "pycharm": {
     "name": "#%%\n"
    }
   },
   "outputs": [],
   "source": [
    "class Particle:\n",
    "\n",
    "    \"\"\"The derived class for a particle, inheriting the base class \"Point\".\n",
    "    \n",
    "    Attributes:\n",
    "        m: mass of the particle.\n",
    "        phi: the gravitational potential of the particle.\n",
    "    \"\"\"\n",
    "\n",
    "    def __init__(self, coords=None, domain = 1, m=1.0):\n",
    "        self.m = m\n",
    "        self.phi = 0.\n",
    "        if coords is None:\n",
    "            self.x = domain * np.random.random()\n",
    "            self.y = domain * np.random.random()\n",
    "        else:\n",
    "            assert len(coords) == 2, \"Coordinates should be 2D\"\n",
    "            self.x = coords[0]\n",
    "            self.y = coords[1]\n",
    "\n",
    "    def plot(self, s=10):\n",
    "        plt.scatter(self.x, self.y, marker='o', color='r', s=s)\n",
    "\n",
    "    def distance(self, other):\n",
    "        return np.sqrt((self.x-other.x)**2 + (self.y-other.y)**2)"
   ]
  },
  {
   "cell_type": "markdown",
   "metadata": {
    "pycharm": {
     "name": "#%% md\n"
    }
   },
   "source": [
    "## Building the Tree\n",
    "\n",
    "The First step to implement Barnes-Hut is to build the tree. For this, we first define a class cell as described below.\n",
    "\n",
    "We use an object-oriented approach. For those who have not been exposed to object-oriented programming in python, check out some guides e.g. [this one](https://www.tutorialspoint.com/python/python_classes_objects.htm)."
   ]
  },
  {
   "cell_type": "markdown",
   "metadata": {
    "pycharm": {
     "name": "#%% md\n"
    }
   },
   "source": [
    "## Defining the class ***Cell***\n",
    "\n",
    "To start things off, we define a class `Cell`, which encapsulates properties like the cell's center coordinates, its parent, children, and indices of particles inside if it's a leaf. We will then create a list called `list_cells` comprising of all cells in the tree. The root cell shall be `list_cells[0]`.\n",
    "\n",
    "<p align=\"center\">\n",
    "<img src=\"./figures/cell_class.png\"\n",
    "     alt=\"Cell class\"\n",
    "     width=\"512\" height=\"512\"/>\n",
    "</p>\n",
    "Let us go through some other terms in the figure above and other related terms:\n",
    "\n",
    "- ***x_c, y_c, z_c, r_c***: center coordinates and side length of the cell.\n",
    "- ***Root cell***: The first (=largest) cell that has no parent\n",
    "- ***Leaf cell***: Cells that have no children\n",
    "- ***Critical number of particles ($n_{crit}$)***: Threshold for splitting a cell into smaller ones.\n",
    "- ***nparticles***: Number of particels in a cell.\n",
    "- ***particle_index***: List of particle indices which are in this cell.\n",
    "- ***parent***: Cell index of the parent cell.\n",
    "- ***child_index***: List of cell indices of which are children of this cell.\n",
    "- ***nchild***: It is a 4-bit binary number, each digit represents one of the four child quadrants. `1` denotes non-empty child cell, and `0` denotes empty child cell in that quadrant. For example: `nchild=0101` means the current cell only has non-empty children in the first and third quadrant.\n",
    "\n"
   ]
  },
  {
   "cell_type": "code",
   "execution_count": 3,
   "metadata": {
    "pycharm": {
     "name": "#%%\n"
    }
   },
   "outputs": [],
   "source": [
    "class Cell:\n",
    "\n",
    "    \"\"\"The class for a cell.\n",
    "    \n",
    "    Arguments:\n",
    "        n_crit: maximum number of particles in a leaf cell.\n",
    "    \n",
    "    Attributes:\n",
    "        nparticles (int): number of particles in the cell\n",
    "        particle_index (array of int): array of leaf index\n",
    "        nchild (int):  an integer whose last 8 bits is used to keep track \n",
    "        of the empty child cells\n",
    "        child_index (array of int): array of child index\n",
    "        parent (int): index of parent cell\n",
    "        x, y (float): coordinates of the cell's center\n",
    "        r (float): radius of the cell (half of the side length for cubic cell)      \n",
    "    \"\"\"\n",
    "\n",
    "    def __init__(self, n_crit, center, radius):\n",
    "        self.nparticles = 0                                  # number of particels\n",
    "        self.particle_index = np.zeros(n_crit, dtype=int)    # array of particle indices\n",
    "        self.nchild = 0                                      # binary counter to keep track of empty cells\n",
    "        self.child_index = np.zeros(4, dtype=int)            # array of child index\n",
    "        self.parent = 0                                      # index of parent cell\n",
    "        self.x = center[0]\n",
    "        self.y = center[1]                                   # center of the cell\n",
    "        self.r = radius                                      # radius of the cell\n",
    "        self.level = 0\n",
    "\n",
    "    def distance(self, other):\n",
    "        \"\"\"Helper function to get the distance between this and another cell's center.\n",
    "        \n",
    "        Arguments:\n",
    "            other: Other cell.\n",
    "        \"\"\"\n",
    "        return np.sqrt((self.x-other.x)**2 + (self.y-other.y)**2)\n",
    "\n",
    "    def plot(self, n_crit, linewidth=1, color='k'):\n",
    "        if self.nparticles >= n_crit:\n",
    "            plt.hlines(self.y, self.x - self.r, self.x + self.r, linewidth=linewidth, color=color)\n",
    "            plt.vlines(self.x, self.y - self.r, self.y + self.r, linewidth=linewidth, color=color)"
   ]
  },
  {
   "cell_type": "markdown",
   "metadata": {
    "pycharm": {
     "name": "#%% md\n"
    }
   },
   "source": [
    "### Creating a child\n",
    "\n",
    "Let, $n_{crit} = 10$ <br/>\n",
    "Assuming that we create the root cell, then we add the particles into this root cell. After we put the 10th particle into the root, `nparticles == n_crit == 10`. If there is a 11th particle coming, we have to split the root cell. For this, we create new intances of `Cell` which are the children of the root cell. Thus, `split_cell` will have to call `add_child`. So let's think about how to add a child.\n",
    "\n",
    "To begin with, we need to append a new element to the cells list, so now the last element of the cells list should be the new child. First let's find the geometrical relationship between a parent $p$ and its child $c$:\n",
    "- $r_{child}$ = $\\frac{1}{2}r_{parent}$ for a cubic cell\n",
    "- $x_{c}$, $y_{c}$, the child's center coordinates, can be determined by its $quadrant$ and its parent's center coordinates $x_{p}$, $y_{p}$. Refer to the code below and reflect how it works.(***Hint***: you have to work through binary operators)\n",
    "\n",
    "Next, we need to establish a reference between the parent and the child in the cells list. Consider a new child is created in the parent's $3th$ quadrant. We assign the new child's index to the parent by `parent.child_index[3]=index_child`, and assign the parent's index to the new child by `child.parent=index_parent`. Don't forget the 4-bit binary marker `nchild`. Since the new child is at $3th$ quadrant, the fourth digit from the right should be changed from \"0\" to \"1\". Recall that we always manipulate the binary number with bit shift.\n"
   ]
  },
  {
   "cell_type": "code",
   "execution_count": 4,
   "metadata": {
    "pycharm": {
     "name": "#%%\n"
    }
   },
   "outputs": [],
   "source": [
    "def add_child(quadrant, p, list_cells, n_crit):\n",
    "\n",
    "    \"\"\"Add a cell to the end of cells list as a child of p, initialize the\n",
    "    center and radius of the child cell c, and establish mutual reference\n",
    "    between child c and parent p.\n",
    "    \n",
    "    Arguments:\n",
    "        quadrant: reference to one of the four divisions in two dimensions.\n",
    "        p: parent cell index in cells list.\n",
    "        list_cells: the list of cells.\n",
    "        n_crit: maximum number of particles in a leaf cell.\n",
    "    \"\"\"\n",
    "\n",
    "    # geometric relationship between parent and child\n",
    "    new_radius = list_cells[p].r / 2\n",
    "    new_center_x = list_cells[p].x + new_radius * ((quadrant & 1) * 2 - 1)\n",
    "    new_center_y = list_cells[p].y + new_radius * ((quadrant & 2) - 1)\n",
    "    new_cell = Cell(n_crit, [new_center_x, new_center_y], new_radius)\n",
    "\n",
    "    # create a new cell instance\n",
    "    list_cells.append(new_cell)\n",
    "    # the index of the new child is the end of list_cells\n",
    "    c = len(list_cells) - 1\n",
    "\n",
    "    # establish mutual reference in the cells list\n",
    "    list_cells[c].parent = p\n",
    "    list_cells[p].child_index[quadrant] = c\n",
    "    list_cells[p].nchild = (list_cells[p].nchild | (1 << quadrant))\n",
    "    list_cells[c].level = list_cells[p].level + 1"
   ]
  },
  {
   "cell_type": "markdown",
   "metadata": {
    "pycharm": {
     "name": "#%% md\n"
    }
   },
   "source": [
    "### Split a cell\n",
    "\n",
    "Now, let's focus on splitting a cell. First we need to realize that `split_cell()` should be recursive because after splitting a cell there is a probability that all the particles are reallocated to the same child. In this scenario, we have to recursively split the child cell again until all the cells satisfy the rule $n_{crit}=10$.\n",
    "\n",
    "Consider the case that we put more than $n_{crit}+1$ particles in the root cell. It is time to split the root. In addition to creating new child cells, we also have to \"trickle\" down these particles. We loop over the particles, and if there is no child cell in that particle's quadrant, we create one and insert the particle. If there already is a child cell, we just put this particle in that child. Finally, we check if the number of particles in that child reached $n_{crit}$. If yes, we split it recursively."
   ]
  },
  {
   "cell_type": "code",
   "execution_count": 5,
   "metadata": {
    "pycharm": {
     "name": "#%%\n"
    }
   },
   "outputs": [],
   "source": [
    "def split_cell(list_particles, p, list_cells, n_crit):\n",
    "\n",
    "    \"\"\"Loop in parent p's leafs and reallocate the particles to subcells.\n",
    "    If a subcell has not been created in that quadrant, create one using add_child. \n",
    "    If the subcell c's leaf number exceeds n_crit, split the subcell c recursively.\n",
    "    \n",
    "    Arguments: \n",
    "        list_particles: the list of particles.\n",
    "        p: parent cell index in cells list.\n",
    "        list_cells: the list of cells.\n",
    "        n_crit: maximum number of particles in a leaf cell.\n",
    "    \"\"\"\n",
    "\n",
    "    # loop in the particles stored in the parent cell that you want to split\n",
    "    for l in list_cells[p].particle_index:\n",
    "\n",
    "        # finds the particle's quadrant\n",
    "        quadrant = (list_particles[l].x > list_cells[p].x) + ((list_particles[l].y > list_cells[p].y) << 1)\n",
    "\n",
    "        # if there is no child cell available for the quadrant create one\n",
    "        if not list_cells[p].nchild & (1 << quadrant):\n",
    "            add_child(quadrant, p, list_cells, n_crit)\n",
    "\n",
    "        # reallocate the particle in the child cell\n",
    "        c = list_cells[p].child_index[quadrant]\n",
    "        list_cells[c].particle_index[list_cells[c].nparticles] = l\n",
    "        list_cells[c].nparticles += 1\n",
    "\n",
    "        # check if the child reach n_crit\n",
    "        if list_cells[c].nparticles >= n_crit:\n",
    "            split_cell(list_particles, c, list_cells, n_crit)"
   ]
  },
  {
   "cell_type": "markdown",
   "metadata": {
    "pycharm": {
     "name": "#%% md\n"
    }
   },
   "source": [
    "### Constructing the tree\n",
    "\n",
    "Based on adding and splitting a cell, we can formulate our code to build the tree. We loop over the particles, and find a cell for each particle from top (root cell) to bottom (leaf cell). If the current cell where the particle lives is not a leaf cell, we recursively split it, traverse down until we find or create the leaf cell. Finally we can put every particle in a certain leaf cell where $n_{particels} \\lt n_{crit}$. After we allocate every particle, we perform a check to determine whether the cell has to be split or not."
   ]
  },
  {
   "cell_type": "code",
   "execution_count": 6,
   "metadata": {
    "pycharm": {
     "name": "#%%\n"
    }
   },
   "outputs": [],
   "source": [
    "def build_tree(list_particles, root, n_crit):\n",
    "\n",
    "    \"\"\"Construct a hierarchical octree to store the particles and return\n",
    "    the tree (list) of cells.\n",
    "\n",
    "    Arguments:\n",
    "        list_particles: the list of particles.\n",
    "        root: the root cell.\n",
    "        n_crit: maximum number of particles in a single cell.\n",
    "\n",
    "    Returns:\n",
    "        list_cells: the list of cells.\n",
    "\n",
    "    \"\"\"\n",
    "    # set root cell\n",
    "    list_cells = [root]\n",
    "\n",
    "    # build tree\n",
    "    for i in range(len(list_particles)):\n",
    "        # traverse from the root down to a leaf cell\n",
    "        curr = 0\n",
    "\n",
    "        while list_cells[curr].nparticles >= n_crit:\n",
    "            list_cells[curr].nparticles += 1\n",
    "            quadrant = (list_particles[i].x > list_cells[curr].x) + ((list_particles[i].y > list_cells[curr].y) << 1)\n",
    "\n",
    "            # if there is no child cell in the particle's quadrant, then create one\n",
    "            if not list_cells[curr].nchild & (1 << quadrant):\n",
    "                add_child(quadrant, curr, list_cells, n_crit)\n",
    "\n",
    "            curr = list_cells[curr].child_index[quadrant]\n",
    "\n",
    "        # allocate the particle in the leaf cell\n",
    "        list_cells[curr].particle_index[list_cells[curr].nparticles] = i\n",
    "        list_cells[curr].nparticles += 1\n",
    "\n",
    "        # check whether to split or not\n",
    "        if list_cells[curr].nparticles >= n_crit:\n",
    "            split_cell(list_particles, curr, list_cells, n_crit)\n",
    "\n",
    "    return list_cells"
   ]
  },
  {
   "cell_type": "markdown",
   "metadata": {
    "pycharm": {
     "name": "#%% md\n"
    }
   },
   "source": [
    "**Use what we implemented so far to generate a random scenario:**"
   ]
  },
  {
   "cell_type": "code",
   "execution_count": 7,
   "metadata": {
    "pycharm": {
     "name": "#%%\n"
    }
   },
   "outputs": [],
   "source": [
    "domain_length = 1\n",
    "n_crit = 4\n",
    "num_particles = 50\n",
    "# generate randomly distributed particles\n",
    "particles = []\n",
    "for i in range(num_particles):\n",
    "    particles.append(Particle(domain=domain_length))\n",
    "# Create a root cell\n",
    "root = Cell(n_crit, center=[domain_length/2, domain_length/2], radius=domain_length/2)\n",
    "# build the tree\n",
    "cells = build_tree(particles, root, n_crit)"
   ]
  },
  {
   "cell_type": "markdown",
   "metadata": {
    "pycharm": {
     "name": "#%% md\n"
    }
   },
   "source": [
    "Let's plot the tree:"
   ]
  },
  {
   "cell_type": "code",
   "execution_count": 8,
   "metadata": {
    "pycharm": {
     "name": "#%%\n"
    }
   },
   "outputs": [
    {
     "data": {
      "image/png": "[encoded data removed]",
      "text/plain": [
       "<Figure size 432x288 with 1 Axes>"
      ]
     },
     "metadata": {
      "needs_background": "light"
     },
     "output_type": "display_data"
    }
   ],
   "source": [
    "def plot_tree(particles, cells):\n",
    "    fig = plt.figure()\n",
    "    ax = plt.gca()\n",
    "    for p in particles:\n",
    "        p.plot()\n",
    "    for c in cells:\n",
    "        c.plot(n_crit, color='blue')\n",
    "    ax.tick_params(axis='both',labelsize=0)\n",
    "    ax.set_aspect('equal', adjustable='box')\n",
    "    plt.show()\n",
    "\n",
    "plot_tree(particles, cells)"
   ]
  },
  {
   "cell_type": "markdown",
   "metadata": {
    "pycharm": {
     "name": "#%% md\n"
    }
   },
   "source": [
    "Let us modify `n_crit` to a lower value and see how the tree changes."
   ]
  },
  {
   "cell_type": "code",
   "execution_count": 9,
   "metadata": {
    "pycharm": {
     "name": "#%%\n"
    }
   },
   "outputs": [
    {
     "data": {
      "image/png": "[encoded data removed]",
      "text/plain": [
       "<Figure size 432x288 with 1 Axes>"
      ]
     },
     "metadata": {
      "needs_background": "light"
     },
     "output_type": "display_data"
    }
   ],
   "source": [
    "n_crit = 2\n",
    "# build the tree\n",
    "root_finer = Cell(n_crit, center=[domain_length/2, domain_length/2], radius=domain_length/2)\n",
    "cells_finer = build_tree(particles, root_finer, n_crit)\n",
    "# plot the tree\n",
    "plot_tree(particles, cells_finer)"
   ]
  },
  {
   "cell_type": "markdown",
   "metadata": {
    "pycharm": {
     "name": "#%% md\n"
    }
   },
   "source": [
    "## Implementing the Barnes Hut Algorithm\n",
    "\n",
    "In order to calculate the potential using the Barnes-Hut algorithm, we need to separate the near field particles and far-field clusters. For far field clusters, we accumulate the mass of all the particles at center of the cluster, then consider it as single particle and calculate the potential. The definition of far field is expressed in form of angle. Let us consider the following:\n",
    "<p align=\"center\">\n",
    "<img src=\"./figures/barnes_hut.png\"\n",
    "     alt=\"Cell class\"\n",
    "     width=\"512\" height=\"512\"/>\n",
    "</p>\n",
    "For a particle $O$, the cluster is considered far if $\\theta < \\theta_{crititcal}$. As an intuition, $\\theta$ is related to the angle the cluster takes up in the field of view of the particle. Meaning, the bigger or closer the cluster is, the larger this angle and hence $\\theta$ becomes. Usually, $\\theta$ is calculated as:\n",
    "$$\\theta \\approx \\frac{diameter}{distance} = \\frac{d}{r}$$\n",
    "\n",
    "If a cluster is not far, then we split the cell into its children as per the tree. We calculate the angle again for all children and continue to do so until, either we find a far field or we reach the a leaf cell. If we reach a leaf cell then we do the direct particle to particle interaction.\n",
    "\n",
    "Firstly, we need to write a function which calculates the total mass of all the particles inside a cell. For that, we need to recursively go through each cell and its children until a leaf cell is reached.\n",
    "\n",
    "### Task 1:\n",
    "Implement the `get_mass` function which sums up the mass of all the particles inside the cell and returns the total mass."
   ]
  },
  {
   "cell_type": "code",
   "execution_count": 10,
   "metadata": {
    "pycharm": {
     "name": "#%%\n"
    }
   },
   "outputs": [],
   "source": [
    "# %load solution_task1_getMass.py\n",
    "def get_mass(particles_list, cell_index, cells_list, n_crit):\n",
    "    \"\"\"Returns total mass of a cell\n",
    "    Arguments:\n",
    "    ---------\n",
    "    particles_list : list\n",
    "        List of all particles\n",
    "    cell_index : int\n",
    "        Index of cell whose mass we need to calculate\n",
    "    cells_list : list\n",
    "        List of all the cells in the tree\n",
    "    n_crit : int\n",
    "        Critical number of particles\n",
    "    \n",
    "    Return\n",
    "    ------\n",
    "    mass : Total mass of the cell\n",
    "    \"\"\"\n",
    "    mass = 0\n",
    "    com = np.zeros(2, dtype=float)\n",
    "    ######### TODO BEGIN ###########\n",
    "\n",
    "    cell = cells_list[cell_index]\n",
    "    if cell.nparticles >= n_crit:                                # case: not leaf cell\n",
    "        for child_index in cell.child_index:\n",
    "            if child_index != 0:\n",
    "                mass += get_mass(particles_list, child_index, cells_list, n_crit)\n",
    "    else:                                                        # case: leaf cell\n",
    "        for i in range(cell.nparticles):\n",
    "            particle = particles_list[cell.particle_index[i]]    # this is a reference, not a copy\n",
    "            mass += particle.m\n",
    "\n",
    "\n",
    "\n",
    "\n",
    "\n",
    "\n",
    "\n",
    "    ########## TODO END ############\n",
    "    return mass\n"
   ]
  },
  {
   "cell_type": "markdown",
   "metadata": {
    "pycharm": {
     "name": "#%% md\n"
    }
   },
   "source": [
    "### Task 2:\n",
    "\n",
    "Implement the direct particle to particle interaction between one particle, given by its index, and all other particles."
   ]
  },
  {
   "cell_type": "code",
   "execution_count": 11,
   "metadata": {
    "pycharm": {
     "name": "#%%\n"
    }
   },
   "outputs": [],
   "source": [
    "# %load solution_task2_directInteraction.py\n",
    "def direct_interaction(particle_index, particles_list, cell):\n",
    "    \"\"\"Direct particle to particle between particle and all the particles in leaf cell\n",
    "    \n",
    "    Arguments\n",
    "    ---------\n",
    "    particle_index : int\n",
    "        index of particle whose potential we need to calculate potentail\n",
    "    particles_list : list\n",
    "        List of particles\n",
    "    cell : object of type cell\n",
    "        the leaf cell with which we want to do direct particle to particle interaction between the particle\n",
    "        and all the particles in the leaf\n",
    "    Return\n",
    "    ------\n",
    "    phi : float\n",
    "        Potential generated by the cell on the particle\n",
    "    num_evaluations : int\n",
    "        Number of kernel evaluations\n",
    "    \"\"\"\n",
    "\n",
    "    mass = particles_list[particle_index].m\n",
    "    phi = 0.\n",
    "    num_evaluations = 0\n",
    "    ######## TODO Begin ##########\n",
    "    for i in range(cell.nparticles):\n",
    "        if particle_index != cell.particle_index[i]:              # prevent self interation\n",
    "            distance = particles_list[cell.particle_index[i]].distance(particles_list[particle_index])\n",
    "            phi += mass * particles_list[cell.particle_index[i]].m / distance\n",
    "            num_evaluations += 1\n",
    "\n",
    "\n",
    "\n",
    "\n",
    "    ######### TODO End ###########\n",
    "    return phi, num_evaluations\n"
   ]
  },
  {
   "cell_type": "markdown",
   "metadata": {
    "pycharm": {
     "name": "#%% md\n"
    }
   },
   "source": [
    "### Task 3:\n",
    "\n",
    "Implement the Barnes-Hut algorithm to calculate the potential exercted on a target particle, given by its index, from all the particles inside a cell, also given by its index. You should also take into account the contribution from all child cells. Hence, if applied with the root cell this function should calculate the full potential on the particle.\n",
    "\n",
    "Hints if you get stuck:\n",
    "1. Check if the source cell has less than `n_crit` particles. If yes, then perform direct potential calculation betwenn target particles and all the particles inside the source cell. Add the potential to phi and return phi\n",
    "2. Calculate the parameter theta ($\\theta$)\n",
    "3. If $\\theta \\leq \\theta_{critical}$ ($\\theta_{critical}$ is represented be theta_limit), then calculate the total mass of the cell. Calculate the potential using the total mass and distance calculated(calculated between the particle and the center of the cell. It is calculated when you are finding the value of $\\theta$) and add it to phi and then return phi\n",
    "4. If $\\theta > \\theta_{critical}$, then go to all the child indices of the cell and check if the index of the child is not zero (think why are we doing that). If the index is not zero then we do recursion by calling the same function but with cell_index as index of child.\n",
    "5. For simplification you can assume that all cells have their center of mass in their spatial center."
   ]
  },
  {
   "cell_type": "code",
   "execution_count": 12,
   "metadata": {
    "pycharm": {
     "name": "#%%\n"
    }
   },
   "outputs": [],
   "source": [
    "# %load solution_task3_barnesHut.py\n",
    "def barnes_hut(particle_index, particles_list, cell_index, cells_list, n_crit, theta_limit=0.5, num_evaluations=0):\n",
    "    \"\"\"Barnes hut implementation to calculate the potential that is excerted on a particle from its\n",
    "    interaction with a whole cell.\n",
    "    \n",
    "    Parameters\n",
    "    -----------\n",
    "    particle_index : int\n",
    "        index of the particle in particles_list whose index we need to calculate\n",
    "    particles_list : list\n",
    "        List of particles\n",
    "    cell_index : int\n",
    "        Index of the cell whose effect we are going to calculate on concerned particle\n",
    "    n_crit: int\n",
    "        Number of particles above which we divide the cells into four child cells\n",
    "    theta_limi: float (default value is 0.5)\n",
    "        The limiting theta parameter for barnes hut algorithm\n",
    "        \n",
    "    Return\n",
    "    ------\n",
    "    phi: float\n",
    "        the potential on a particle (whose index is provided) applied by all the particles inside \n",
    "        the cell (whose index is provided)\n",
    "    num_evaluations : int\n",
    "        Number of interaction evaluations\n",
    "    \"\"\"\n",
    "    cell = cells_list[cell_index]\n",
    "    particle = particles_list[particle_index]\n",
    "    phi = 0.\n",
    "    num_evaluations = 0\n",
    "    ######## TODO Begin ##########\n",
    "\n",
    "\n",
    "    if cell.nparticles < n_crit:                                             # case: leaf -> direct interaction\n",
    "        phi, num_evaluations = direct_interaction(particle_index, particles_list, cell)\n",
    "        return phi, num_evaluations\n",
    "\n",
    "    distance = np.sqrt((cell.x - particle.x)**2 + (cell.y - particle.y)**2)  # case: not leaf cell\n",
    "    theta = 2 * cell.r * np.sqrt(2) / distance\n",
    "    if theta > theta_limit:                                                  # case: distant cell too big\n",
    "        for i in cell.child_index:\n",
    "            if i != 0:\n",
    "                child_phi, child_evals = barnes_hut(particle_index, particles_list, i, cells_list, n_crit, theta_limit, num_evaluations)\n",
    "                phi += child_phi\n",
    "                num_evaluations += child_evals\n",
    "    else:                                                                    # case: interact with whole cell\n",
    "        mass = get_mass(particles_list, cell_index, cells_list, n_crit)\n",
    "        phi += mass / distance\n",
    "        if mass != 0:\n",
    "            num_evaluations += 1\n",
    "\n",
    "\n",
    "\n",
    "\n",
    "\n",
    "\n",
    "\n",
    "\n",
    "\n",
    "\n",
    "\n",
    "\n",
    "\n",
    "\n",
    "    ######### TODO End ###########\n",
    "    return phi, num_evaluations\n"
   ]
  },
  {
   "cell_type": "markdown",
   "metadata": {
    "pycharm": {
     "name": "#%% md\n"
    }
   },
   "source": [
    "An implementation of the naive full direct interatcion for comparison:"
   ]
  },
  {
   "cell_type": "code",
   "execution_count": 13,
   "metadata": {
    "pycharm": {
     "name": "#%%\n"
    }
   },
   "outputs": [],
   "source": [
    "# complete direct interaction\n",
    "def naive_direct_interaction(particle_index, list_particles):\n",
    "    phi = 0.\n",
    "    for idx, p in enumerate(list_particles):\n",
    "        if idx != particle_index:\n",
    "            phi += list_particles[particle_index].m * p.m / p.distance(list_particles[particle_index])\n",
    "    return phi, len(list_particles)"
   ]
  },
  {
   "cell_type": "markdown",
   "metadata": {
    "pycharm": {
     "name": "#%% md\n"
    }
   },
   "source": [
    "#### Evaluate the potential on all particles and compare the result on one particle."
   ]
  },
  {
   "cell_type": "code",
   "execution_count": 14,
   "metadata": {
    "pycharm": {
     "name": "#%%\n"
    }
   },
   "outputs": [
    {
     "name": "stderr",
     "output_type": "stream",
     "text": [
      "Generating Particles: 100%|██████████| 1000/1000 [00:00<00:00, 499797.90it/s]\n"
     ]
    },
    {
     "name": "stdout",
     "output_type": "stream",
     "text": [
      "Building tree...\n",
      "Plotting tree...\n"
     ]
    },
    {
     "data": {
      "image/png": "[encoded data removed]",
      "text/plain": [
       "<Figure size 432x288 with 1 Axes>"
      ]
     },
     "metadata": {
      "needs_background": "light"
     },
     "output_type": "display_data"
    },
    {
     "name": "stderr",
     "output_type": "stream",
     "text": [
      "Running Algorithm: 100%|██████████| 1000/1000 [00:01<00:00, 774.58it/s]\n",
      "Running Algorithm: 100%|██████████| 1000/1000 [00:00<00:00, 1299.50it/s]"
     ]
    },
    {
     "name": "stdout",
     "output_type": "stream",
     "text": [
      "Relative mean squared root error BH (RMSRE):  0.007886855235729741\n",
      "Relative root mean squared error BH (RRMSE):  2.564969002040502e-07\n"
     ]
    },
    {
     "name": "stderr",
     "output_type": "stream",
     "text": [
      "\n"
     ]
    },
    {
     "ename": "NameError",
     "evalue": "name 'tabulate' is not defined",
     "output_type": "error",
     "traceback": [
      "\u001b[1;31m---------------------------------------------------------------------------\u001b[0m",
      "\u001b[1;31mNameError\u001b[0m                                 Traceback (most recent call last)",
      "\u001b[1;32m<ipython-input-14-124fd5729f0e>\u001b[0m in \u001b[0;36m<module>\u001b[1;34m\u001b[0m\n\u001b[0;32m     44\u001b[0m \u001b[0mrefId\u001b[0m \u001b[1;33m=\u001b[0m \u001b[1;36m0\u001b[0m\u001b[1;33m\u001b[0m\u001b[1;33m\u001b[0m\u001b[0m\n\u001b[0;32m     45\u001b[0m \u001b[1;31m# print table of comparisons\u001b[0m\u001b[1;33m\u001b[0m\u001b[1;33m\u001b[0m\u001b[1;33m\u001b[0m\u001b[0m\n\u001b[1;32m---> 46\u001b[1;33m print(tabulate([\n\u001b[0m\u001b[0;32m     47\u001b[0m                 \u001b[1;33m[\u001b[0m\u001b[1;34m'Potential['\u001b[0m \u001b[1;33m+\u001b[0m \u001b[0mstr\u001b[0m\u001b[1;33m(\u001b[0m\u001b[0mrefId\u001b[0m\u001b[1;33m)\u001b[0m \u001b[1;33m+\u001b[0m \u001b[1;34m']'\u001b[0m\u001b[1;33m,\u001b[0m \u001b[0mpotentials_ds\u001b[0m\u001b[1;33m[\u001b[0m\u001b[0mrefId\u001b[0m\u001b[1;33m]\u001b[0m\u001b[1;33m,\u001b[0m \u001b[0mpotentials_bh\u001b[0m\u001b[1;33m[\u001b[0m\u001b[0mrefId\u001b[0m\u001b[1;33m]\u001b[0m\u001b[1;33m]\u001b[0m\u001b[1;33m,\u001b[0m\u001b[1;33m\u001b[0m\u001b[1;33m\u001b[0m\u001b[0m\n\u001b[0;32m     48\u001b[0m                 \u001b[1;33m[\u001b[0m\u001b[1;34m'Time'\u001b[0m\u001b[1;33m,\u001b[0m \u001b[0mtime_ds\u001b[0m\u001b[1;33m,\u001b[0m \u001b[0mtime_bh\u001b[0m\u001b[1;33m]\u001b[0m\u001b[1;33m,\u001b[0m\u001b[1;33m\u001b[0m\u001b[1;33m\u001b[0m\u001b[0m\n",
      "\u001b[1;31mNameError\u001b[0m: name 'tabulate' is not defined"
     ]
    }
   ],
   "source": [
    "def benchFun(f):\n",
    "    \"\"\" Executes f for every particle and returns time and evaluation measuremtns\n",
    "\n",
    "    :param f:\n",
    "    :param potentials:\n",
    "    :return: time_total, num_evals_total, potentials\n",
    "    \"\"\"\n",
    "    num_evals_total = 0\n",
    "    potentials = np.zeros(len(particles), dtype=float)\n",
    "    start = time.time()\n",
    "    for i in tqdm(range(len(particles)), desc=\"Running Algorithm\"):\n",
    "        potentials[i], num_evals_i = f(i)\n",
    "        num_evals_total += num_evals_i\n",
    "    stop = time.time()\n",
    "    time_total = stop - start\n",
    "    return time_total, num_evals_total, potentials\n",
    "\n",
    "domain_length = 100\n",
    "n_crit = 20\n",
    "num_particles = 1000\n",
    "# generate randomly distributed particles\n",
    "particles = []\n",
    "for i in tqdm(range(num_particles), desc=\"Generating Particles\"):\n",
    "    particles.append(Particle(domain=domain_length))\n",
    "# build the tree\n",
    "print(\"Building tree...\")\n",
    "rootX = Cell(n_crit, center=[domain_length/2, domain_length/2], radius=domain_length/2)\n",
    "cellsX = build_tree(particles, rootX, n_crit)\n",
    "# plot the tree\n",
    "print(\"Plotting tree...\")\n",
    "plot_tree(particles, cellsX)\n",
    "\n",
    "# run both algorithms\n",
    "time_ds, num_evals_ds, potentials_ds = benchFun(lambda i : naive_direct_interaction(i, particles))\n",
    "time_bh, num_evals_bh, potentials_bh = benchFun(lambda i : barnes_hut(i, particles, 0, cellsX, n_crit, theta_limit=1))\n",
    "\n",
    "# calculate some error metrics\n",
    "rmsre = math.sqrt(sum(((potentials_bh - potentials_ds) / potentials_ds)**2) / len(potentials_ds))\n",
    "print(\"Relative mean squared root error BH (RMSRE): \", rmsre)\n",
    "rrmse = math.sqrt((sum((potentials_bh - potentials_ds)**2) / len(potentials_bh))) / sum(potentials_ds**2)\n",
    "print(\"Relative root mean squared error BH (RRMSE): \", rrmse)\n",
    "\n",
    "# random particle whose force we want to compare\n",
    "refId = 0\n",
    "# print table of comparisons\n",
    "print(tabulate([\n",
    "                ['Potential[' + str(refId) + ']', potentials_ds[refId], potentials_bh[refId]],\n",
    "                ['Time', time_ds, time_bh],\n",
    "                ['Evaluations', num_evals_ds, num_evals_bh],\n",
    "               ],\n",
    "               headers=['Metric', 'Naive', 'Barnes-Hut'],\n",
    "               tablefmt=\"fancy_grid\")\n",
    "      )\n"
   ]
  },
  {
   "cell_type": "markdown",
   "metadata": {
    "pycharm": {
     "name": "#%% md\n"
    }
   },
   "source": [
    "## Scaling and error plot\n",
    "\n",
    "Now, let's observe how evaluation time and error changes when playing around with parameters like number of particles, critical angle ($\\theta_{critical}$) and number of critical particles ($n_{crit}$)."
   ]
  },
  {
   "cell_type": "code",
   "execution_count": 15,
   "metadata": {
    "pycharm": {
     "name": "#%%\n"
    }
   },
   "outputs": [
    {
     "name": "stderr",
     "output_type": "stream",
     "text": [
      "100%|██████████| 9/9 [00:06<00:00,  1.40it/s]\n"
     ]
    }
   ],
   "source": [
    "number_particles = [100*i for i in range(1, 10)]\n",
    "#number_particles = [10000]\n",
    "barnes_hut_eval_time = np.zeros(len(number_particles), dtype=float)\n",
    "naive_eval_time = np.zeros(len(number_particles), dtype=float)\n",
    "num_evals_bh = np.zeros(len(number_particles), dtype=float)\n",
    "num_evals_ds = np.zeros(len(number_particles), dtype=float)\n",
    "n_crit = 20\n",
    "theta_crit = 1\n",
    "domain_length = 100\n",
    "for idx, N in enumerate(tqdm(number_particles)):\n",
    "    # create particles\n",
    "    particles = []\n",
    "    for i in range(N):\n",
    "        particles.append(Particle())\n",
    "    root = Cell(n_crit, center=[domain_length/2, domain_length/2], radius=domain_length/2)\n",
    "\n",
    "    # build the tree\n",
    "    cells = build_tree(particles, root, n_crit)\n",
    "    potentials_bh = np.zeros(len(particles), dtype=float)\n",
    "    potentials_ds = np.zeros(len(particles), dtype=float)\n",
    "    # Calculate using BH\n",
    "    barnes_hut_start = time.time()\n",
    "    for i in range(len(particles)):\n",
    "        potentials_bh[i], num_evals_bh_i = barnes_hut(i, particles, 0, cells, n_crit, theta_limit=theta_crit)\n",
    "        num_evals_bh[idx] += num_evals_bh_i\n",
    "    barnes_hut_end = time.time()\n",
    "    barnes_hut_eval_time[idx] = barnes_hut_end - barnes_hut_start\n",
    "    # Calculate using naive direct interaction\n",
    "    naive_start = time.time()\n",
    "    for i in range(len(particles)):\n",
    "        potentials_ds[i], num_evals_ds_i = naive_direct_interaction(i, particles)\n",
    "        num_evals_ds[idx] += num_evals_ds_i\n",
    "    naive_end = time.time()\n",
    "    naive_eval_time[idx] = naive_end - naive_start"
   ]
  },
  {
   "cell_type": "code",
   "execution_count": 16,
   "metadata": {
    "pycharm": {
     "name": "#%%\n"
    }
   },
   "outputs": [
    {
     "data": {
      "image/png": "[encoded data removed]",
      "text/plain": [
       "<Figure size 432x288 with 1 Axes>"
      ]
     },
     "metadata": {
      "needs_background": "light"
     },
     "output_type": "display_data"
    }
   ],
   "source": [
    "plt.plot(number_particles, barnes_hut_eval_time, label='Barnes Hut', marker='x')\n",
    "plt.plot(number_particles, naive_eval_time, label='Direct', marker='x')\n",
    "plt.ylabel('Evaluation time')\n",
    "plt.xlabel('Number of particles ($N$)')\n",
    "plt.legend()\n",
    "plt.grid()\n",
    "plt.show()"
   ]
  },
  {
   "cell_type": "code",
   "execution_count": 17,
   "metadata": {
    "pycharm": {
     "name": "#%%\n"
    }
   },
   "outputs": [
    {
     "data": {
      "image/png": "[encoded data removed]",
      "text/plain": [
       "<Figure size 432x288 with 1 Axes>"
      ]
     },
     "metadata": {
      "needs_background": "light"
     },
     "output_type": "display_data"
    }
   ],
   "source": [
    "plt.plot(number_particles, num_evals_bh, label='Barnes Hut', marker='x')\n",
    "plt.plot(number_particles, num_evals_ds, label='Direct', marker='x')\n",
    "plt.ylabel('Number of kernel evaluations')\n",
    "plt.xlabel('Number of particles ($N$)')\n",
    "plt.legend()\n",
    "plt.grid()\n",
    "plt.show()"
   ]
  },
  {
   "cell_type": "markdown",
   "metadata": {
    "pycharm": {
     "name": "#%% md\n"
    }
   },
   "source": [
    "### Task 4\n",
    "\n",
    "1. Plot error mean relative error for N=1000 particles, $\\theta_{critical}$ with different $n_{crit} = [2, 5, 10, 15, 20]$\n",
    "2. Plot error mean relative error for N=1000 particles, $n_{crit} = 5$ with different $\\theta_{critical} = [0.1, 0.5, 1]$\n",
    "\n",
    "Explain the behavior of the graphs"
   ]
  },
  {
   "cell_type": "markdown",
   "metadata": {
    "pycharm": {
     "name": "#%% md\n"
    }
   },
   "source": [
    "1. For different `n_crit`:"
   ]
  },
  {
   "cell_type": "code",
   "execution_count": 18,
   "metadata": {
    "pycharm": {
     "name": "#%%\n"
    }
   },
   "outputs": [
    {
     "name": "stderr",
     "output_type": "stream",
     "text": [
      "Naive: 100%|██████████| 1000/1000 [00:01<00:00, 776.04it/s]\n",
      "Barnes-Hut: 100%|██████████| 5/5 [00:08<00:00,  1.76s/it]\n"
     ]
    }
   ],
   "source": [
    "N = 1000\n",
    "particles = []\n",
    "\n",
    "# generate N random particles\n",
    "for i in range(N):\n",
    "    particles.append(Particle())\n",
    "potentials_ds = np.zeros(len(particles), dtype=float)\n",
    "\n",
    "# calculate the potential via direct sum for every particle\n",
    "for i in tqdm(range(len(particles)), desc=\"Naive\"):\n",
    "    potentials_ds[i], _ = naive_direct_interaction(i, particles)\n",
    "\n",
    "N_crit = [2,5,10,15,20]\n",
    "barnes_hut_eval_time = np.zeros(len(N_crit), dtype=float)\n",
    "naive_eval_time = np.zeros(len(N_crit), dtype=float)\n",
    "theta_crit = 0.5\n",
    "mean_error_n_crit = np.zeros(len(N_crit), dtype=float)\n",
    "# calculate the potential via barnes hut and different n_crit\n",
    "for idx, n_crit in enumerate(tqdm(N_crit, desc=\"Barnes-Hut\")):\n",
    "    root = Cell(n_crit, center=[0.5,0.5], radius=0.5)\n",
    "    # build the tree\n",
    "    cells = build_tree(particles, root, n_crit)\n",
    "    potentials_bh = np.zeros(N, dtype=float)\n",
    "    for i in range(len(particles)):\n",
    "        potentials_bh[i], _ = barnes_hut(i, particles, 0, cells, n_crit, theta_limit=0.5)\n",
    "    mean_error_n_crit[idx] = np.mean(np.abs((potentials_bh - potentials_ds) / potentials_ds))"
   ]
  },
  {
   "cell_type": "code",
   "execution_count": 19,
   "metadata": {
    "pycharm": {
     "name": "#%%\n"
    }
   },
   "outputs": [
    {
     "data": {
      "image/png": "[encoded data removed]",
      "text/plain": [
       "<Figure size 432x288 with 1 Axes>"
      ]
     },
     "metadata": {
      "needs_background": "light"
     },
     "output_type": "display_data"
    }
   ],
   "source": [
    "plt.plot(N_crit, mean_error_n_crit, label='Barnes Hut', marker='x')\n",
    "plt.ylabel('Error')\n",
    "plt.xlabel('n_crit')\n",
    "plt.grid()\n",
    "plt.legend()\n",
    "plt.show()"
   ]
  },
  {
   "cell_type": "markdown",
   "metadata": {
    "pycharm": {
     "name": "#%% md\n"
    }
   },
   "source": [
    "For different $\\theta_{critical}$:"
   ]
  },
  {
   "cell_type": "code",
   "execution_count": 20,
   "metadata": {
    "pycharm": {
     "name": "#%%\n"
    }
   },
   "outputs": [
    {
     "name": "stderr",
     "output_type": "stream",
     "text": [
      "Naive: 100%|██████████| 1000/1000 [00:01<00:00, 775.06it/s]\n",
      "Barnes-Hut: 100%|██████████| 3/3 [00:05<00:00,  1.87s/it]\n"
     ]
    }
   ],
   "source": [
    "N = 1000\n",
    "particles = []\n",
    "\n",
    "# generate N random particles\n",
    "for i in range(N):\n",
    "    particles.append(Particle())\n",
    "potentials_ds = np.zeros(len(particles), dtype=float)\n",
    "\n",
    "# calculate the potential via direct sum for every particle\n",
    "for i in tqdm(range(len(particles)), desc=\"Naive\"):\n",
    "    potentials_ds[i], _ = naive_direct_interaction(i, particles)\n",
    "\n",
    "n_crit = 5\n",
    "Theta_crit = [0.1, 0.5, 1]\n",
    "barnes_hut_eval_time = np.zeros(len(Theta_crit), dtype=float)\n",
    "naive_eval_time = np.zeros(len(Theta_crit), dtype=float)\n",
    "mean_error_theta = np.zeros(len(Theta_crit), dtype=float)\n",
    "# calculate the potential via barnes hut and different n_crit\n",
    "for idx, theta_crit in enumerate(tqdm(Theta_crit, desc=\"Barnes-Hut\")):\n",
    "    root = Cell(n_crit, center=[0.5,0.5], radius=0.5)\n",
    "    # build the tree\n",
    "    cells = build_tree(particles, root, n_crit)\n",
    "    potentials_bh = np.zeros(N, dtype=float)\n",
    "    for i in range(len(particles)):\n",
    "        potentials_bh[i], _ = barnes_hut(i, particles, 0, cells, n_crit, theta_limit=theta_crit)\n",
    "    mean_error_theta[idx] = np.mean(np.abs((potentials_bh - potentials_ds) / potentials_ds))"
   ]
  },
  {
   "cell_type": "code",
   "execution_count": 21,
   "metadata": {
    "pycharm": {
     "name": "#%%\n"
    }
   },
   "outputs": [
    {
     "data": {
      "image/png": "[encoded data removed]",
      "text/plain": [
       "<Figure size 432x288 with 1 Axes>"
      ]
     },
     "metadata": {
      "needs_background": "light"
     },
     "output_type": "display_data"
    }
   ],
   "source": [
    "plt.plot(Theta_crit, mean_error_theta, label='Barnes Hut', marker='x')\n",
    "plt.ylabel('Error')\n",
    "plt.xlabel('theta_crit')\n",
    "plt.grid()\n",
    "plt.legend()\n",
    "plt.show()"
   ]
  },
  {
   "cell_type": "code",
   "execution_count": null,
   "metadata": {},
   "outputs": [],
   "source": []
  }
 ],
 "metadata": {
  "kernelspec": {
   "display_name": "Python 3 (ipykernel)",
   "language": "python",
   "name": "python3"
  },
  "language_info": {
   "codemirror_mode": {
    "name": "ipython",
    "version": 3
   },
   "file_extension": ".py",
   "mimetype": "text/x-python",
   "name": "python",
   "nbconvert_exporter": "python",
   "pygments_lexer": "ipython3",
   "version": "3.8.8"
  }
 },
 "nbformat": 4,
 "nbformat_minor": 2
}
