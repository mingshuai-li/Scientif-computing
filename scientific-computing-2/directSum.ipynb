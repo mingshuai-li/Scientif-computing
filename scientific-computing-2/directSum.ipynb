{
 "cells": [
  {
   "cell_type": "markdown",
   "metadata": {},
   "source": [
    "# Molecular Dynamics : Introduction\n",
    "\n",
    "In this exercise, we discuss a simple implementation of an N-body gravity simulation."
   ]
  },
  {
   "cell_type": "code",
   "execution_count": 1,
   "metadata": {},
   "outputs": [],
   "source": [
    "import math\n",
    "%matplotlib inline\n",
    "import numpy as np\n",
    "import matplotlib.pyplot as plt\n",
    "import matplotlib.animation as animation\n",
    "from IPython.display import HTML\n",
    "import enum\n",
    "from copy import deepcopy\n",
    "import time\n",
    "from abc import ABCMeta"
   ]
  },
  {
   "cell_type": "markdown",
   "metadata": {},
   "source": [
    "We will use two classes ***Simulation*** and ***Particle*** for implementing a simple example. If you are not familiar with classes in Python, please look at a [tutorial](https://docs.python.org/3/tutorial/classes.html).\n",
    "\n",
    "## Task 1: The Simulator\n",
    "\n",
    "In this task we take a look at a simple particle simulation program.\n",
    "\n",
    "### Particle\n",
    "Have a look at the following class which describes a particle:"
   ]
  },
  {
   "cell_type": "code",
   "execution_count": 2,
   "metadata": {},
   "outputs": [],
   "source": [
    "class Particle(metaclass=ABCMeta):\n",
    "\n",
    "    def __init__(self, id, dim=2, lower=0, upper=1):\n",
    "        self.id = id\n",
    "        self.mass = 1.0\n",
    "        self.coordinates = np.random.uniform(lower, upper, dim)\n",
    "        self.velocity = np.random.uniform(-1, 1, dim)\n",
    "        self.force = np.zeros(dim)"
   ]
  },
  {
   "cell_type": "markdown",
   "metadata": {
    "pycharm": {
     "name": "#%% md\n"
    }
   },
   "source": [
    "### Force\n",
    "\n",
    "Complete the implementation of the function `gravity()` in the next cell. It should calculate the gravitation `p_j` induces on `p_i`.\n",
    "\n",
    "The formula for the calculation of the gravitational force is:\n",
    "\n",
    "$$F = \\frac{G \\cdot m_1 m_2}{||x_1 - x_2||^3}(x_1 - x_2)$$\n",
    "\n",
    "with:\n",
    "\n",
    "  | Name  | Explanation      |\n",
    "  |:-----:|:----------------:|\n",
    "  | $G$   | gravity constant |\n",
    "  | $m_i$ | mass of particle i |\n",
    "  | $x_i$ | position of particle i (in form vector) |\n"
   ]
  },
  {
   "cell_type": "code",
   "execution_count": 6,
   "metadata": {
    "pycharm": {
     "name": "#%%\n"
    }
   },
   "outputs": [],
   "source": [
    "# %load solution_gravity.py\n",
    "def gravity(p_i, p_j, constant = 1.):\n",
    "    \"\"\"\n",
    "    Calculates the gravity p_j applies to p_i\n",
    "    Args:\n",
    "        p_i: Particle i\n",
    "        p_j: Particle j\n",
    "        constant: Gravity constant\n",
    "\n",
    "    Returns:\n",
    "        Force applied by p_j on p_i\n",
    "    \"\"\"\n",
    "    direction = p_i.coordinates - p_j.coordinates\n",
    "\n",
    "    dist_squared = np.dot(direction, direction)\n",
    "    dist = math.sqrt(dist_squared)\n",
    "\n",
    "    factor = (constant * p_i.mass * p_j.mass) / (dist * dist * dist)\n",
    "\n",
    "    return factor * direction\n"
   ]
  },
  {
   "cell_type": "markdown",
   "metadata": {
    "pycharm": {
     "name": "#%% md\n"
    }
   },
   "source": [
    "### Simulation\n",
    "\n",
    "This class defines the whole simulation workflow including a visualization."
   ]
  },
  {
   "cell_type": "code",
   "execution_count": 7,
   "metadata": {
    "pycharm": {
     "name": "#%%\n"
    }
   },
   "outputs": [],
   "source": [
    "class Simulation(metaclass=ABCMeta):\n",
    "\n",
    "    def __init__(self, num_particles=20, delta_t=0.01):\n",
    "        self.dim = 2\n",
    "        self.particles = []\n",
    "        for index in range(num_particles):\n",
    "            self.particles.append(Particle(index, dim=self.dim))\n",
    "        self.delta_t = delta_t\n",
    "        self.boxMin = [0., 0.]\n",
    "        self.boxMax = [1., 1.]\n",
    "        self.time_simulation = 0.\n",
    "        self.time_force = 0.\n",
    "        self.time_positions = 0.\n",
    "        self.time_velocities = 0.\n",
    "\n",
    "    def update_positions(self):\n",
    "        \"\"\"\n",
    "        Update all particle positions according to the current velocities.\n",
    "        Also applies wall boundary conditions.\n",
    "        \"\"\"\n",
    "        delta_t_squared_half = 0.5 * self.delta_t * self.delta_t\n",
    "        for p in self.particles:\n",
    "            # move particle to new position\n",
    "            p.coordinates += (self.delta_t * p.velocity) + (delta_t_squared_half * p.force)\n",
    "            # respect boundaries\n",
    "            for i in range(len(p.coordinates)):\n",
    "                # if we are near a boundary invert the direction of the velocity\n",
    "                if (p.coordinates[i] - self.boxMin[i]) < 1e-2 or (self.boxMax[i] - p.coordinates[i]) < 1e-2:\n",
    "                    p.velocity[i] *= -1.0\n",
    "                # if we crossed the boundary reset the particle to the border\n",
    "                if p.coordinates[i] < self.boxMin[i]:\n",
    "                    p.coordinates[i] = self.boxMin[i]\n",
    "                if p.coordinates[i] > self.boxMax[i]:\n",
    "                    p.coordinates[i] = self.boxMax[i]\n",
    "\n",
    "    def update_velocities(self):\n",
    "        \"\"\"\n",
    "        Half a velocity update for all particles.\n",
    "        \"\"\"\n",
    "        delta_t_half = 0.5 * self.delta_t\n",
    "        for p in self.particles:\n",
    "            p.velocity +=  delta_t_half * p.force / p.mass\n",
    "\n",
    "    def calculate_forces(self):\n",
    "        \"\"\"\n",
    "        Calculate all pairwise gravity forces.\n",
    "        \"\"\"\n",
    "        for p_i in self.particles:\n",
    "            # reset forces\n",
    "            p_i.force = np.zeros(self.dim)\n",
    "            # direct sum\n",
    "            for p_j in self.particles:\n",
    "                # skip self interaction\n",
    "                if p_i.id == p_j.id:\n",
    "                    continue\n",
    "                p_i.force += gravity(p_i, p_j)\n",
    "\n",
    "    def get_coordinates(self):\n",
    "        \"\"\"Return the seprate arrays containing the x and y coordinates of particles\n",
    "        \"\"\"\n",
    "        x = np.zeros(len(self.particles))\n",
    "        y = np.zeros(len(self.particles))\n",
    "        for idx, particle in enumerate(self.particles):\n",
    "            x[idx], y[idx] = particle.coordinates[0], particle.coordinates[1]\n",
    "        return  x, y\n",
    "    \n",
    "    def init_simulation(self, ax):\n",
    "        ax.set_xlim((self.boxMin[0], self.boxMax[0]))\n",
    "        ax.set_ylim((self.boxMin[1], self.boxMax[1]))\n",
    "\n",
    "        self.particles_plot, = ax.plot([], [], 'go')\n",
    "        self.particles_plot.set_data([], [])\n",
    "\n",
    "    def do_simulation(self):\n",
    "        \"\"\"\n",
    "        Performs one time step of the simulation.\n",
    "        \"\"\"\n",
    "        time_iteration_start = time.time()\n",
    "\n",
    "        # update positions and periodic boundaries\n",
    "        time_positions_start = time.time()\n",
    "        self.update_positions()\n",
    "        self.time_positions += time.time() - time_positions_start\n",
    "\n",
    "        # update velocities part 1\n",
    "        time_velocities_start = time.time()\n",
    "        self.update_velocities()\n",
    "        self.time_velocities += time.time() - time_velocities_start\n",
    "\n",
    "        # reset and calculate forces\n",
    "        time_force_start = time.time()\n",
    "        self.calculate_forces()\n",
    "        self.time_force += time.time() - time_force_start\n",
    "\n",
    "        # update velocities part 2\n",
    "        time_velocities_start = time.time()\n",
    "        self.update_velocities()\n",
    "        self.time_velocities += time.time() - time_velocities_start\n",
    "\n",
    "        self.time_simulation += time.time() - time_iteration_start\n",
    "\n",
    "    def get_animation_frame(self, i):\n",
    "        self.do_simulation()\n",
    "\n",
    "        x, y = self.get_coordinates()\n",
    "        self.particles_plot.set_data(x, y)\n",
    "        plt.title('t=' + str(i + 1))\n",
    "        return (self.particles_plot,)\n",
    "    \n",
    "    def get_time_analysis(self):\n",
    "        \"\"\"\n",
    "        Prints the percentage of time stpent on different parts of the simulation\n",
    "        \"\"\"\n",
    "        print(\"Total time:  {:.2f} [s]\".format(self.time_simulation))\n",
    "        print(\"Percentages of time:\")\n",
    "        print(\"   Positions          {:.2f}%\".format(self.time_positions / self.time_simulation * 100.))\n",
    "        print(\"   Velocities         {:.2f}%\".format(self.time_velocities / self.time_simulation * 100.))\n",
    "        print(\"   Force Calculation {:.2f}%\".format(self.time_force / self.time_simulation * 100.))"
   ]
  },
  {
   "cell_type": "markdown",
   "metadata": {},
   "source": [
    "## Task 2: Two-Body Simulation\n",
    "\n",
    "Let us simulate a simple two body interaction. We simulate the head on collision of two particles of same mass in a box.\n",
    "\n",
    "Modify the value of delta_t, say increase it to 0.05. What do you observe? Is the behavior physical? Can you explain the behavior?"
   ]
  },
  {
   "cell_type": "code",
   "execution_count": 8,
   "metadata": {
    "scrolled": false
   },
   "outputs": [
    {
     "ename": "RuntimeError",
     "evalue": "Requested MovieWriter (ffmpeg) not available",
     "output_type": "error",
     "traceback": [
      "\u001b[1;31m---------------------------------------------------------------------------\u001b[0m",
      "\u001b[1;31mRuntimeError\u001b[0m                              Traceback (most recent call last)",
      "\u001b[1;32m<ipython-input-8-56d67a0c1aa2>\u001b[0m in \u001b[0;36m<module>\u001b[1;34m\u001b[0m\n\u001b[0;32m     18\u001b[0m \u001b[1;33m\u001b[0m\u001b[0m\n\u001b[0;32m     19\u001b[0m \u001b[1;31m# Get the animation\u001b[0m\u001b[1;33m\u001b[0m\u001b[1;33m\u001b[0m\u001b[1;33m\u001b[0m\u001b[0m\n\u001b[1;32m---> 20\u001b[1;33m \u001b[0mHTML\u001b[0m\u001b[1;33m(\u001b[0m\u001b[0manim\u001b[0m\u001b[1;33m.\u001b[0m\u001b[0mto_html5_video\u001b[0m\u001b[1;33m(\u001b[0m\u001b[1;33m)\u001b[0m\u001b[1;33m)\u001b[0m\u001b[1;33m\u001b[0m\u001b[1;33m\u001b[0m\u001b[0m\n\u001b[0m",
      "\u001b[1;32m~\\anaconda3\\lib\\site-packages\\matplotlib\\animation.py\u001b[0m in \u001b[0;36mto_html5_video\u001b[1;34m(self, embed_limit)\u001b[0m\n\u001b[0;32m   1330\u001b[0m                 \u001b[1;31m# We create a writer manually so that we can get the\u001b[0m\u001b[1;33m\u001b[0m\u001b[1;33m\u001b[0m\u001b[1;33m\u001b[0m\u001b[0m\n\u001b[0;32m   1331\u001b[0m                 \u001b[1;31m# appropriate size for the tag\u001b[0m\u001b[1;33m\u001b[0m\u001b[1;33m\u001b[0m\u001b[1;33m\u001b[0m\u001b[0m\n\u001b[1;32m-> 1332\u001b[1;33m                 \u001b[0mWriter\u001b[0m \u001b[1;33m=\u001b[0m \u001b[0mwriters\u001b[0m\u001b[1;33m[\u001b[0m\u001b[0mmpl\u001b[0m\u001b[1;33m.\u001b[0m\u001b[0mrcParams\u001b[0m\u001b[1;33m[\u001b[0m\u001b[1;34m'animation.writer'\u001b[0m\u001b[1;33m]\u001b[0m\u001b[1;33m]\u001b[0m\u001b[1;33m\u001b[0m\u001b[1;33m\u001b[0m\u001b[0m\n\u001b[0m\u001b[0;32m   1333\u001b[0m                 writer = Writer(codec='h264',\n\u001b[0;32m   1334\u001b[0m                                 \u001b[0mbitrate\u001b[0m\u001b[1;33m=\u001b[0m\u001b[0mmpl\u001b[0m\u001b[1;33m.\u001b[0m\u001b[0mrcParams\u001b[0m\u001b[1;33m[\u001b[0m\u001b[1;34m'animation.bitrate'\u001b[0m\u001b[1;33m]\u001b[0m\u001b[1;33m,\u001b[0m\u001b[1;33m\u001b[0m\u001b[1;33m\u001b[0m\u001b[0m\n",
      "\u001b[1;32m~\\anaconda3\\lib\\site-packages\\matplotlib\\animation.py\u001b[0m in \u001b[0;36m__getitem__\u001b[1;34m(self, name)\u001b[0m\n\u001b[0;32m    164\u001b[0m         \u001b[1;32mif\u001b[0m \u001b[0mself\u001b[0m\u001b[1;33m.\u001b[0m\u001b[0mis_available\u001b[0m\u001b[1;33m(\u001b[0m\u001b[0mname\u001b[0m\u001b[1;33m)\u001b[0m\u001b[1;33m:\u001b[0m\u001b[1;33m\u001b[0m\u001b[1;33m\u001b[0m\u001b[0m\n\u001b[0;32m    165\u001b[0m             \u001b[1;32mreturn\u001b[0m \u001b[0mself\u001b[0m\u001b[1;33m.\u001b[0m\u001b[0m_registered\u001b[0m\u001b[1;33m[\u001b[0m\u001b[0mname\u001b[0m\u001b[1;33m]\u001b[0m\u001b[1;33m\u001b[0m\u001b[1;33m\u001b[0m\u001b[0m\n\u001b[1;32m--> 166\u001b[1;33m         \u001b[1;32mraise\u001b[0m \u001b[0mRuntimeError\u001b[0m\u001b[1;33m(\u001b[0m\u001b[1;34mf\"Requested MovieWriter ({name}) not available\"\u001b[0m\u001b[1;33m)\u001b[0m\u001b[1;33m\u001b[0m\u001b[1;33m\u001b[0m\u001b[0m\n\u001b[0m\u001b[0;32m    167\u001b[0m \u001b[1;33m\u001b[0m\u001b[0m\n\u001b[0;32m    168\u001b[0m \u001b[1;33m\u001b[0m\u001b[0m\n",
      "\u001b[1;31mRuntimeError\u001b[0m: Requested MovieWriter (ffmpeg) not available"
     ]
    },
    {
     "data": {
      "image/png": "[encoded data removed]",
      "text/plain": [
       "<Figure size 432x288 with 1 Axes>"
      ]
     },
     "metadata": {
      "needs_background": "light"
     },
     "output_type": "display_data"
    }
   ],
   "source": [
    "# First set up the figure, the axis, and the plot element we want to animate\n",
    "fig, ax = plt.subplots()\n",
    "num_time_steps = 100\n",
    "\n",
    "# Create a simulation object\n",
    "simulation = Simulation(delta_t=.01, num_particles=2)\n",
    "\n",
    "# the object initialises the coordinates and velocities with random values\n",
    "# for head on collision we modify the values\n",
    "simulation.particles[0].coordinates = np.array([0.5, .25])\n",
    "simulation.particles[1].coordinates = np.array([0.5, .75])\n",
    "simulation.particles[0].velocity = np.array([0., 1.])\n",
    "simulation.particles[1].velocity = np.array([0., -1.])\n",
    "\n",
    "# Do simulation and get animation\n",
    "simulation.init_simulation(ax)\n",
    "anim = animation.FuncAnimation(fig, simulation.get_animation_frame, frames=num_time_steps, interval=300, blit=True)\n",
    "\n",
    "# Get the animation\n",
    "HTML(anim.to_html5_video())"
   ]
  },
  {
   "cell_type": "markdown",
   "metadata": {},
   "source": [
    "## Task 3: N-Body Simulation\n",
    "\n",
    "Now let us increase the number of particles to 100.\n",
    "\n",
    "The particle positions are generated randomly so if you run into problems either change something that affects the seed or decrease your `delta_t`."
   ]
  },
  {
   "cell_type": "code",
   "execution_count": 9,
   "metadata": {},
   "outputs": [
    {
     "ename": "RuntimeError",
     "evalue": "Requested MovieWriter (ffmpeg) not available",
     "output_type": "error",
     "traceback": [
      "\u001b[1;31m---------------------------------------------------------------------------\u001b[0m",
      "\u001b[1;31mRuntimeError\u001b[0m                              Traceback (most recent call last)",
      "\u001b[1;32m<ipython-input-9-03a0c2c82071>\u001b[0m in \u001b[0;36m<module>\u001b[1;34m\u001b[0m\n\u001b[0;32m     11\u001b[0m \u001b[1;33m\u001b[0m\u001b[0m\n\u001b[0;32m     12\u001b[0m \u001b[1;31m# Get the animation\u001b[0m\u001b[1;33m\u001b[0m\u001b[1;33m\u001b[0m\u001b[1;33m\u001b[0m\u001b[0m\n\u001b[1;32m---> 13\u001b[1;33m \u001b[0mHTML\u001b[0m\u001b[1;33m(\u001b[0m\u001b[0manim\u001b[0m\u001b[1;33m.\u001b[0m\u001b[0mto_html5_video\u001b[0m\u001b[1;33m(\u001b[0m\u001b[1;33m)\u001b[0m\u001b[1;33m)\u001b[0m\u001b[1;33m\u001b[0m\u001b[1;33m\u001b[0m\u001b[0m\n\u001b[0m",
      "\u001b[1;32m~\\anaconda3\\lib\\site-packages\\matplotlib\\animation.py\u001b[0m in \u001b[0;36mto_html5_video\u001b[1;34m(self, embed_limit)\u001b[0m\n\u001b[0;32m   1330\u001b[0m                 \u001b[1;31m# We create a writer manually so that we can get the\u001b[0m\u001b[1;33m\u001b[0m\u001b[1;33m\u001b[0m\u001b[1;33m\u001b[0m\u001b[0m\n\u001b[0;32m   1331\u001b[0m                 \u001b[1;31m# appropriate size for the tag\u001b[0m\u001b[1;33m\u001b[0m\u001b[1;33m\u001b[0m\u001b[1;33m\u001b[0m\u001b[0m\n\u001b[1;32m-> 1332\u001b[1;33m                 \u001b[0mWriter\u001b[0m \u001b[1;33m=\u001b[0m \u001b[0mwriters\u001b[0m\u001b[1;33m[\u001b[0m\u001b[0mmpl\u001b[0m\u001b[1;33m.\u001b[0m\u001b[0mrcParams\u001b[0m\u001b[1;33m[\u001b[0m\u001b[1;34m'animation.writer'\u001b[0m\u001b[1;33m]\u001b[0m\u001b[1;33m]\u001b[0m\u001b[1;33m\u001b[0m\u001b[1;33m\u001b[0m\u001b[0m\n\u001b[0m\u001b[0;32m   1333\u001b[0m                 writer = Writer(codec='h264',\n\u001b[0;32m   1334\u001b[0m                                 \u001b[0mbitrate\u001b[0m\u001b[1;33m=\u001b[0m\u001b[0mmpl\u001b[0m\u001b[1;33m.\u001b[0m\u001b[0mrcParams\u001b[0m\u001b[1;33m[\u001b[0m\u001b[1;34m'animation.bitrate'\u001b[0m\u001b[1;33m]\u001b[0m\u001b[1;33m,\u001b[0m\u001b[1;33m\u001b[0m\u001b[1;33m\u001b[0m\u001b[0m\n",
      "\u001b[1;32m~\\anaconda3\\lib\\site-packages\\matplotlib\\animation.py\u001b[0m in \u001b[0;36m__getitem__\u001b[1;34m(self, name)\u001b[0m\n\u001b[0;32m    164\u001b[0m         \u001b[1;32mif\u001b[0m \u001b[0mself\u001b[0m\u001b[1;33m.\u001b[0m\u001b[0mis_available\u001b[0m\u001b[1;33m(\u001b[0m\u001b[0mname\u001b[0m\u001b[1;33m)\u001b[0m\u001b[1;33m:\u001b[0m\u001b[1;33m\u001b[0m\u001b[1;33m\u001b[0m\u001b[0m\n\u001b[0;32m    165\u001b[0m             \u001b[1;32mreturn\u001b[0m \u001b[0mself\u001b[0m\u001b[1;33m.\u001b[0m\u001b[0m_registered\u001b[0m\u001b[1;33m[\u001b[0m\u001b[0mname\u001b[0m\u001b[1;33m]\u001b[0m\u001b[1;33m\u001b[0m\u001b[1;33m\u001b[0m\u001b[0m\n\u001b[1;32m--> 166\u001b[1;33m         \u001b[1;32mraise\u001b[0m \u001b[0mRuntimeError\u001b[0m\u001b[1;33m(\u001b[0m\u001b[1;34mf\"Requested MovieWriter ({name}) not available\"\u001b[0m\u001b[1;33m)\u001b[0m\u001b[1;33m\u001b[0m\u001b[1;33m\u001b[0m\u001b[0m\n\u001b[0m\u001b[0;32m    167\u001b[0m \u001b[1;33m\u001b[0m\u001b[0m\n\u001b[0;32m    168\u001b[0m \u001b[1;33m\u001b[0m\u001b[0m\n",
      "\u001b[1;31mRuntimeError\u001b[0m: Requested MovieWriter (ffmpeg) not available"
     ]
    },
    {
     "data": {
      "image/png": "[encoded data removed]",
      "text/plain": [
       "<Figure size 432x288 with 1 Axes>"
      ]
     },
     "metadata": {
      "needs_background": "light"
     },
     "output_type": "display_data"
    }
   ],
   "source": [
    "# First set up the figure, the axis, and the plot element we want to animate\n",
    "fig, ax = plt.subplots()\n",
    "num_time_steps = 100\n",
    "\n",
    "# Create a simulation object\n",
    "simulation = Simulation(delta_t=.0005, num_particles=100)\n",
    "\n",
    "# Do simulation\n",
    "simulation.init_simulation(ax)\n",
    "anim = animation.FuncAnimation(fig, simulation.get_animation_frame, frames=num_time_steps, interval=300, blit=True)\n",
    "\n",
    "# Get the animation\n",
    "HTML(anim.to_html5_video())"
   ]
  },
  {
   "cell_type": "markdown",
   "metadata": {
    "pycharm": {
     "name": "#%% md\n"
    }
   },
   "source": [
    "### Breakdown of the Simulation Time\n",
    "\n",
    "Check which part of the simulation consumes most of the time."
   ]
  },
  {
   "cell_type": "code",
   "execution_count": null,
   "metadata": {
    "pycharm": {
     "name": "#%%\n"
    }
   },
   "outputs": [],
   "source": [
    "simulation.get_time_analysis()"
   ]
  },
  {
   "cell_type": "markdown",
   "metadata": {},
   "source": [
    "### Observations\n",
    "From the above two examples we can make following observations:\n",
    "1. Time stepping methods controls the stability of the problem. Improper handling of time stepping can lead to non-physical solutions\n",
    "2. Force Calculation takes up most of the time of the simulation. In order to make the simulation faster, we need to increase algorithmic efficiency there."
   ]
  }
 ],
 "metadata": {
  "kernelspec": {
   "display_name": "Python 3",
   "language": "python",
   "name": "python3"
  },
  "language_info": {
   "codemirror_mode": {
    "name": "ipython",
    "version": 3
   },
   "file_extension": ".py",
   "mimetype": "text/x-python",
   "name": "python",
   "nbconvert_exporter": "python",
   "pygments_lexer": "ipython3",
   "version": "3.8.8"
  }
 },
 "nbformat": 4,
 "nbformat_minor": 2
}
