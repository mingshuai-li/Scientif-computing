{
 "cells": [
  {
   "cell_type": "code",
   "execution_count": 1,
   "metadata": {},
   "outputs": [],
   "source": [
    "%matplotlib inline\n",
    "import numpy as np\n",
    "# Print with smaller accurary to make comparisons easier\n",
    "np.set_printoptions(precision=7, suppress=True)\n",
    "\n",
    "import matplotlib.pyplot as plt\n"
   ]
  },
  {
   "cell_type": "markdown",
   "metadata": {},
   "source": [
    "# Discretization\n",
    "The discretization follows the first multi-grid worksheet completely.\n",
    "We discretize\n",
    "$$ \\begin{array}{r c l}\n",
    "-\\cfrac{d^2 u}{d x^2}&=&f(x),~~~x\\in(0,1),\\\\\n",
    "u(0)=u(1) & = & 0.\n",
    "\\end{array}\n",
    "$$\n",
    "on a grid with $h=1/N$ and $N+1$ grid points.\n",
    "\n",
    "Let's define a grid first."
   ]
  },
  {
   "cell_type": "code",
   "execution_count": 2,
   "metadata": {},
   "outputs": [
    {
     "data": {
      "text/plain": [
       "0.25"
      ]
     },
     "execution_count": 2,
     "metadata": {},
     "output_type": "execute_result"
    }
   ],
   "source": [
    "class Grid(object):\n",
    "    def __init__(self, num_points):\n",
    "        # Num points does not include boundary!\n",
    "        self.num_points = num_points\n",
    "        self.spacing = 1.0/(num_points + 1)\n",
    "        \n",
    "    def get_nth_point(self, i):\n",
    "        return self.spacing * (i + 1)\n",
    "        \n",
    "\n",
    "def make_grid(level):\n",
    "    # Level is refinement\n",
    "    # Consider interval [0,1]\n",
    "    # Level one has one point at 1/2\n",
    "    # Level two has points at 1/4, 1/2, 3/4\n",
    "    num_points = 2**(level + 1) - 1\n",
    "    return Grid(num_points)\n",
    "\n",
    "\n",
    "grid = make_grid(level=2)\n",
    "grid.get_nth_point(1)"
   ]
  },
  {
   "cell_type": "markdown",
   "metadata": {},
   "source": [
    "We use a finite difference discretization and eliminate all rows corresponding to the Dirichlet boundary conditions.\n",
    "For more details, see the worksheet.\n",
    "The matrix then looks like:\n",
    "$$A_{ij}:=\\left\\{\\begin{array}{r c l}\n",
    "-\\frac{1}{h^2} & \\hbox{if} & |i-j|=1,\\\\\n",
    "\\frac{2}{h^2} & \\hbox{if} & i=j,\\\\\n",
    "0 & \\hbox{otherwise},\\end{array}\\right.\n",
    "$$"
   ]
  },
  {
   "cell_type": "code",
   "execution_count": 3,
   "metadata": {},
   "outputs": [
    {
     "data": {
      "text/plain": [
       "array([[128., -64.,   0.,   0.,   0.,   0.,   0.],\n",
       "       [-64., 128., -64.,   0.,   0.,   0.,   0.],\n",
       "       [  0., -64., 128., -64.,   0.,   0.,   0.],\n",
       "       [  0.,   0., -64., 128., -64.,   0.,   0.],\n",
       "       [  0.,   0.,   0., -64., 128., -64.,   0.],\n",
       "       [  0.,   0.,   0.,   0., -64., 128., -64.],\n",
       "       [  0.,   0.,   0.,   0.,   0., -64., 128.]])"
      ]
     },
     "execution_count": 3,
     "metadata": {},
     "output_type": "execute_result"
    }
   ],
   "source": [
    "def create_matrix(grid):\n",
    "    n = grid.num_points\n",
    "    h = grid.spacing\n",
    "    \n",
    "    def val(i,j):\n",
    "        if i == j:\n",
    "            return 2/h**2\n",
    "        elif np.abs(i-j) == 1:\n",
    "            return -1/h**2\n",
    "        else:\n",
    "            return 0.0\n",
    "        \n",
    "    return np.fromfunction(np.vectorize(val), (n, n), dtype=float)\n",
    "\n",
    "\n",
    "discretization = create_matrix(grid)\n",
    "discretization\n"
   ]
  },
  {
   "cell_type": "markdown",
   "metadata": {},
   "source": [
    "# Restriction by injection\n",
    "We use restriction by injection.\n",
    "The restriction operator maps from a fine grid solution (size: in_dim) to a coarse grid solution (size: out_dim).\n",
    "It does this by using the fact that fine and coarse grid solution have shared nodes. The solution at these shared nodes is taken as solution for the coarse grid.\n",
    "See lecture for more details"
   ]
  },
  {
   "cell_type": "code",
   "execution_count": 4,
   "metadata": {},
   "outputs": [
    {
     "data": {
      "text/plain": [
       "array([[0, 1, 0, 0, 0, 0, 0],\n",
       "       [0, 0, 0, 1, 0, 0, 0],\n",
       "       [0, 0, 0, 0, 0, 1, 0]])"
      ]
     },
     "execution_count": 4,
     "metadata": {},
     "output_type": "execute_result"
    }
   ],
   "source": [
    "# %load solution_injection.py\n",
    "def injection_matrix(in_dim, out_dim):\n",
    "    # TODO Implement\n",
    "    def val(i,j):\n",
    "        i = i + 1\n",
    "        j = j + 1\n",
    "        if 2*i ==  j:\n",
    "            return 1\n",
    "        else:\n",
    "            return 0\n",
    "        \n",
    "    return np.fromfunction(np.vectorize(val), (in_dim, out_dim), dtype=float)\n",
    "\n",
    "injection_matrix(3, 7)"
   ]
  },
  {
   "cell_type": "markdown",
   "metadata": {},
   "source": [
    "# Linear Interpolation\n",
    "We use the linear interpolation scheme, defined by\n",
    "$$\n",
    "(P q^m_{2_h})_i = \n",
    "\\begin{cases}\n",
    "(q^m_{2h})_{i/2}\n",
    "& \n",
    "\\text{for } i = 2, 4, \\ldots, N -2\n",
    "\\\\\n",
    "\\frac{1}{2} \\left( \n",
    "(q^m_{2h})_{(i-1)/2} + (q^m_{2h})_{(i+1)/2}\n",
    "\\right)\n",
    "& \n",
    "\\text{for } i = 1, 3, \\ldots, N - 1\n",
    "\\end{cases}\n",
    "$$"
   ]
  },
  {
   "cell_type": "code",
   "execution_count": 5,
   "metadata": {},
   "outputs": [
    {
     "data": {
      "text/plain": [
       "array([[0.5, 0. , 0. ],\n",
       "       [1. , 0. , 0. ],\n",
       "       [0.5, 0.5, 0. ],\n",
       "       [0. , 1. , 0. ],\n",
       "       [0. , 0.5, 0.5],\n",
       "       [0. , 0. , 1. ],\n",
       "       [0. , 0. , 0.5]])"
      ]
     },
     "execution_count": 5,
     "metadata": {},
     "output_type": "execute_result"
    }
   ],
   "source": [
    "# %load solution_interpolation.py\n",
    "def interpolation_matrix(in_dim, out_dim):\n",
    "    def val(i,j):\n",
    "        i = i + 1\n",
    "        j = j + 1\n",
    "        if i % 2 == 0 and j == i//2:\n",
    "            return 1.0\n",
    "        elif i % 2 == 1 and (j == (i+1)//2 or j == (i-1)//2):\n",
    "            return 0.5\n",
    "        return 0.0\n",
    "                \n",
    "    return np.fromfunction(np.vectorize(val), (in_dim, out_dim), dtype=float)\n",
    "\n",
    "\n",
    "interpolation_matrix(7, 3)\n"
   ]
  },
  {
   "cell_type": "markdown",
   "metadata": {},
   "source": [
    "# 2 Step MG Scheme"
   ]
  },
  {
   "cell_type": "code",
   "execution_count": 6,
   "metadata": {},
   "outputs": [],
   "source": [
    "def jacobi_relaxation(A, x, b, num_it, omega=2.0/3.0):\n",
    "    diagonal_part = np.diag(A.diagonal())\n",
    "    diagonal_part_inv = np.diag(1/A.diagonal())\n",
    "    rest = A - diagonal_part\n",
    "    for i in range(num_it):\n",
    "        x = omega * (diagonal_part_inv @ (b - rest @ x)) + (1.0 - omega) * x\n",
    "    return x"
   ]
  },
  {
   "cell_type": "code",
   "execution_count": 7,
   "metadata": {},
   "outputs": [
    {
     "name": "stdout",
     "output_type": "stream",
     "text": [
      "Initial error: 10.327955570649042\n",
      "Error at it 0 = 1.0662402999395435e-05\n",
      "\tcompared to prev error reduced by\t 10.327944908246042\n",
      "Error at it 1 = 7.285776441962125e-07\n",
      "\tcompared to prev error reduced by\t 9.933825355199222e-06\n",
      "Error at it 2 = 3.0555383789778395e-08\n",
      "\tcompared to prev error reduced by\t 6.980222604064341e-07\n",
      "Error at it 3 = 2.0230543909061808e-09\n",
      "\tcompared to prev error reduced by\t 2.8532329398872215e-08\n",
      "Error at it 4 = 1.043630194718287e-10\n",
      "\tcompared to prev error reduced by\t 1.918691371434352e-09\n",
      "Error at it 5 = 6.789850457277317e-12\n",
      "\tcompared to prev error reduced by\t 9.757316901455138e-11\n",
      "Error at it 6 = 4.201720666340541e-13\n",
      "\tcompared to prev error reduced by\t 6.369678390643263e-12\n",
      "Error at it 7 = 5.436503555804347e-13\n",
      "\tcompared to prev error reduced by\t -1.2347828894638055e-13\n",
      "Error at it 8 = 7.501007487170766e-13\n",
      "\tcompared to prev error reduced by\t -2.0645039313664196e-13\n",
      "Error at it 9 = 5.127489085124402e-13\n",
      "\tcompared to prev error reduced by\t 2.373518402046364e-13\n"
     ]
    }
   ],
   "source": [
    "  \n",
    "class Multigrid(object):\n",
    "    def __init__(self, level_coarse, omega, u_0, f, jacobi_its=40):\n",
    "        self.omega = omega\n",
    "        self.level_coarse = level_coarse\n",
    "        self.level_fine = level_coarse + 1\n",
    "\n",
    "        self.grid_coarse = make_grid(level=self.level_coarse)\n",
    "        self.grid_fine = make_grid(level=self.level_fine)\n",
    "\n",
    "        self.u_0 = u_0\n",
    "        self.f = f\n",
    "\n",
    "        self.jacobi_its = jacobi_its\n",
    "        \n",
    "        # Setup fine grid\n",
    "        self.discretization_fine = create_matrix(self.grid_fine)\n",
    "\n",
    "        # Projection\n",
    "        self.R = injection_matrix(self.grid_coarse.num_points, self.grid_fine.num_points)\n",
    "        self.P = interpolation_matrix(self.grid_fine.num_points, self.grid_coarse.num_points)\n",
    "        \n",
    "        # Setup coarse grid\n",
    "        self.discretization_coarse = (\n",
    "           self.R @ self.discretization_fine @ self.P)\n",
    "        self.discretization_coarse = create_matrix(self.grid_coarse)\n",
    "\n",
    "        # Solve linear system (for comparison)\n",
    "        self.u_direct = np.linalg.solve(\n",
    "            self.discretization_fine,\n",
    "            self.f)\n",
    "\n",
    "        self.u = u_0\n",
    "    \n",
    "    def step(self):\n",
    "        # Pre-smoothing\n",
    "        self.u = jacobi_relaxation(self.discretization_fine, self.u, self.f, \n",
    "                                      num_it=self.jacobi_its,\n",
    "                                      omega=self.omega)\n",
    "\n",
    "        self.residual = self.f - self.discretization_fine @ self.u\n",
    "\n",
    "        self.residual_coarse = self.R @ self.residual\n",
    "\n",
    "        # Solve exactly on coarse grid\n",
    "        self.error_coarse = np.linalg.solve(self.discretization_coarse, self.residual_coarse)\n",
    "        \n",
    "        # Project error to fine grid\n",
    "        self.error_fine = self.P @ self.error_coarse\n",
    "\n",
    "        self.u += self.error_fine\n",
    "        \n",
    "        # Post smoothing\n",
    "        self.u = jacobi_relaxation(self.discretization_fine, self.u, self.f, \n",
    "                                    num_it=self.jacobi_its,\n",
    "                                    omega=self.omega)\n",
    "\n",
    "    def compute_error(self):\n",
    "        return np.linalg.norm(self.u - self.u_direct)\n",
    "    \n",
    "level_coarse = 5\n",
    "grid_fine = make_grid(level=level_coarse+1)\n",
    "f = np.ones(grid_fine.num_points) * 10\n",
    "u_0 = np.zeros(grid_fine.num_points)\n",
    "    \n",
    "mg = Multigrid(level_coarse=level_coarse,\n",
    "               omega=1/2,\n",
    "               u_0=u_0,\n",
    "               f=f,\n",
    "               jacobi_its=2)\n",
    "\n",
    "# Record for plotting\n",
    "errors_mg = []\n",
    "\n",
    "prev_error = mg.compute_error()\n",
    "residuals_mg = []\n",
    "print(f\"Initial error: {prev_error}\")\n",
    "for it in range(10):\n",
    "    mg.step()\n",
    "    error = mg.compute_error()\n",
    "    print(\"Error at it\", it, \"=\", error)\n",
    "    print(\"\\tcompared to prev error reduced by\\t\", prev_error - error)\n",
    "    prev_error = error\n",
    "    \n",
    "    errors_mg += [error]\n",
    "    residuals_mg += [np.linalg.norm(mg.residual)]"
   ]
  },
  {
   "cell_type": "code",
   "execution_count": 8,
   "metadata": {},
   "outputs": [
    {
     "name": "stdout",
     "output_type": "stream",
     "text": [
      "Initial error: 10.327955570649042\n",
      "Error at it 0 = 10.32585451173009\n",
      "\tcompared to prev error reduced by\t 0.002101058918951182\n",
      "Error at it 1 = 10.32375403869862\n",
      "\tcompared to prev error reduced by\t 0.004201531950421611\n",
      "Error at it 2 = 10.321654145030593\n",
      "\tcompared to prev error reduced by\t 0.0063014256184494855\n",
      "Error at it 3 = 10.319554826144284\n",
      "\tcompared to prev error reduced by\t 0.00840074450475825\n",
      "Error at it 4 = 10.31745607829982\n",
      "\tcompared to prev error reduced by\t 0.010499492349222095\n",
      "Error at it 5 = 10.315357898270515\n",
      "\tcompared to prev error reduced by\t 0.012597672378527491\n",
      "Error at it 6 = 10.313260283185649\n",
      "\tcompared to prev error reduced by\t 0.014695287463393214\n",
      "Error at it 7 = 10.311163230440306\n",
      "\tcompared to prev error reduced by\t 0.016792340208736434\n",
      "Error at it 8 = 10.309066737637846\n",
      "\tcompared to prev error reduced by\t 0.018888833011196482\n",
      "Error at it 9 = 10.306970802550522\n",
      "\tcompared to prev error reduced by\t 0.020984768098520235\n"
     ]
    }
   ],
   "source": [
    "# Compare with Jacobi only:\n",
    "u_jacobi = u_0\n",
    "prev_error_jacobi = np.linalg.norm(u_jacobi - mg.u_direct)\n",
    "print(f\"Initial error: {prev_error_jacobi}\")\n",
    "errors_jacobi = []\n",
    "residuals_jacobi = []\n",
    "for it in range(10):\n",
    "    u_jacobi = jacobi_relaxation(mg.discretization_fine, u_jacobi, f, num_it=1, omega=2/3)\n",
    "    error = np.linalg.norm(u_jacobi - mg.u_direct)\n",
    "    errors_jacobi.append(error)\n",
    "    residual = np.linalg.norm(f - mg.discretization_fine @ u_jacobi)\n",
    "    residuals_jacobi.append(residual)\n",
    "    print(\"Error at it\", it, \"=\", error)\n",
    "    print(\"\\tcompared to prev error reduced by\\t\", prev_error_jacobi - error)\n",
    "\n"
   ]
  },
  {
   "cell_type": "code",
   "execution_count": 9,
   "metadata": {},
   "outputs": [
    {
     "data": {
      "text/plain": [
       "Text(0, 0.5, 'Residual')"
      ]
     },
     "execution_count": 9,
     "metadata": {},
     "output_type": "execute_result"
    },
    {
     "data": {
      "image/png": "[encoded data removed]",
      "text/plain": [
       "<Figure size 720x720 with 2 Axes>"
      ]
     },
     "metadata": {
      "needs_background": "light"
     },
     "output_type": "display_data"
    }
   ],
   "source": [
    "fig, axs = plt.subplots(2, figsize=(10, 10), sharex=True)\n",
    "x = range(0, len(errors_mg))\n",
    "axs[0].semilogy(x, errors_mg, label=\"MG\")\n",
    "axs[1].semilogy(x, residuals_mg, label=\"MG\")\n",
    "\n",
    "x = range(0, len(errors_jacobi))\n",
    "axs[0].semilogy(x, errors_jacobi, label=\"Jacobi\")\n",
    "axs[1].semilogy(x, residuals_jacobi, label=\"Jacobi\")\n",
    "\n",
    "for ax in axs:\n",
    "    ax.legend(loc=\"upper right\")\n",
    "    ax.set_xlabel(\"Iterations\")\n",
    "\n",
    "\n",
    "axs[0].set_ylabel(\"Error\")\n",
    "axs[1].set_ylabel(\"Residual\")"
   ]
  },
  {
   "cell_type": "code",
   "execution_count": null,
   "metadata": {},
   "outputs": [],
   "source": []
  }
 ],
 "metadata": {
  "kernelspec": {
   "display_name": "Python 3 (ipykernel)",
   "language": "python",
   "name": "python3"
  },
  "language_info": {
   "codemirror_mode": {
    "name": "ipython",
    "version": 3
   },
   "file_extension": ".py",
   "mimetype": "text/x-python",
   "name": "python",
   "nbconvert_exporter": "python",
   "pygments_lexer": "ipython3",
   "version": "3.8.8"
  }
 },
 "nbformat": 4,
 "nbformat_minor": 2
}
