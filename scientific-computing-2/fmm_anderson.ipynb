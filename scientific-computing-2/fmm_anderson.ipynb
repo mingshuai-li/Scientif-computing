{
 "cells": [
  {
   "cell_type": "markdown",
   "metadata": {},
   "source": [
    "# Fast Multipole Method\n",
    "\n",
    "In previous assignment we discussed Barnes Hut Algorithm which has complexity $\\mathcal{O}(\\theta^{-d}N\\log N)$. However, with different algorithms, we can further decrease the complexity to $\\mathcal{O}(N)$. In the Barnes-Hut algorithm we performed interactions between particles and pseudoparticles (effectively a zero order multipole). In the Fast Multipole method, we perform interactions between pseudo particles and pseudo particles. \n",
    "<br/>\n",
    "In order to do this, we need expansion techniques. Orginally in the paper from [Greengard/Rohlkin](https://www.sciencedirect.com/science/article/pii/0021999187901409), the Taylor expansion is used. However, this is complicated to derive specifically in 3d (see spherical harmonics). In this assignment we will use the the outer/inner ring approximation as described by [Anderson](https://epubs.siam.org/doi/abs/10.1137/0913055). Anderson uses Poisson formula instead of multipole exapnsions and derives the potential in form of integration. The integration can be performed via numerical intergration of an integral formula. \n",
    "\n",
    "##### Interesting side note\n",
    "The Fast multipole method is in the [top 10 algorithms of 20th century](http://pi.math.cornell.edu/~ajt/presentations/TopTenAlgorithms.pdf).\n",
    "\n",
    "## Basic approximations\n",
    "**NOTE**: The derivation of all the formulas in the next sections is beyond the scope of this course\n",
    "We consider coulomb's potential in 2-dimension represented as\n",
    "$$U(r) = C \\log r$$\n",
    "where $C$ is a constant\n",
    "\n",
    "### Outer ring approximation\n",
    "Suppose we have a collection of charged particles inside a box. We choose a ring of radius $a$ around it. $a$  should be bigger than the box. In this exercise we take a ring radius to be equal to the side length of the square box. Now, we want to calculate the potential that is induced by all the particles inside the box on a point $A$ outside the ring. We will define the point $A$ using the spherical coordinates $(r, \\theta)$ relative to the center of the box, as seen in the following figure.\n",
    "<img src=\"figure/outer_ring.png\"\n",
    "     alt=\"Outer ring\"\n",
    "     style=\"float: center;\" />\n",
    "\n",
    "The potential on point $A$ is approximated as following:\n",
    "$$\\psi(r, \\theta) = \\int_{S^2} g(a\\vec{s}) \\left( \\sum_{n=0}^{\\infty} \\left(\\frac{a}{r} \\right)^{n+1} Q(\\vec{s},\\vec{x_p}) \\right)ds$$\n",
    "We will trucate the inner sum to $M$ terms and use the trapezoidal rule for the surface integration. After simplification and ignoring the small terms, we get the following expression:\n",
    "$$\\psi(r, \\theta) = \\kappa \\log(r) + \\frac{1}{2 \\pi} \\sum_{i=1}^{K} f(s_i) \\left[ \\frac{1- (\\frac{a}{r})^2}{1 - 2 (\\frac{a}{r})cos(\\theta - s_i) + (\\frac{a}{r})^2} \\right] h$$\n",
    "Here, the integration points or quadrature points, shown in the figure above as circles on the ring, representend in radial coordinates as $(a, s_i)$ are equidistant on the ring with $h=2\\pi a/K$. Furthermore, let  $\\kappa=\\sum_{i=1}^{n}q_i$ be the total charge inside the box, and $f(s_i) = \\psi(a,s_i) - \\kappa \\log(a)$. $\\psi(a,s_i)$ is the potential on the quadrature points $(a,s_i)$ induced by the particles in the box. In order to get an exact integration we need $K=2M + 1$ quadrature points.\n",
    "\n",
    "### Inner ring approximation\n",
    "Suppose we have a collection of charged particles inside a box $M_1$. We want to calculate the potential at a point $A$ inside box $M_2$ which is induced by the particles inside of $M_1$. We form the ring in the same way as for the outer ring approximation, and define the point $A$ using the spherical coordinates $(r, \\theta)$ with orgin at center of box $M_2$. The potential inside $M_2$ can be expressed as the potential of points on the ring around $M_2$. Since the target point is inside the ring through with we are approximating, this is called inner ring approximation.  \n",
    "<img src=\"./figure/inner_ring.png\"\n",
    "     alt=\"Inner ring\"\n",
    "     style=\"float: center;\" />\n",
    "\n",
    "The potential on point $A$ is approximated as following:\n",
    "$$\\psi(r, \\theta) = \\int_{S^2} g(a\\vec{s}) \\left( \\sum_{n=0}^{\\infty} \\left(\\frac{r}{a} \\right)^{n+1} Q(\\vec{s},\\vec{x_p}) \\right)ds$$\n",
    "Again, we will trucate the inner sum to $M$ terms and use the trapezoidal rule for the surface integration. After simplification and ignoring the small terms, we get the following expression:\n",
    "$$\\psi(r, \\theta) = \\frac{1}{2 \\pi} \\sum_{i=1}^{K} \\psi(a,s_i) \\left[ \\frac{1- (\\frac{r}{a})^2}{1 - 2 (\\frac{r}{a})cos(\\theta - s_i) + (\\frac{r}{a})^2} \\right] h$$\n",
    "Here, the integration points or quadrature points, shown in the figure above as circles on the ring, representend in radial coordinates as $(a, s_i)$ are equidistant on the ring with $h=2\\pi a/K$. $\\psi(a,s_i)$ is the potential on the quadrature points of $M_2$ due to the particles in the box $M_1$. In order to have exact integration we need $K=2M + 1$ quadrature points."
   ]
  },
  {
   "cell_type": "markdown",
   "metadata": {},
   "source": [
    "## Implementation\n",
    "\n",
    "This notebook uses code from a few other python files that should be packaged with this."
   ]
  },
  {
   "cell_type": "code",
   "execution_count": 1,
   "metadata": {},
   "outputs": [],
   "source": [
    "import numpy as np\n",
    "import matplotlib.pyplot as plt\n",
    "from matplotlib import rcParams, patches\n",
    "from tqdm import tqdm\n",
    "import math"
   ]
  },
  {
   "cell_type": "markdown",
   "metadata": {},
   "source": [
    "Definition of the potential:"
   ]
  },
  {
   "cell_type": "code",
   "execution_count": 2,
   "metadata": {},
   "outputs": [],
   "source": [
    "def potential_function(x, y):\n",
    "    return np.log(np.sqrt(x**2 + y**2))"
   ]
  },
  {
   "cell_type": "markdown",
   "metadata": {},
   "source": [
    "Definition of a particle:"
   ]
  },
  {
   "cell_type": "code",
   "execution_count": 3,
   "metadata": {},
   "outputs": [],
   "source": [
    "class Particle:\n",
    "    \n",
    "    \"\"\"A particle modeled as a point\".\n",
    "    \n",
    "    Arguments:\n",
    "        coords: a two-element list, containing the 2d coordinates of the point.\n",
    "        domain: the domain of random generated coordinates x,y default=1.0.\n",
    "        m: mass\n",
    "        origin: origin of the domain (used for random generation of positions)\n",
    "\n",
    "    Attributes:\n",
    "        x, y: coordinates of the particle.\n",
    "        m: mass of the particle.\n",
    "        phi: the potential of the particle.\n",
    "    \"\"\"\n",
    "    \n",
    "    def __init__(self, coords=[], domain=1.0, m=1.0, origin=[0,0]):\n",
    "        if coords:\n",
    "            assert len(coords) == 2, \"the size of coords should be 2.\"\n",
    "            self.x = coords[0]\n",
    "            self.y = coords[1]\n",
    "        else:\n",
    "            self.x = (domain * np.random.random()) + origin[0]\n",
    "            self.y = (domain * np.random.random()) + origin[1]\n",
    "        self.m = m\n",
    "        self.phi = 0.\n",
    "\n",
    "    def distance(self, other):\n",
    "        return np.sqrt((self.x-other.x)**2 + (self.y-other.y)**2)\n",
    "        \n",
    "    def plot(self, marker='o', color='r', s=2):\n",
    "        plt.scatter(self.x, self.y, marker=marker, color=color, s=s)\n"
   ]
  },
  {
   "cell_type": "markdown",
   "metadata": {},
   "source": [
    "Definition of a cell:"
   ]
  },
  {
   "cell_type": "code",
   "execution_count": 4,
   "metadata": {},
   "outputs": [],
   "source": [
    "class Cell():\n",
    "    \n",
    "    \"\"\"The class for a cell.\n",
    "    \n",
    "    Arguments:\n",
    "        n_crit: maximum number of particles in a leaf cell.\n",
    "    \n",
    "    Attributes:\n",
    "        nparticles (int): number of particles in the cell\n",
    "        particle_index (array of int): array of particles\n",
    "        nchild (int):  an integer whose last 8 bits is used to keep track \n",
    "        of the empty child cells\n",
    "        child_index (array of int): array of child index\n",
    "        parent (int): index of parent cell\n",
    "        x, y (float): coordinates of the cell's center\n",
    "        r (float): radius of the cell (half of the side length for cubic cell)      \n",
    "    \"\"\"\n",
    "    \n",
    "    def __init__(self, n_crit, center=[0.5, 0.5], side_length=1., M=3):\n",
    "        self.nparticles = 0                         # number of particels\n",
    "        self.particle_index = []                    # array of particle indices\n",
    "        self.nchild = 0                             # binary counter to keep track of empty cells\n",
    "        self.child_index = np.zeros(4, dtype=int)   # array of child index\n",
    "        self.parent = 0                             # index of parent cell\n",
    "        self.x = center[0]\n",
    "        self.y = center[1]                          # center of the cell\n",
    "        self.r = side_length / 2                    # radius of the cell\n",
    "        self.n_crit = n_crit\n",
    "        K = 2*M +1\n",
    "        self.K = K\n",
    "        self.a = side_length\n",
    "        self.quad_points = []\n",
    "        delta_theta = 2 * np.pi / K\n",
    "        for i in range(K):\n",
    "            x, y = self.a*np.cos(i*delta_theta) + center[0], self.a*np.sin(i*delta_theta) + center[1]\n",
    "            self.quad_points.append([x,y])\n",
    "\n",
    "        self.quad_angles = np.array([i*2*np.pi/K for i in range(K)])\n",
    "        # potential at quadrature points due to particles outside the box\n",
    "        self.inner_ring_expansion_terms = np.zeros(K, dtype=float)\n",
    "        # potential at quadrature points due to particles inside the box\n",
    "        self.outer_ring_expansion_terms = np.zeros(K, dtype=float)\n",
    "        self.kappa = None\n",
    "        self.h = 2 * np.pi * self.a/ K\n",
    "\n",
    "    def distance(self, other):\n",
    "        return np.sqrt((self.x-other.x)**2 + (self.y-other.y)**2)\n",
    "    \n",
    "    def calculate_total_mass(self, list_cells, list_particles):\n",
    "        mass = 0.\n",
    "        if self.nparticles < self.n_crit:\n",
    "            for p_idx in self.particle_index:\n",
    "                mass += list_particles[p_idx].m\n",
    "        else:\n",
    "            for c_idx in self.child_index:\n",
    "                if c_idx != 0:\n",
    "                    mass += list_cells[c_idx].calculate_total_mass(list_cells, list_particles)\n",
    "        return mass\n",
    "    \n",
    "    def eval_total_mass(self, list_cells, list_particles):\n",
    "        self.kappa = self.calculate_total_mass(list_cells, list_particles)\n",
    "        \n",
    "    @staticmethod\n",
    "    def direct_outside_potential(coordinates, list_particles):\n",
    "        potential = 0.\n",
    "        for particle in list_particles:\n",
    "            x, y = np.abs(particle.x - coordinates[0]), np.abs(particle.y - coordinates[1])\n",
    "            potential += potential_function(x, y)\n",
    "        return potential\n",
    "    \n",
    "    def calculate_outer_ring_terms_leaf(self, list_particles):\n",
    "        assert self.nparticles < self.n_crit, \"This function needs to be called only for leaf cells\"\n",
    "        section_list = np.array(list_particles)[self.particle_index]\n",
    "        for i in range(self.K):\n",
    "            self.outer_ring_expansion_terms[i] = Cell.direct_outside_potential(self.quad_points[i], section_list) \n",
    "    \n",
    "    def calculate_outer_ring_from_child(self, list_cells):\n",
    "        self.outer_ring_expansion_terms = np.zeros(self.K, dtype=float)\n",
    "        for k in range(self.K):\n",
    "            for c_idx in self.child_index:\n",
    "                child = list_cells[c_idx]\n",
    "                dx, dy = self.quad_points[k][0] - child.x, self.quad_points[k][1] - child.y\n",
    "                r = np.sqrt(dx**2 + dy**2)\n",
    "                theta = math.atan2(dy,dx)\n",
    "                self.outer_ring_expansion_terms[k] += child.outer_ring_expansion(r, theta)\n",
    "    \n",
    "    # plotting utility functions\n",
    "    def plot(self, ax, linewidth=1, edgecolor='r', facecolor='none'):\n",
    "        rect = patches.Rectangle((self.x-self.r, self.y-self.r), 2*self.r, 2*self.r, linewidth=linewidth,\n",
    "                                 edgecolor=edgecolor, facecolor=facecolor)\n",
    "        ax.add_patch(rect)\n",
    "        \n",
    "    def plot_quad_points(self, color='b', marker='o'):\n",
    "        for i in range(self.K):\n",
    "            plt.plot(self.quad_points[i][0], self.quad_points[i][1], color=color, marker=marker)\n",
    "    \n",
    "    def plot_ring(self, ax, linewidth=1, edgecolor='b', facecolor='none'):\n",
    "        circle = patches.Circle((self.x, self.y), radius=self.a, linewidth=linewidth, edgecolor=edgecolor, facecolor=facecolor)\n",
    "        ax.add_patch(circle)\n",
    "        \n",
    "    def plot_cell_and_ring(self, ax):\n",
    "        self.plot_ring(ax)\n",
    "        self.plot(ax)\n",
    "        self.plot_quad_points()\n",
    "        \n",
    "    def plot1(self, n_crit, linewidth=1, color='k'):\n",
    "        if self.nparticles >= n_crit:\n",
    "            plt.hlines(self.y, self.x - self.r, self.x + self.r, linewidth=linewidth, color=color)\n",
    "            plt.vlines(self.x, self.y - self.r, self.y + self.r, linewidth=linewidth, color=color)\n"
   ]
  },
  {
   "cell_type": "markdown",
   "metadata": {},
   "source": [
    "Set up a scenario with randomly generated particles:"
   ]
  },
  {
   "cell_type": "code",
   "execution_count": 5,
   "metadata": {},
   "outputs": [
    {
     "name": "stderr",
     "output_type": "stream",
     "text": [
      "100%|██████████| 50/50 [00:00<?, ?it/s]\n"
     ]
    }
   ],
   "source": [
    "# create a cell with center (0.5, 0.5) and side length 1\n",
    "cell1 = Cell(100, M=10, center=[0.5,0.5])\n",
    "list_cells = [cell1]\n",
    "\n",
    "# create particles\n",
    "num_particles = 50\n",
    "list_particles = []\n",
    "domain = 1\n",
    "for i in tqdm(range(num_particles)):\n",
    "    list_particles.append(Particle(domain=domain))\n",
    "\n",
    "# Assign particles to cell\n",
    "cell1.particle_index = np.arange(num_particles, dtype=int)\n",
    "cell1.nparticles = num_particles\n",
    "\n",
    "# We want to calculate the potential at following radial coordinate (r, theta)\n",
    "r = 4.8\n",
    "theta = np.pi/48\n",
    "# convert radial coordiante to cardinal coordinate \n",
    "# (we do this so that we can compare the FMM to the direct summation)\n",
    "target_coordinate = [cell1.x + r*np.cos(theta), cell1.y + r*np.sin(theta)]"
   ]
  },
  {
   "cell_type": "markdown",
   "metadata": {},
   "source": [
    "Visualization of the problem statement"
   ]
  },
  {
   "cell_type": "code",
   "execution_count": 6,
   "metadata": {},
   "outputs": [
    {
     "name": "stderr",
     "output_type": "stream",
     "text": [
      "100%|██████████| 50/50 [00:00<00:00, 909.07it/s]\n"
     ]
    },
    {
     "data": {
      "image/png": "[encoded data removed]",
      "text/plain": [
       "<Figure size 432x288 with 1 Axes>"
      ]
     },
     "metadata": {
      "needs_background": "light"
     },
     "output_type": "display_data"
    }
   ],
   "source": [
    "ax = plt.gca()\n",
    "cell1.plot_cell_and_ring(ax)\n",
    "plt.plot(target_coordinate[0], target_coordinate[1], marker='*', color='g')\n",
    "plt.arrow(cell1.x, cell1.y, r*np.cos(theta), r*np.sin(theta),length_includes_head=True,\n",
    "          head_width=0.1, head_length=0.2)\n",
    "for p in tqdm(list_particles):\n",
    "    p.plot()\n",
    "ax.set_aspect('equal', adjustable='box')\n",
    "plt.show()"
   ]
  },
  {
   "cell_type": "markdown",
   "metadata": {},
   "source": [
    "Do the naive $O(N^2)$ direct summation as a reference."
   ]
  },
  {
   "cell_type": "code",
   "execution_count": 7,
   "metadata": {},
   "outputs": [
    {
     "data": {
      "text/plain": [
       "79.15502508535326"
      ]
     },
     "execution_count": 7,
     "metadata": {},
     "output_type": "execute_result"
    }
   ],
   "source": [
    "direct_potential = Cell.direct_outside_potential(target_coordinate, list_particles)\n",
    "direct_potential"
   ]
  },
  {
   "cell_type": "markdown",
   "metadata": {},
   "source": [
    "### Outer Ring Approximation\n",
    "Here we want to implement the outer ring approximation. For this, values like $\\kappa$ and $\\psi(a, s_i)$ which are calculated in the next block."
   ]
  },
  {
   "cell_type": "code",
   "execution_count": 8,
   "metadata": {},
   "outputs": [
    {
     "data": {
      "text/plain": [
       "array([ 3.85206329,  3.01669129,  1.77164153,  0.47460221, -0.54168987,\n",
       "       -1.42326248, -2.33231009, -3.18316598, -3.59779666, -3.33562316,\n",
       "       -2.80569204, -2.52048648, -2.61993455, -2.54265743, -1.41312284,\n",
       "        0.27521672,  1.84818025,  3.01332686,  3.74205343,  4.12603736,\n",
       "        4.19558424])"
      ]
     },
     "execution_count": 8,
     "metadata": {},
     "output_type": "execute_result"
    }
   ],
   "source": [
    "# Calculate the term marked as kappa in outer ring expansion term\n",
    "cell1.eval_total_mass(list_cells, list_particles)\n",
    "# Calculate the potential at the quadrature points(on ring) using direct nainve implementation\n",
    "cell1.calculate_outer_ring_terms_leaf(list_particles)\n",
    "cell1.outer_ring_expansion_terms"
   ]
  },
  {
   "cell_type": "markdown",
   "metadata": {},
   "source": [
    "***Task 1***\n",
    "Implement the function `outer_ring_expansion(r, theta)`. This function should calculate the potential at point $(r, \\theta)$ with respect to the center of the box using the outer ring exapansion. Have a look at the definition of a cell from above to see what properties are stored in the cell object since you will need them to compute the potential."
   ]
  },
  {
   "cell_type": "code",
   "execution_count": null,
   "metadata": {},
   "outputs": [],
   "source": [
    "# %load solution_task1_outerRing.py\n",
    "def outer_ring_expansion(cell, r, theta):\n",
    "    assert cell.kappa is not None, \"Runtime Error: Total mass of individual cell is not yet calculated!\"\n",
    "    ################# Task 1 begins #########################\n",
    "    term1 = cell.kappa * np.log(r)\n",
    "\n",
    "    ratio = cell.a / r\n",
    "    num = 1 - (ratio**2)\n",
    "    den = 1 - (2 * ratio * np.cos(theta - cell.quad_angles)) + (ratio**2)\n",
    "    f_s = cell.outer_ring_expansion_terms - (cell.kappa * np.log(cell.a))\n",
    "    term2 = np.sum(f_s * num / den) * cell.h / (2 * np.pi)\n",
    "\n",
    "    potential =  term1 + term2\n",
    "    ################## Task 1 begins ########################\n",
    "    return potential\n"
   ]
  },
  {
   "cell_type": "markdown",
   "metadata": {},
   "source": [
    "Start the calculation and compare it to the direct sum. Use this to check your implementation."
   ]
  },
  {
   "cell_type": "code",
   "execution_count": 10,
   "metadata": {},
   "outputs": [
    {
     "name": "stdout",
     "output_type": "stream",
     "text": [
      "Direct Potential    :  79.15502508535326\n",
      "Outer Ring potential:  79.15501448053\n",
      "Absolute Difference :  1.0604823259541263e-05\n"
     ]
    }
   ],
   "source": [
    "# Calculate potential using outer ring expansion\n",
    "outer_ring_potential = outer_ring_expansion(cell1, r, theta)\n",
    "\n",
    "# Compare results\n",
    "print(\"Direct Potential    : \", direct_potential)\n",
    "print(\"Outer Ring potential: \", outer_ring_potential)\n",
    "print(\"Absolute Difference : \", np.abs(outer_ring_potential - direct_potential))"
   ]
  },
  {
   "cell_type": "markdown",
   "metadata": {},
   "source": [
    "### Inner Ring Approximation\n",
    "Let us create a box with center (5, 0.5) and side length of 1.\n",
    "We will now calculate the potential at the same point as before but using inner ring approximation"
   ]
  },
  {
   "cell_type": "code",
   "execution_count": 11,
   "metadata": {},
   "outputs": [
    {
     "data": {
      "image/png": "[encoded data removed]",
      "text/plain": [
       "<Figure size 432x288 with 1 Axes>"
      ]
     },
     "metadata": {
      "needs_background": "light"
     },
     "output_type": "display_data"
    }
   ],
   "source": [
    "# Create the cell at (5, 0.5)\n",
    "local_center = [5,0.5]\n",
    "cell6 = Cell(100, M=10, center=local_center, side_length=1)\n",
    "\n",
    "# Visualize the problem statement\n",
    "ax = plt.gca()\n",
    "cell1.plot_cell_and_ring(ax)\n",
    "cell6.plot_cell_and_ring(ax)\n",
    "plt.plot(target_coordinate[0], target_coordinate[1], marker='*', color='g')\n",
    "# plt.arrow(cell1.x, cell1.y, r*np.cos(theta), r*np.sin(theta),length_includes_head=True,\n",
    "#           head_width=0.1, head_length=0.2)\n",
    "plt.arrow(cell6.x, cell6.y, target_coordinate[0] - cell6.x, target_coordinate[1] - cell6.y,\n",
    "          length_includes_head=True, head_width=0.1, head_length=0.2)\n",
    "for p in list_particles:\n",
    "    p.plot()\n",
    "ax.set_aspect('equal', adjustable='box')\n",
    "plt.show()"
   ]
  },
  {
   "cell_type": "markdown",
   "metadata": {},
   "source": [
    "First of all we will calculate the potential at the quadrature points of cell6 (center (5,0.5)) induced by particles inside the cell1 (center (0.5,05)). There are two methods to to that:\n",
    "\n",
    "1. Direct potetntial calculation\n",
    "2. Outer ring approximation of cell1\n",
    "\n",
    "We will implement both. The potetial terms at the quadrarture point will be called **inner_ring_expansion_terms**."
   ]
  },
  {
   "cell_type": "markdown",
   "metadata": {},
   "source": [
    "***Task 2***\n",
    "Implement the function `inner_ring_expansion(r, theta)`. This function should calculate the potential at point $(r, \\theta)$ with respect to the center of the box using the inner ring exapansion. Have a look at [cell.py](cell.py) to see what properties are stored in the cell object since you will need them to compute the potential."
   ]
  },
  {
   "cell_type": "code",
   "execution_count": 12,
   "metadata": {},
   "outputs": [],
   "source": [
    "# %load solution_task2_innerRing.py\n",
    "def inner_ring_expansion(cell, r, theta):\n",
    "    ################ Task 2 begins #######################\n",
    "    ratio = r / cell.a\n",
    "    num = 1 - (ratio**2)\n",
    "    den = 1 - (2 * ratio * np.cos(theta - cell.quad_angles)) + (ratio**2)\n",
    "\n",
    "    potential = (np.sum(cell.inner_ring_expansion_terms * num / den) * cell.h / (2 * np.pi))\n",
    "\n",
    "\n",
    "\n",
    "\n",
    "    ################ Task 2 ends ########################\n",
    "    return potential\n"
   ]
  },
  {
   "cell_type": "markdown",
   "metadata": {},
   "source": [
    "#### Method 1 Direct Potential calculation"
   ]
  },
  {
   "cell_type": "code",
   "execution_count": 13,
   "metadata": {},
   "outputs": [],
   "source": [
    "cell6.inner_ring_expansion_terms = np.zeros(cell6.K, dtype=float)\n",
    "for k in range(cell6.K):\n",
    "    cell6.inner_ring_expansion_terms[k] = Cell.direct_outside_potential(cell6.quad_points[k], list_particles)"
   ]
  },
  {
   "cell_type": "code",
   "execution_count": 14,
   "metadata": {},
   "outputs": [
    {
     "name": "stdout",
     "output_type": "stream",
     "text": [
      "Direct Potential    :  79.15502508535326\n",
      "Inner Ring potential:  79.15502507181172\n",
      "Difference          :  1.3541537668970705e-08\n"
     ]
    }
   ],
   "source": [
    "# Calculate the radial coordinates with respect to the center of the box\n",
    "dx, dy = target_coordinate[0] - local_center[0], target_coordinate[1] - local_center[1]\n",
    "r_inner = np.sqrt(dx**2 + dy**2)\n",
    "theta_inner = math.atan2(dy,dx)\n",
    "\n",
    "# Calculate inner ring potential\n",
    "inner_ring_potential1 = inner_ring_expansion(cell6, r_inner, theta_inner)\n",
    "\n",
    "# Compare results\n",
    "print(\"Direct Potential    : \", direct_potential)\n",
    "print(\"Inner Ring potential: \", inner_ring_potential1)\n",
    "print(\"Difference          : \", np.abs(inner_ring_potential1 - direct_potential))"
   ]
  },
  {
   "cell_type": "markdown",
   "metadata": {},
   "source": [
    "#### Method 2 Outer Ring Approximation of cell1"
   ]
  },
  {
   "cell_type": "code",
   "execution_count": 15,
   "metadata": {},
   "outputs": [],
   "source": [
    "cell6.inner_ring_expansion_terms = np.zeros(cell6.K, dtype=float)\n",
    "for k in range(cell6.K):\n",
    "    dx, dy = cell6.quad_points[k][0] - cell1.x, cell6.quad_points[k][1] - cell1.y\n",
    "    r_inner = np.sqrt(dx**2 + dy**2)\n",
    "    theta_inner = np.arctan(dy/dx)\n",
    "    cell6.inner_ring_expansion_terms[k] = outer_ring_expansion(cell1, r_inner, theta_inner)"
   ]
  },
  {
   "cell_type": "code",
   "execution_count": 16,
   "metadata": {},
   "outputs": [
    {
     "name": "stdout",
     "output_type": "stream",
     "text": [
      "Direct Potential    :  79.15502508535326\n",
      "Inner Ring potential:  79.15501446698846\n",
      "Difference          :  1.0618364797210234e-05\n"
     ]
    }
   ],
   "source": [
    "# Calculate the radial coordinates with respect to the center of the box\n",
    "dx, dy = target_coordinate[0] - local_center[0], target_coordinate[1] - local_center[1]\n",
    "r_inner = np.sqrt(dx**2 + dy**2)\n",
    "theta_inner = math.atan2(dy,dx)\n",
    "\n",
    "# Calculate inner ring potential\n",
    "inner_ring_potential2 = inner_ring_expansion(cell6, r_inner, theta_inner)\n",
    "\n",
    "# Compare results\n",
    "print(\"Direct Potential    : \", direct_potential)\n",
    "print(\"Inner Ring potential: \", inner_ring_potential2)\n",
    "print(\"Difference          : \", np.abs(inner_ring_potential2 - direct_potential))"
   ]
  },
  {
   "cell_type": "code",
   "execution_count": null,
   "metadata": {},
   "outputs": [],
   "source": []
  }
 ],
 "metadata": {
  "kernelspec": {
   "display_name": "Python 3 (ipykernel)",
   "language": "python",
   "name": "python3"
  },
  "language_info": {
   "codemirror_mode": {
    "name": "ipython",
    "version": 3
   },
   "file_extension": ".py",
   "mimetype": "text/x-python",
   "name": "python",
   "nbconvert_exporter": "python",
   "pygments_lexer": "ipython3",
   "version": "3.8.8"
  }
 },
 "nbformat": 4,
 "nbformat_minor": 2
}
