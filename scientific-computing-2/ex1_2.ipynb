{
 "cells": [
  {
   "cell_type": "code",
   "execution_count": 1,
   "metadata": {},
   "outputs": [],
   "source": [
    "%matplotlib inline\n",
    "import numpy as np\n",
    "# Print with smaller accurary to make comparisons easier\n",
    "np.set_printoptions(precision=7, suppress=True)\n",
    "\n",
    "import matplotlib.pyplot as plt\n",
    "import scipy.sparse as sp"
   ]
  },
  {
   "cell_type": "markdown",
   "metadata": {},
   "source": [
    "# Discretization\n",
    "The discretization follows the first and second multi-grid worksheet completely.\n",
    "We discretize\n",
    "$$ \\begin{array}{r c l}\n",
    "-\\cfrac{d^2 u}{d x^2}&=&f(x),~~~x\\in(0,1),\\\\\n",
    "u(0)=u(1) & = & 0.\n",
    "\\end{array}\n",
    "$$\n",
    "on a grid with $h=1/N$ and $N+1$ grid points.\n",
    "\n",
    "Let's define a grid first."
   ]
  },
  {
   "cell_type": "code",
   "execution_count": 2,
   "metadata": {},
   "outputs": [
    {
     "data": {
      "text/plain": [
       "0.25"
      ]
     },
     "execution_count": 2,
     "metadata": {},
     "output_type": "execute_result"
    }
   ],
   "source": [
    "class Grid(object):\n",
    "    def __init__(self, num_points):\n",
    "        # Num points does not include boundary!\n",
    "        self.num_points = num_points\n",
    "        self.spacing = 1.0/(num_points + 1)\n",
    "        \n",
    "    def get_nth_point(self, i):\n",
    "        return self.spacing * (i + 1)\n",
    "        \n",
    "\n",
    "def make_grid(level):\n",
    "    # Level is refinement\n",
    "    # Consider interval [0,1]\n",
    "    # Level one has one point at 1/2\n",
    "    # Level two has points at 1/4, 1/2, 3/4\n",
    "    num_points = 2**(level + 1) - 1\n",
    "    return Grid(num_points)\n",
    "\n",
    "\n",
    "grid = make_grid(level=2)\n",
    "grid.get_nth_point(1)"
   ]
  },
  {
   "cell_type": "markdown",
   "metadata": {},
   "source": [
    "We use a finite difference discretization and eliminate all rows corresponding to the Dirichlet boundary conditions.\n",
    "For more details, see the worksheet.\n",
    "The matrix then looks like:\n",
    "$$A_{ij}:=\\left\\{\\begin{array}{r c l}\n",
    "-\\frac{1}{h^2} & \\hbox{if} & |i-j|=1,\\\\\n",
    "\\frac{2}{h^2} & \\hbox{if} & i=j,\\\\\n",
    "0 & \\hbox{otherwise},\\end{array}\\right.\n",
    "$$"
   ]
  },
  {
   "cell_type": "code",
   "execution_count": 3,
   "metadata": {},
   "outputs": [
    {
     "data": {
      "text/plain": [
       "array([[128., -64.,   0.,   0.,   0.,   0.,   0.],\n",
       "       [-64., 128., -64.,   0.,   0.,   0.,   0.],\n",
       "       [  0., -64., 128., -64.,   0.,   0.,   0.],\n",
       "       [  0.,   0., -64., 128., -64.,   0.,   0.],\n",
       "       [  0.,   0.,   0., -64., 128., -64.,   0.],\n",
       "       [  0.,   0.,   0.,   0., -64., 128., -64.],\n",
       "       [  0.,   0.,   0.,   0.,   0., -64., 128.]])"
      ]
     },
     "execution_count": 3,
     "metadata": {},
     "output_type": "execute_result"
    }
   ],
   "source": [
    "def create_matrix(grid):\n",
    "    n = grid.num_points\n",
    "    h = grid.spacing\n",
    "    \n",
    "    def val(i,j):\n",
    "        if i == j:\n",
    "            return 2/h**2\n",
    "        elif np.abs(i-j) == 1:\n",
    "            return -1/h**2\n",
    "        else:\n",
    "            return 0.0\n",
    "        \n",
    "    return np.fromfunction(np.vectorize(val), (n, n), dtype=float)\n",
    "\n",
    "\n",
    "discretization = create_matrix(grid)\n",
    "discretization"
   ]
  },
  {
   "cell_type": "markdown",
   "metadata": {},
   "source": [
    "# Eigenvalues of the system matrix\n",
    "As discussed in the worksheet, the eigenvectors of the matrix are\n",
    "$u_i = sin(k\\pi ih)$ with eigenvalue $\\lambda=(4/h^2)\\sin^2(k\\pi h/2)$.\n",
    "We also have that $c=k\\pi, k\\in\\mathbb{Z}\\setminus\\{0\\}$.\n",
    "\n",
    "Let's verify our calculations numerically:"
   ]
  },
  {
   "cell_type": "code",
   "execution_count": 4,
   "metadata": {},
   "outputs": [],
   "source": [
    "# Create grid & discretization\n",
    "grid = make_grid(2)\n",
    "discretization = create_matrix(grid)"
   ]
  },
  {
   "cell_type": "code",
   "execution_count": 10,
   "metadata": {},
   "outputs": [],
   "source": [
    "# %load solution_fd_eigenvalues.py\n",
    "\n",
    "def compute_analytical_eigenvalue(grid, k):\n",
    "    # TODO Implement\n",
    "    h = grid.spacing\n",
    "    c = k * np.pi\n",
    "    return (4 / h**2) * np.sin(c * h / 2) **2\n",
    "\n",
    "def compute_numerical_eigenvalues(discretization):\n",
    "    return np.linalg.eig(discretization)[0]\n",
    "    pass"
   ]
  },
  {
   "cell_type": "code",
   "execution_count": 11,
   "metadata": {},
   "outputs": [
    {
     "name": "stdout",
     "output_type": "stream",
     "text": [
      "Numerical: [  9.7434198  37.490332   79.0165207 128.        176.9834793 218.509668\n",
      " 246.2565802]\n",
      "Analytical: [  9.7434198  37.490332   79.0165207 128.        176.9834793 218.509668\n",
      " 246.2565802]\n",
      "Difference: [-0. -0.  0. -0.  0.  0.  0.]\n"
     ]
    }
   ],
   "source": [
    "numerical_eigenvals = compute_numerical_eigenvalues(discretization)\n",
    "analytical_eigenvals = np.array([compute_analytical_eigenvalue(grid,k) for k in range(1,grid.num_points+1)])\n",
    "\n",
    "print(\"Numerical:\", np.sort(numerical_eigenvals))\n",
    "print(\"Analytical:\", np.sort(analytical_eigenvals))\n",
    "# They are in different order\n",
    "diff = np.sort(numerical_eigenvals) - np.sort(analytical_eigenvals)\n",
    "print(\"Difference:\", diff)"
   ]
  },
  {
   "cell_type": "code",
   "execution_count": 12,
   "metadata": {},
   "outputs": [
    {
     "name": "stdout",
     "output_type": "stream",
     "text": [
      "[[ 0.1913417  0.3535534  0.4619398 -0.5       -0.1913417  0.3535534\n",
      "   0.4619398]\n",
      " [-0.3535534 -0.5       -0.3535534 -0.        -0.3535534  0.5\n",
      "   0.3535534]\n",
      " [ 0.4619398  0.3535534 -0.1913417  0.5       -0.4619398  0.3535534\n",
      "  -0.1913417]\n",
      " [-0.5       -0.         0.5        0.        -0.5        0.\n",
      "  -0.5      ]\n",
      " [ 0.4619398 -0.3535534 -0.1913417 -0.5       -0.4619398 -0.3535534\n",
      "  -0.1913417]\n",
      " [-0.3535534  0.5       -0.3535534 -0.        -0.3535534 -0.5\n",
      "   0.3535534]\n",
      " [ 0.1913417 -0.3535534  0.4619398  0.5       -0.1913417 -0.3535534\n",
      "   0.4619398]]\n"
     ]
    }
   ],
   "source": [
    "# The numerical eigenvectors are:\n",
    "print(np.linalg.eig(discretization)[1])"
   ]
  },
  {
   "cell_type": "code",
   "execution_count": 13,
   "metadata": {},
   "outputs": [
    {
     "name": "stdout",
     "output_type": "stream",
     "text": [
      "[0.1913417 0.3535534 0.4619398 0.5       0.4619398 0.3535534 0.1913417]\n",
      "[ 0.3535534  0.5        0.3535534  0.        -0.3535534 -0.5\n",
      " -0.3535534]\n",
      "[ 0.4619398  0.3535534 -0.1913417 -0.5       -0.1913417  0.3535534\n",
      "  0.4619398]\n",
      "[ 0.5  0.  -0.5 -0.   0.5  0.  -0.5]\n",
      "[ 0.4619398 -0.3535534 -0.1913417  0.5       -0.1913417 -0.3535534\n",
      "  0.4619398]\n",
      "[ 0.3535534 -0.5        0.3535534  0.        -0.3535534  0.5\n",
      " -0.3535534]\n",
      "[ 0.1913417 -0.3535534  0.4619398 -0.5        0.4619398 -0.3535534\n",
      "  0.1913417]\n"
     ]
    }
   ],
   "source": [
    "def analytical_eigenvector(grid, k):\n",
    "    n = grid.num_points\n",
    "    h = grid.spacing\n",
    "    c = k * np.pi\n",
    "    \n",
    "    eigenvec = np.array([np.sin(c * i * h) for i in range(1, n+1)])\n",
    "    # Note: numpy always normalizes eigenvectors to unit length\n",
    "    # So we also have to normalize the analytical ones\n",
    "    return eigenvec/np.linalg.norm(eigenvec)\n",
    "\n",
    "for k in range(0, grid.num_points):\n",
    "    print(analytical_eigenvector(grid, k+1))"
   ]
  },
  {
   "cell_type": "markdown",
   "metadata": {},
   "source": [
    "# Eigenvalues of the Jacobi iteration matrices\n",
    "We can also look at the eigenvalues of the (weighted) Jacobi iteration matrix.\n",
    "It is defined as $$M=I-\\omega\\operatorname{diag}\\left({A}\\right)^{-1}A$$\n",
    "\n",
    "The eigenvectors should be the same as for the discretization matrix $A$, the eigenvalues should be\n",
    "$$1 - 2 \\omega \\left(\\sin\\left(\\frac{k \\pi h}{2}\\right)\\right)^2$$\n"
   ]
  },
  {
   "cell_type": "code",
   "execution_count": 29,
   "metadata": {},
   "outputs": [],
   "source": [
    "# %load solution_jacobi_matrices.py\n",
    "\n",
    "\"\"\"\n",
    "Returns a tuple of (iteration matrix, inverse diagonal part)\n",
    "\"\"\"\n",
    "def build_jacobi_matrices(grid, matrix, omega):\n",
    "    # TODO Implement\n",
    "    n = grid.num_points\n",
    "    h = grid.spacing\n",
    "    I = np.eye(n, n)\n",
    "    inv_diag = I * (1/np.diag(matrix))\n",
    "    return (I - omega * np.dot(inv_diag, matrix), inv_diag)"
   ]
  },
  {
   "cell_type": "code",
   "execution_count": 30,
   "metadata": {},
   "outputs": [
    {
     "data": {
      "text/plain": [
       "array([[0.3333333, 0.3333333, 0.       , 0.       , 0.       , 0.       ,\n",
       "        0.       ],\n",
       "       [0.3333333, 0.3333333, 0.3333333, 0.       , 0.       , 0.       ,\n",
       "        0.       ],\n",
       "       [0.       , 0.3333333, 0.3333333, 0.3333333, 0.       , 0.       ,\n",
       "        0.       ],\n",
       "       [0.       , 0.       , 0.3333333, 0.3333333, 0.3333333, 0.       ,\n",
       "        0.       ],\n",
       "       [0.       , 0.       , 0.       , 0.3333333, 0.3333333, 0.3333333,\n",
       "        0.       ],\n",
       "       [0.       , 0.       , 0.       , 0.       , 0.3333333, 0.3333333,\n",
       "        0.3333333],\n",
       "       [0.       , 0.       , 0.       , 0.       , 0.       , 0.3333333,\n",
       "        0.3333333]])"
      ]
     },
     "execution_count": 30,
     "metadata": {},
     "output_type": "execute_result"
    }
   ],
   "source": [
    "M, N = build_jacobi_matrices(grid, discretization, omega=2/3)\n",
    "M"
   ]
  },
  {
   "cell_type": "code",
   "execution_count": 31,
   "metadata": {},
   "outputs": [
    {
     "data": {
      "text/plain": [
       "(array([ 0.949253 ,  0.8047379,  0.5884556,  0.3333333, -0.2825864,\n",
       "        -0.1380712,  0.078211 ]),\n",
       " array([[ 0.1913417, -0.3535534,  0.4619398,  0.5      , -0.1913417,\n",
       "         -0.3535534,  0.4619398],\n",
       "        [ 0.3535534, -0.5      ,  0.3535534,  0.       ,  0.3535534,\n",
       "          0.5      , -0.3535534],\n",
       "        [ 0.4619398, -0.3535534, -0.1913417, -0.5      , -0.4619398,\n",
       "         -0.3535534, -0.1913417],\n",
       "        [ 0.5      , -0.       , -0.5      , -0.       ,  0.5      ,\n",
       "          0.       ,  0.5      ],\n",
       "        [ 0.4619398,  0.3535534, -0.1913417,  0.5      , -0.4619398,\n",
       "          0.3535534, -0.1913417],\n",
       "        [ 0.3535534,  0.5      ,  0.3535534, -0.       ,  0.3535534,\n",
       "         -0.5      , -0.3535534],\n",
       "        [ 0.1913417,  0.3535534,  0.4619398, -0.5      , -0.1913417,\n",
       "          0.3535534,  0.4619398]]))"
      ]
     },
     "execution_count": 31,
     "metadata": {},
     "output_type": "execute_result"
    }
   ],
   "source": [
    "np.linalg.eig(M)"
   ]
  },
  {
   "cell_type": "code",
   "execution_count": 32,
   "metadata": {},
   "outputs": [
    {
     "data": {
      "text/plain": [
       "array([ 0.949253 ,  0.8047379,  0.5884556,  0.3333333,  0.078211 ,\n",
       "       -0.1380712, -0.2825864])"
      ]
     },
     "execution_count": 32,
     "metadata": {},
     "output_type": "execute_result"
    }
   ],
   "source": [
    "def analytical_eigenvalue_jacobi(grid, k):\n",
    "    h = grid.spacing\n",
    "    c = k * np.pi\n",
    "    return 1 - 2*2/3 * np.sin(c*h/2)**2#\n",
    "\n",
    "analytical_eigenvals = np.array([analytical_eigenvalue_jacobi(grid,k) for k in range(1,grid.num_points+1)])\n",
    "analytical_eigenvals"
   ]
  },
  {
   "cell_type": "code",
   "execution_count": 33,
   "metadata": {},
   "outputs": [
    {
     "name": "stdout",
     "output_type": "stream",
     "text": [
      "[0.1913417 0.3535534 0.4619398 0.5       0.4619398 0.3535534 0.1913417]\n",
      "[ 0.3535534  0.5        0.3535534  0.        -0.3535534 -0.5\n",
      " -0.3535534]\n",
      "[ 0.4619398  0.3535534 -0.1913417 -0.5       -0.1913417  0.3535534\n",
      "  0.4619398]\n",
      "[ 0.5  0.  -0.5 -0.   0.5  0.  -0.5]\n",
      "[ 0.4619398 -0.3535534 -0.1913417  0.5       -0.1913417 -0.3535534\n",
      "  0.4619398]\n",
      "[ 0.3535534 -0.5        0.3535534  0.        -0.3535534  0.5\n",
      " -0.3535534]\n",
      "[ 0.1913417 -0.3535534  0.4619398 -0.5        0.4619398 -0.3535534\n",
      "  0.1913417]\n"
     ]
    }
   ],
   "source": [
    "for k in range(0, grid.num_points):\n",
    "    print(analytical_eigenvector(grid, k+1))"
   ]
  },
  {
   "cell_type": "markdown",
   "metadata": {},
   "source": [
    "# A quick visualisation of the min/max problem\n",
    "For the Jacobi smoother of the finite difference discretization of the Poisson equation with $f(x) = 0$:\n",
    "\n",
    "Show that $\\omega=2/3$ is the best choice in the sense that it solves\n",
    " $$ \\omega = \\operatorname{argmin}_{\\omega'}\\max_{N/2 \\leq k \\leq N} |\\lambda_k(\\omega')| $$,\n",
    " where $\\lambda_k$ is the $k$-th eigenvalue.\n",
    "we end up with (see solution of ws2 for more details):\n",
    "$$\n",
    "\\omega = \\operatorname{argmin}_{\\omega'}\\max\\left\\{|\\lambda_{N/2}(\\omega')|, |\\lambda_{N}(\\omega')|\\right\\}\n",
    "= \\operatorname{argmin}_{\\omega'}\\max\\left\\{|1-\\omega'|, |1-2\\omega'|\\right\\}.\n",
    "$$\n",
    "\n",
    "The solution is very easy to see, once we plot the problem.\n",
    "We are interested in the minimum of green curve:"
   ]
  },
  {
   "cell_type": "code",
   "execution_count": 34,
   "metadata": {},
   "outputs": [
    {
     "data": {
      "text/plain": [
       "<matplotlib.legend.Legend at 0x2ab54547910>"
      ]
     },
     "execution_count": 34,
     "metadata": {},
     "output_type": "execute_result"
    },
    {
     "data": {
      "image/png": "[encoded data removed]",
      "text/plain": [
       "<Figure size 720x720 with 1 Axes>"
      ]
     },
     "metadata": {
      "needs_background": "light"
     },
     "output_type": "display_data"
    }
   ],
   "source": [
    "fig, ax = plt.subplots(figsize=(10,10))\n",
    "omegas = np.linspace(0, 1, 100)\n",
    "opt_1 = np.abs(1 - omegas)\n",
    "opt_2 = np.abs(1 - 2 * omegas)\n",
    "ax.plot(omegas, opt_1, label=\"$| 1 - \\omega | $\", linestyle='dotted')\n",
    "ax.plot(omegas, opt_2, label=\"$| 1 - 2\\omega | $\", linestyle='dotted')\n",
    "ax.axvline(2/3, label=\"$\\omega = 2/3$\", c='black')\n",
    "\n",
    "ax.plot(omegas, np.maximum(opt_1, opt_2),\n",
    "        label=\"$\\max(| 1 - \\omega |, | 2 - \\omega |)$\",\n",
    "        linestyle='solid', c='green')\n",
    "\n",
    "ax.legend()"
   ]
  },
  {
   "cell_type": "code",
   "execution_count": null,
   "metadata": {},
   "outputs": [],
   "source": []
  }
 ],
 "metadata": {
  "kernelspec": {
   "display_name": "Python 3 (ipykernel)",
   "language": "python",
   "name": "python3"
  },
  "language_info": {
   "codemirror_mode": {
    "name": "ipython",
    "version": 3
   },
   "file_extension": ".py",
   "mimetype": "text/x-python",
   "name": "python",
   "nbconvert_exporter": "python",
   "pygments_lexer": "ipython3",
   "version": "3.8.8"
  }
 },
 "nbformat": 4,
 "nbformat_minor": 2
}
