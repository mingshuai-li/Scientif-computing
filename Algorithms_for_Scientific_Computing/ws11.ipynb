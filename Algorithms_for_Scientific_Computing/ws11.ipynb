{
 "cells": [
  {
   "cell_type": "markdown",
   "metadata": {},
   "source": [
    "# Exercise 1: Grammars for Peano curves"
   ]
  },
  {
   "cell_type": "markdown",
   "metadata": {},
   "source": [
    "* Formulate a grammar for the switch-back Peano curve and the Peano-Meander curve as shown in the lecture.\n",
    "* Implement both grammars in an appropriate Python program."
   ]
  },
  {
   "cell_type": "markdown",
   "metadata": {},
   "source": [
    "#### Python ploting routines for space filling curves."
   ]
  },
  {
   "cell_type": "code",
   "execution_count": 6,
   "metadata": {},
   "outputs": [],
   "source": [
    "%matplotlib inline"
   ]
  },
  {
   "cell_type": "code",
   "execution_count": 7,
   "metadata": {},
   "outputs": [],
   "source": [
    "import matplotlib.pyplot as plt\n",
    "\n",
    "def plotLineStrip(x, y, title = None):\n",
    "    _, ax = plt.subplots()\n",
    "    plt.plot(x, y)\n",
    "    if title is not None:\n",
    "        plt.title(title)\n",
    "    ax.set_xlim(min(x)-1, max(x)+1)\n",
    "    ax.set_ylim(min(y)-1, max(y)+1)\n",
    "    plt.gca().set_aspect('equal', adjustable='box')\n",
    "    plt.show()"
   ]
  },
  {
   "cell_type": "markdown",
   "metadata": {},
   "source": [
    "#### Terminals for space filling curves absolute direction grammar rules."
   ]
  },
  {
   "cell_type": "code",
   "execution_count": 8,
   "metadata": {},
   "outputs": [],
   "source": [
    "# functions to plot vertical and horizontal lines (end points are appended to the curve (x,y),\n",
    "# the final plotting can be done with plotCurveDelayed() or plotLineStrip())\n",
    "def plotLineUp(x, y, length):\n",
    "    x.append(x[len(x) - 1])\n",
    "    y.append(y[len(y) - 1] + length)\n",
    "\n",
    "def plotLineDown(x, y, length):\n",
    "    x.append(x[len(x) - 1])\n",
    "    y.append(y[len(y) - 1] - length)\n",
    "\n",
    "def plotLineLeft(x, y, length):\n",
    "    x.append(x[len(x) - 1] - length)\n",
    "    y.append(y[len(y) - 1])\n",
    "\n",
    "def plotLineRight(x, y, length):\n",
    "    x.append(x[len(x) - 1] + length)\n",
    "    y.append(y[len(y) - 1])"
   ]
  },
  {
   "cell_type": "markdown",
   "metadata": {},
   "source": [
    "#### Production rules for the switch-back Peano curve."
   ]
  },
  {
   "cell_type": "code",
   "execution_count": 9,
   "metadata": {},
   "outputs": [],
   "source": [
    "'''\n",
    "recursion rules for the switch-back Peano curve\n",
    "We assume that each Peano curve consist of 4 different patterns (nonterminals). For each pattern P, Q, R, S\n",
    "a recursion rule has to be defined.\n",
    "\n",
    "P:\n",
    " |--|  ^\n",
    " |  |  |\n",
    " |  |--|\n",
    " '''\n",
    "\n",
    "def P(depth, x, y):\n",
    "    if depth >= 0:\n",
    "        P(depth - 1, x, y)\n",
    "        plotLineUp(x, y, 1.0)\n",
    "        Q(depth - 1, x, y)\n",
    "        plotLineUp(x, y, 1.0)\n",
    "        P(depth - 1, x, y)\n",
    "        plotLineRight(x, y, 1.0)\n",
    "        S(depth - 1, x, y)\n",
    "        plotLineDown(x, y, 1.0)\n",
    "        R(depth - 1, x, y)\n",
    "        plotLineDown(x, y, 1.0)\n",
    "        S(depth - 1, x, y)\n",
    "        plotLineRight(x, y, 1.0)\n",
    "        P(depth - 1, x, y)\n",
    "        plotLineUp(x, y, 1.0)\n",
    "        Q(depth - 1, x, y)\n",
    "        plotLineUp(x, y, 1.0)\n",
    "        P(depth - 1, x, y)\n",
    "\n",
    "'''\n",
    "Q:\n",
    " ^  |--|\n",
    " |  |  |\n",
    " |--|  |   \n",
    "'''\n",
    "def Q(depth, x, y):\n",
    "    if depth >= 0:\n",
    "        Q(depth - 1, x, y)\n",
    "        plotLineUp(x, y, 1.0)\n",
    "        P(depth - 1, x, y)\n",
    "        plotLineUp(x, y, 1.0)\n",
    "        Q(depth - 1, x, y)\n",
    "        plotLineLeft(x, y, 1.0)\n",
    "        R(depth - 1, x, y)\n",
    "        plotLineDown(x, y, 1.0)\n",
    "        S(depth - 1, x, y)\n",
    "        plotLineDown(x, y, 1.0)\n",
    "        R(depth - 1, x, y)\n",
    "        plotLineLeft(x, y, 1.0)\n",
    "        Q(depth - 1, x, y)\n",
    "        plotLineUp(x, y, 1.0)\n",
    "        P(depth - 1, x, y)\n",
    "        plotLineUp(x, y, 1.0)\n",
    "        Q(depth - 1, x, y)\n",
    "    \n",
    "'''S:\n",
    "like Q but different traversal direction\n",
    "'''\n",
    "def S(depth, x, y):\n",
    "    if depth >= 0:\n",
    "        S(depth - 1, x, y)\n",
    "        plotLineDown(x, y, 1.0)\n",
    "        R(depth - 1, x, y)\n",
    "        plotLineDown(x, y, 1.0)\n",
    "        S(depth - 1, x, y)\n",
    "        plotLineRight(x, y, 1.0)\n",
    "        P(depth - 1, x, y)\n",
    "        plotLineUp(x, y, 1.0)\n",
    "        Q(depth - 1, x, y)\n",
    "        plotLineUp(x, y, 1.0)\n",
    "        P(depth - 1, x, y)\n",
    "        plotLineRight(x, y, 1.0)\n",
    "        S(depth - 1, x, y)\n",
    "        plotLineDown(x, y, 1.0)\n",
    "        R(depth - 1, x, y)\n",
    "        plotLineDown(x, y, 1.0)\n",
    "        S(depth - 1, x, y)\n",
    "    \n",
    "'''\n",
    "R:\n",
    "like P but different traversal direction\n",
    "'''\n",
    "def R(depth, x, y):\n",
    "    if depth >= 0:\n",
    "        R(depth - 1, x, y)\n",
    "        plotLineDown(x, y, 1.0)\n",
    "        S(depth - 1, x, y)\n",
    "        plotLineDown(x, y, 1.0)\n",
    "        R(depth - 1, x, y)\n",
    "        plotLineLeft(x, y, 1.0)\n",
    "        Q(depth - 1, x, y)\n",
    "        plotLineUp(x, y, 1.0)\n",
    "        P(depth - 1, x, y)\n",
    "        plotLineUp(x, y, 1.0)\n",
    "        Q(depth - 1, x, y)\n",
    "        plotLineLeft(x, y, 1.0)\n",
    "        R(depth - 1, x, y)\n",
    "        plotLineDown(x, y, 1.0)\n",
    "        S(depth - 1, x, y)\n",
    "        plotLineDown(x, y, 1.0)\n",
    "        R(depth - 1, x, y)"
   ]
  },
  {
   "cell_type": "markdown",
   "metadata": {},
   "source": [
    "#### Production rules for Peano-Meander curve."
   ]
  },
  {
   "cell_type": "code",
   "execution_count": 10,
   "metadata": {},
   "outputs": [],
   "source": [
    "'''\n",
    "recursion rules for Peano-meander curve\n",
    "'''\n",
    "\n",
    "def M(depth, x, y):\n",
    "    if(depth >= 0):\n",
    "        N(depth - 1, x, y)\n",
    "        plotLineUp(x, y, 1.0)\n",
    "        N(depth - 1, x, y)\n",
    "        plotLineUp(x, y, 1.0)\n",
    "        M(depth - 1, x, y)\n",
    "        plotLineRight(x, y, 1.0)\n",
    "        M(depth - 1, x, y)\n",
    "        plotLineRight(x, y, 1.0)\n",
    "        M(depth - 1, x, y)\n",
    "        plotLineDown(x, y, 1.0)\n",
    "        W(depth - 1, x, y)\n",
    "        plotLineLeft(x, y, 1.0)\n",
    "        L(depth - 1, x, y)\n",
    "        plotLineDown(x, y, 1.0)\n",
    "        L(depth - 1, x, y)\n",
    "        plotLineRight(x, y, 1.0)\n",
    "        M(depth - 1, x, y)\n",
    "\n",
    "\n",
    "def L(depth, x, y):\n",
    "    if(depth >= 0):\n",
    "        W(depth - 1, x, y)\n",
    "        plotLineLeft(x, y, 1.0)\n",
    "        W(depth - 1, x, y)\n",
    "        plotLineLeft(x, y, 1.0)\n",
    "        L(depth - 1, x, y)\n",
    "        plotLineDown(x, y, 1.0)\n",
    "        L(depth - 1, x, y)\n",
    "        plotLineDown(x, y, 1.0)\n",
    "        L(depth - 1, x, y)\n",
    "        plotLineRight(x, y, 1.0)\n",
    "        N(depth - 1, x, y)\n",
    "        plotLineUp(x, y, 1.0)\n",
    "        M(depth - 1, x, y)\n",
    "        plotLineRight(x, y, 1.0)\n",
    "        M(depth - 1, x, y)\n",
    "        plotLineDown(x, y, 1.0)\n",
    "        L(depth - 1, x, y)\n",
    "\n",
    "\n",
    "def W(depth, x, y):\n",
    "    if(depth >= 0):\n",
    "        L(depth - 1, x, y)\n",
    "        plotLineDown(x, y, 1.0)\n",
    "        L(depth - 1, x, y)\n",
    "        plotLineDown(x, y, 1.0)\n",
    "        W(depth - 1, x, y)\n",
    "        plotLineLeft(x, y, 1.0)\n",
    "        W(depth - 1, x, y)\n",
    "        plotLineLeft(x, y, 1.0)\n",
    "        W(depth - 1, x, y)\n",
    "        plotLineUp(x, y, 1.0)\n",
    "        M(depth - 1, x, y)\n",
    "        plotLineRight(x, y, 1.0)\n",
    "        N(depth - 1, x, y)\n",
    "        plotLineUp(x, y, 1.0)\n",
    "        N(depth - 1, x, y)\n",
    "        plotLineLeft(x, y, 1.0)\n",
    "        W(depth - 1, x, y)\n",
    "\n",
    "\n",
    "def N(depth, x, y):\n",
    "    if(depth >= 0):\n",
    "        M(depth - 1, x, y)\n",
    "        plotLineRight(x, y, 1.0)\n",
    "        M(depth - 1, x, y)\n",
    "        plotLineRight(x, y, 1.0)\n",
    "        N(depth - 1, x, y)\n",
    "        plotLineUp(x, y, 1.0)\n",
    "        N(depth - 1, x, y)\n",
    "        plotLineUp(x, y, 1.0)\n",
    "        N(depth - 1, x, y)\n",
    "        plotLineLeft(x, y, 1.0)\n",
    "        L(depth - 1, x, y)\n",
    "        plotLineDown(x, y, 1.0)\n",
    "        W(depth - 1, x, y)\n",
    "        plotLineLeft(x, y, 1.0)\n",
    "        W(depth - 1, x, y)\n",
    "        plotLineUp(x, y, 1.0)\n",
    "        N(depth - 1, x, y)"
   ]
  },
  {
   "cell_type": "markdown",
   "metadata": {},
   "source": [
    "#### Peano type curves generating script."
   ]
  },
  {
   "cell_type": "code",
   "execution_count": 13,
   "metadata": {},
   "outputs": [
    {
     "data": {
      "image/png": "[encoded data removed]",
      "text/plain": [
       "<Figure size 432x288 with 1 Axes>"
      ]
     },
     "metadata": {
      "needs_background": "light"
     },
     "output_type": "display_data"
    }
   ],
   "source": [
    "# set the number of the program you want to test\n",
    "prog = 1\n",
    "# set the curve's depth\n",
    "depth = 1\n",
    "\n",
    "# switch-back Peano curve\n",
    "if prog == 1:\n",
    "    x = [0.5]\n",
    "    y = [0.5]\n",
    "    P(depth, x, y)\n",
    "    plotLineStrip(x, y, None)\n",
    "\n",
    "# Peano-meander curve\n",
    "elif prog == 2:\n",
    "    x = [0.5]\n",
    "    y = [0.5]\n",
    "    M(depth, x, y)\n",
    "    plotLineStrip(x, y, None)"
   ]
  },
  {
   "cell_type": "markdown",
   "metadata": {},
   "source": [
    "# Exercise 2: Real Turtle for the Hilbert Curve"
   ]
  },
  {
   "cell_type": "markdown",
   "metadata": {},
   "source": [
    "The type of grammars which has been created in Exercise 1, can be used to derive an algorithm, which defines the travel direction of the curve in a global coordinate system.\n",
    "\n",
    "In this Exercise we will derive a ''real'' turtle graphics algorithm for the Hilbert Curve, that only uses the following commands:\n",
    "\n",
    "* Go one step ahead.\n",
    "* Turn the travel direction by $90^\\circ$ to the right.\n",
    "* Turn the travel direction by $90^\\circ$ to the left.\n",
    "\n",
    "Try to find an algorithm for which the turtle turns at most once after doing a step (so it shouldn't turn more than once by $90^\\circ$ at the same spot). Implement the grammar."
   ]
  },
  {
   "cell_type": "markdown",
   "metadata": {},
   "source": [
    "#### Terminals for the Hilbert curve turtle graphics."
   ]
  },
  {
   "cell_type": "code",
   "execution_count": 13,
   "metadata": {},
   "outputs": [],
   "source": [
    "# turtle: one step ahead\n",
    "def turtleStep(turtle, x, y):\n",
    "    if(turtle == 0):\n",
    "        plotLineUp(x, y, 1.0)\n",
    "    elif(turtle == 1):\n",
    "        plotLineRight(x, y, 1.0)\n",
    "    elif(turtle == 2):\n",
    "        plotLineDown(x, y, 1.0)\n",
    "    elif(turtle == 3):\n",
    "        plotLineLeft(x, y, 1.0)\n",
    "    return turtle\n",
    "\n",
    "# turtle: turn to the left\n",
    "def turtleLeft(turtle):\n",
    "    return (turtle - 1 + 4) % 4\n",
    "\n",
    "# turtle: turn to the right\n",
    "def turtleRight(turtle):\n",
    "    return (turtle + 1) % 4"
   ]
  },
  {
   "cell_type": "markdown",
   "metadata": {},
   "source": [
    "#### Production rules for the Hilbert curve turtle graphics."
   ]
  },
  {
   "cell_type": "code",
   "execution_count": 22,
   "metadata": {},
   "outputs": [],
   "source": [
    "'''\n",
    "recursion rules for the \"turtle\"-Hilbert algorithm\n",
    "'''\n",
    "\n",
    "# recursion rules for the turtle-Hilbert algorithm\n",
    "def H1(depth, turtle, x, y): # H in the worksheet\n",
    "    if(depth >= 0):\n",
    "        turtle = H2(depth - 1, turtle, x, y)\n",
    "        turtleStep(turtle, x, y)\n",
    "        turtle = H1(depth - 1, turtle, x, y)\n",
    "        turtleStep(turtle, x, y)\n",
    "        turtle = H5(depth - 1, turtle, x, y)\n",
    "        turtleStep(turtle, x, y)\n",
    "        turtle = H3(depth - 1, turtle, x, y)\n",
    "    else:\n",
    "        turtle = turtleRight(turtle)\n",
    "    return turtle\n",
    "\n",
    "def H2(depth, turtle, x, y): # B in the worksheet\n",
    "    if(depth >= 0):\n",
    "        turtle = H1(depth - 1, turtle, x, y)\n",
    "        turtleStep(turtle, x, y)\n",
    "        turtle = H6(depth - 1, turtle, x, y)\n",
    "        turtleStep(turtle, x, y)\n",
    "        turtle = H3(depth - 1, turtle, x, y)\n",
    "        turtleStep(turtle, x, y)\n",
    "        turtle = H5(depth - 1, turtle, x, y)\n",
    "    return turtle\n",
    "\n",
    "def H3(depth, turtle, x, y): # L in the worksheet\n",
    "    if(depth >= 0):\n",
    "        turtle = H1(depth - 1, turtle, x, y)\n",
    "        turtleStep(turtle, x, y)\n",
    "        turtle = H6(depth - 1, turtle, x, y)\n",
    "        turtleStep(turtle, x, y)\n",
    "        turtle = H3(depth - 1, turtle, x, y)\n",
    "        turtleStep(turtle, x, y)\n",
    "        turtle = H4(depth - 1, turtle, x, y)\n",
    "    else:\n",
    "        turtle = turtleLeft(turtle)\n",
    "    return turtle\n",
    "\n",
    "def H4(depth, turtle, x, y): # E in the worksheet\n",
    "    if(depth >= 0):\n",
    "        turtle = H6(depth - 1, turtle, x, y)\n",
    "        turtleStep(turtle, x, y)\n",
    "        turtle = H1(depth - 1, turtle, x, y)\n",
    "        turtleStep(turtle, x, y)\n",
    "        turtle = H5(depth - 1, turtle, x, y)\n",
    "        turtleStep(turtle, x, y)\n",
    "        turtle = H3(depth - 1, turtle, x, y)\n",
    "    return turtle\n",
    "\n",
    "def H5(depth, turtle, x, y): # T in the worksheet\n",
    "    if(depth >= 0):\n",
    "        turtle = H6(depth - 1, turtle, x, y)\n",
    "        turtleStep(turtle, x, y)\n",
    "        turtle = H1(depth - 1, turtle, x, y)\n",
    "        turtleStep(turtle, x, y)\n",
    "        turtle = H5(depth - 1, turtle, x, y)\n",
    "        turtleStep(turtle, x, y)\n",
    "        turtle = H2(depth - 1, turtle, x, y)\n",
    "    else:\n",
    "        turtle = turtleRight(turtle)\n",
    "    return turtle\n",
    "\n",
    "def H6(depth, turtle, x, y): # R in the worksheet\n",
    "    if(depth >= 0):\n",
    "        turtle = H4(depth - 1, turtle, x, y)\n",
    "        turtleStep(turtle, x, y)\n",
    "        turtle = H6(depth - 1, turtle, x, y)\n",
    "        turtleStep(turtle, x, y)\n",
    "        turtle = H3(depth - 1, turtle, x, y)\n",
    "        turtleStep(turtle, x, y)\n",
    "        turtle = H5(depth - 1, turtle, x, y)\n",
    "    else:\n",
    "        turtle = turtleLeft(turtle)\n",
    "    return turtle"
   ]
  },
  {
   "cell_type": "markdown",
   "metadata": {},
   "source": [
    "#### Hilbert curve generating script."
   ]
  },
  {
   "cell_type": "code",
   "execution_count": 23,
   "metadata": {
    "scrolled": true
   },
   "outputs": [
    {
     "data": {
      "image/png": "[encoded data removed]",
      "text/plain": [
       "<Figure size 432x288 with 1 Axes>"
      ]
     },
     "metadata": {
      "needs_background": "light"
     },
     "output_type": "display_data"
    }
   ],
   "source": [
    "# turtle for the Hilbert curve\n",
    "depth = 2\n",
    "turtle = 0\n",
    "x = [0.5]\n",
    "y = [0.5]\n",
    "H1(depth, turtle, x, y)\n",
    "plotLineStrip(x, y, None)"
   ]
  },
  {
   "cell_type": "code",
   "execution_count": null,
   "metadata": {},
   "outputs": [],
   "source": []
  }
 ],
 "metadata": {
  "kernelspec": {
   "display_name": "Python 3",
   "language": "python",
   "name": "python3"
  },
  "language_info": {
   "codemirror_mode": {
    "name": "ipython",
    "version": 3
   },
   "file_extension": ".py",
   "mimetype": "text/x-python",
   "name": "python",
   "nbconvert_exporter": "python",
   "pygments_lexer": "ipython3",
   "version": "3.8.8"
  }
 },
 "nbformat": 4,
 "nbformat_minor": 1
}
