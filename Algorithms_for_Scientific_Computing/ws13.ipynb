{
 "cells": [
  {
   "cell_type": "markdown",
   "metadata": {},
   "source": [
    "# Refinement Trees and Parallelization with Space-Filling Curves"
   ]
  },
  {
   "cell_type": "markdown",
   "metadata": {},
   "source": [
    "# Exercise 1: Hilbert-Order Encoding of a Quadtree"
   ]
  },
  {
   "cell_type": "markdown",
   "metadata": {},
   "source": [
    "#### SFC python plotting routines:"
   ]
  },
  {
   "cell_type": "code",
   "execution_count": 1,
   "metadata": {},
   "outputs": [],
   "source": [
    "import matplotlib.pyplot as plt\n",
    "\n",
    "\n",
    "# functions to plot SFC\n",
    "def plotLineStrip(x, y, title = None):\n",
    "    _, ax = plt.subplots()\n",
    "    plt.plot(x, y, linewidth = 2.0, color = 'g')\n",
    "    if title is not None:\n",
    "        plt.title(title)\n",
    "    ax.set_xlim(min(x)-0.05, max(x)+0.05)\n",
    "    ax.set_ylim(min(y)-0.05, max(y)+0.05)\n",
    "\n",
    "\n",
    "def plotLineStripWithCells(x, y, cellx, celly, title = None):\n",
    "    _, ax = plt.subplots()\n",
    "    plt.plot(x, y, linewidth = 2.0, color = 'g')\n",
    "    plt.plot(cellx, celly, linewidth = 1.0, color = 'b')\n",
    "    if title is not None:\n",
    "        plt.title(title)\n",
    "    ax.set_xlim(min(cellx)-0.05, max(cellx)+0.05)\n",
    "    ax.set_ylim(min(celly)-0.05, max(celly)+0.05)\n",
    "    plt.gca().set_aspect('equal', adjustable='box')\n",
    "\n"
   ]
  },
  {
   "cell_type": "markdown",
   "metadata": {},
   "source": [
    "#### Auxiliary routines to find the middle of an interval or a square"
   ]
  },
  {
   "cell_type": "code",
   "execution_count": 2,
   "metadata": {},
   "outputs": [],
   "source": [
    "# helper functions to get the middle points of a segment or a cube\n",
    "def mid2(a,b):\n",
    "    \"\"\"Rerurn the midpoint between two points,\n",
    "    i.e. the center of the connecting edge.\"\"\"\n",
    "\n",
    "    return ((a[0]+b[0])/2.,(a[1]+b[1])/2.)\n",
    "\n",
    "def mid4(a,b,c,d):\n",
    "    \"\"\"Return the center of a subsquare specified\n",
    "    by its four corners.\"\"\"\n",
    "    return ((a[0]+b[0]+c[0]+d[0])/4.,(a[1]+b[1]+c[1]+d[1])/4.)"
   ]
  },
  {
   "cell_type": "markdown",
   "metadata": {},
   "source": [
    "#### Quadtree examples encounded by a stream of numbers"
   ]
  },
  {
   "cell_type": "markdown",
   "metadata": {},
   "source": [
    "The quadtree is represented via a variant of the bitstream encoding:\n",
    "instead of 0/1 bits to represent whether a quadtree node is an inner\n",
    "node or a leaf, we will apply an integer stream, where each number\n",
    "represents the number of nodes contained in its respective subtree.\n",
    "Hence, 1 represents a leaf node, and 5 would represent a quadtree\n",
    "of height 2 with one inner node and four leaves. \n",
    "\n",
    "Implement get_task_tree() that return the quadtree build in Exercise 1 "
   ]
  },
  {
   "cell_type": "code",
   "execution_count": 3,
   "metadata": {},
   "outputs": [],
   "source": [
    "# function to construct a uniformly refined tree of a given length\n",
    "def gen_full_tree(depth):\n",
    "    # depth: depth of the generated spacetree\n",
    "    if depth == 0:\n",
    "        spacetree = [1]\n",
    "    else:\n",
    "        ft = gen_full_tree(depth-1)\n",
    "        f0 = [1+4*ft[0]]\n",
    "        ft = ft*4\n",
    "        spacetree = f0 + ft\n",
    "    return spacetree\n",
    "\n",
    "# \"Fibonnacci-SpaceTree\" (the depth decreases for the two last subtrees):\n",
    "def gen_fib_tree(depth):\n",
    "    # depth: depth of the generated spacetree\n",
    "    if depth == 0:\n",
    "        spacetree = [1]\n",
    "    else:\n",
    "        if depth == 1:\n",
    "            dp = [depth-1]*4\n",
    "        elif depth == 2:\n",
    "            dp = [depth-1]*2 + [depth-2]*2\n",
    "        else:\n",
    "            dp = [depth-1] + [depth-2]*2 + [depth-3]\n",
    "        fte = gen_fib_tree(dp[0])\n",
    "        ft0 = fte[0]\n",
    "        ft = fte\n",
    "        for k in range(1,4):\n",
    "            fte = gen_fib_tree(dp[k])\n",
    "            ft0 += fte[0]\n",
    "            ft += fte\n",
    "        spacetree = [1+ft0]+ft\n",
    "\n",
    "    return spacetree\n",
    "\n",
    "# Return the tree from the worksheet Ex1\n",
    "def get_task_tree():\n",
    "    return [141,\\\n",
    "              45,\\\n",
    "                1,\\\n",
    "                13,\\\n",
    "                  1,\\\n",
    "                  1,\\\n",
    "                  5,  1,1,1,1,\\\n",
    "                  5,  1,1,1,1,\\\n",
    "                13,\\\n",
    "                  5,  1,1,1,1,\\\n",
    "                  1,\\\n",
    "                  5,  1,1,1,1,\\\n",
    "                  1,\\\n",
    "                17,\\\n",
    "                  5,  1,1,1,1,\\\n",
    "                  5,  1,1,1,1,\\\n",
    "                  1,\\\n",
    "                  5,  1,1,1,1,\\\n",
    "              61,\\\n",
    "                13,\\\n",
    "                  5,  1,1,1,1,\\\n",
    "                  1,\\\n",
    "                  1,\\\n",
    "                  5,  1,1,1,1,\\\n",
    "                17,\\\n",
    "                  5,  1,1,1,1,\\\n",
    "                  1,\\\n",
    "                  5,  1,1,1,1,\\\n",
    "                  5,  1,1,1,1,\\\n",
    "                17,\\\n",
    "                  5,  1,1,1,1,\\\n",
    "                  5,  1,1,1,1,\\\n",
    "                  1,\\\n",
    "                  5,  1,1,1,1,\\\n",
    "                13,\\\n",
    "                  5,  1,1,1,1,\\\n",
    "                  1,\\\n",
    "                  1,\\\n",
    "                  5,  1,1,1,1,\\\n",
    "              1,\\\n",
    "              33,\\\n",
    "                1,\\\n",
    "                17,\\\n",
    "                  5,  1,1,1,1,\\\n",
    "                  5,  1,1,1,1,\\\n",
    "                  1,\\\n",
    "                  5,  1,1,1,1,\\\n",
    "                13,\\\n",
    "                  5,  1,1,1,1,\\\n",
    "                  5,  1,1,1,1,\\\n",
    "                  1,\\\n",
    "                  1,\\\n",
    "                1]"
   ]
  },
  {
   "cell_type": "markdown",
   "metadata": {},
   "source": [
    "#### Hilbert curve class to construct an adaptive space-filling curve"
   ]
  },
  {
   "cell_type": "markdown",
   "metadata": {},
   "source": [
    "Method hilbertChilds is equivalent to method hilbertVL,\n",
    "but generates an adaptive Hilbert order on the quadtree encoded\n",
    "by the list vertices."
   ]
  },
  {
   "cell_type": "code",
   "execution_count": 4,
   "metadata": {},
   "outputs": [],
   "source": [
    "# Build the Hilbert curve to a spacetree\n",
    "class HilbertSFCVertexLabAdp():\n",
    "\n",
    "    def __init__(self):\n",
    "        self.points = []\n",
    "        self.unitsquare = [(0.,0.),(0.,1,),(1.,1.),(1.,0.)]\n",
    "        self.spacetree = [1]\n",
    "        self.stptr = -1\n",
    "        self.cubes = []\n",
    "        \n",
    "        \n",
    "    def mark(self, vertices):\n",
    "        \"\"\"Attach a point to the class lists of points\n",
    "        (for plotting the respective connecting polygonial line).\"\"\"\n",
    "\n",
    "        self.points.append(mid4(*vertices))\n",
    "    \n",
    "    def markCube(self, vertices):\n",
    "        \"\"\"Attach coordinates of a cube to class list of cubes.\"\"\"\n",
    "\n",
    "        self.cubes.extend(vertices+[vertices[0]]) #close the cube for plotting\n",
    "        \n",
    "    def getXY(self):\n",
    "        \"\"\"Split points into x and y list for convinient plotting.\"\"\"\n",
    "\n",
    "        x = [point[0] for point in self.points]\n",
    "        y = [point[1] for point in self.points]\n",
    "\n",
    "        return (x,y)\n",
    "\n",
    "    def getCubeXY(self):\n",
    "        \"\"\"Split cube coordinates into x and y list for convinient plotting.\"\"\"\n",
    "\n",
    "        x = [cube[0] for cube in self.cubes]\n",
    "        y = [cube[1] for cube in self.cubes]\n",
    "        \n",
    "        return (x,y)\n",
    "\n",
    "    def hilbertChilds(self, vertices):\n",
    "        self.stptr += 1\n",
    "        if (self.spacetree[self.stptr] == 1):\n",
    "            self.mark(vertices)\n",
    "            self.markCube(vertices)\n",
    "        else:\n",
    "            mvall = mid4(*vertices)\n",
    "            mv01 = mid2(vertices[0],vertices[1])\n",
    "            mv03 = mid2(vertices[0],vertices[3])\n",
    "            mv12 = mid2(vertices[1],vertices[2])\n",
    "            mv23 = mid2(vertices[2],vertices[3])\n",
    "\n",
    "            self.hilbertChilds([vertices[0], mv03, mvall, mv01])\n",
    "            self.hilbertChilds([mv01, vertices[1], mv12, mvall])\n",
    "            self.hilbertChilds([mvall, mv12, vertices[2], mv23])\n",
    "            self.hilbertChilds([mv23, mvall, mv03, vertices[3]])\n",
    "            \n",
    "    def hilbert(self, spacetree):\n",
    "        self.points = []\n",
    "        self.cubes = []\n",
    "        self.stptr = -1\n",
    "        self.spacetree = spacetree\n",
    "        self.hilbertChilds(self.unitsquare)"
   ]
  },
  {
   "cell_type": "markdown",
   "metadata": {},
   "source": [
    "#### Demo"
   ]
  },
  {
   "cell_type": "code",
   "execution_count": 5,
   "metadata": {},
   "outputs": [
    {
     "data": {
      "image/png": "[encoded data removed]",
      "text/plain": [
       "<Figure size 432x288 with 1 Axes>"
      ]
     },
     "metadata": {
      "needs_background": "light"
     },
     "output_type": "display_data"
    }
   ],
   "source": [
    "# Chose the spacetree\n",
    "\n",
    "spacetree = get_task_tree()\n",
    "#spacetree = gen_full_tree(4)\n",
    "#spacetree = gen_fib_tree(5)\n",
    "\n",
    "\n",
    "hsfc_adp = HilbertSFCVertexLabAdp()\n",
    "hsfc_adp.hilbert(spacetree)\n",
    "X, Y = hsfc_adp.getXY()\n",
    "cellX, cellY = hsfc_adp.getCubeXY()\n",
    "plotLineStripWithCells(X, Y, cellX, cellY)"
   ]
  },
  {
   "cell_type": "markdown",
   "metadata": {},
   "source": [
    "# Exercise 2: Parallelization with Space-Filling Curves"
   ]
  },
  {
   "cell_type": "markdown",
   "metadata": {},
   "source": [
    "#### Hilbert curve class to construct only a certain part of an adaptive space-filling curve"
   ]
  },
  {
   "cell_type": "markdown",
   "metadata": {},
   "source": [
    "Override the method hilbertChilds to only mark the leafs between start and end using the leaf ordering from the traversal of the curve. You might need to add new class member field in the init or hilbert(...)"
   ]
  },
  {
   "cell_type": "code",
   "execution_count": 6,
   "metadata": {},
   "outputs": [],
   "source": [
    "# Build a partial Hilbert curve to a spacetree\n",
    "class HilbertSFCVertexLabAdpPart(HilbertSFCVertexLabAdp):\n",
    "\n",
    "    def __init__(self):\n",
    "        super().__init__()\n",
    "        self.cellseen = 0\n",
    "        \n",
    "    def hilbertChilds(self, vertices):\n",
    "        self.stptr += 1\n",
    "        if (self.spacetree[self.stptr] == 1):\n",
    "            self.cellseen += 1\n",
    "            # leaf cell of the quadtree\n",
    "            if ((self.cellseen >= self.first) and (self.cellseen <= self.last)):\n",
    "                self.mark(vertices)\n",
    "                self.markCube(vertices)\n",
    "        else:\n",
    "            # expand subtree, if member of the desired partition\n",
    "            mvall = mid4(*vertices)\n",
    "            mv01 = mid2(vertices[0],vertices[1])\n",
    "            mv03 = mid2(vertices[0],vertices[3])\n",
    "            mv12 = mid2(vertices[1],vertices[2])\n",
    "            mv23 = mid2(vertices[2],vertices[3])\n",
    "\n",
    "            self.hilbertChilds([vertices[0], mv03, mvall, mv01])\n",
    "            self.hilbertChilds([mv01, vertices[1], mv12, mvall])\n",
    "            self.hilbertChilds([mvall, mv12, vertices[2], mv23])\n",
    "            self.hilbertChilds([mv23, mvall, mv03, vertices[3]])\n",
    "\n",
    "    def hilbert(self,spacetree,first,last):\n",
    "        self.points = []\n",
    "        self.cubes = []\n",
    "        self.stptr = -1 \n",
    "        self.spacetree = spacetree\n",
    "        self.cellseen = 0\n",
    "        self.first = first\n",
    "        self.last = last\n",
    "        self.hilbertChilds(self.unitsquare)"
   ]
  },
  {
   "cell_type": "markdown",
   "metadata": {},
   "source": [
    "#### Demo"
   ]
  },
  {
   "cell_type": "code",
   "execution_count": 12,
   "metadata": {},
   "outputs": [
    {
     "data": {
      "image/png": "[encoded data removed]",
      "text/plain": [
       "<Figure size 432x288 with 1 Axes>"
      ]
     },
     "metadata": {
      "needs_background": "light"
     },
     "output_type": "display_data"
    }
   ],
   "source": [
    "hsfc_adp_part = HilbertSFCVertexLabAdpPart()\n",
    "hsfc_adp_part.hilbert(spacetree,50,70)\n",
    "X, Y = hsfc_adp_part.getXY()\n",
    "cellX, cellY = hsfc_adp_part.getCubeXY()\n",
    "plotLineStripWithCells(X, Y, cellX, cellY)"
   ]
  },
  {
   "cell_type": "code",
   "execution_count": null,
   "metadata": {},
   "outputs": [],
   "source": []
  }
 ],
 "metadata": {
  "kernelspec": {
   "display_name": "Python 3",
   "language": "python",
   "name": "python3"
  },
  "language_info": {
   "codemirror_mode": {
    "name": "ipython",
    "version": 3
   },
   "file_extension": ".py",
   "mimetype": "text/x-python",
   "name": "python",
   "nbconvert_exporter": "python",
   "pygments_lexer": "ipython3",
   "version": "3.8.8"
  }
 },
 "nbformat": 4,
 "nbformat_minor": 1
}
