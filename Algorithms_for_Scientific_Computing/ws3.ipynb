{
 "cells": [
  {
   "cell_type": "markdown",
   "metadata": {},
   "source": [
    "# Discrete Cosine Transform"
   ]
  },
  {
   "cell_type": "markdown",
   "metadata": {},
   "source": [
    "## Exercise 2: Simple JPEG Encoder"
   ]
  },
  {
   "cell_type": "markdown",
   "metadata": {},
   "source": [
    "The Discrete Cosine Transform is the key to JPEG compression. Blocks of $8 \\times 8$ pixels are transformed to the frequency domain to be in a format which is more suited for compression. The code template provides you with the pixel values of a given $8 \\times 8$ block.\n",
    "\n",
    "<b>a)</b> In a greyscale image, the pixel values are usually encoded with 8 bit with values in $[0, 255]$. The DCT, however, works on $[-128, 127]$. Write a function that normalises the pixel values.\n",
    "\n",
    "<b>b)</b> The DCT transforms an $8 \\times 8$ block from the spatial domain to the frequency domain. Use\n",
    "\n",
    "$$\\begin{equation}F_{uv} = \\frac{1}{\\sqrt{2N}} c_u c_v \\sum_{x=0}^{N-1} \\sum_{y=0}^{N-1} f_{xy} \\cos \\left(\\frac{(2x+1)u\\pi}{2N}\\right) \\cos \\left(\\frac{(2y+1)v\\pi}{2N}\\right)\n",
    "\\end{equation}$$\n",
    "\n",
    "where \n",
    "\n",
    "$$\\begin{equation}\n",
    "c_{u;v} = \\begin{cases} \\frac{1}{\\sqrt{2}} & u;v = 0 \\\\ 1 & \\text{otherwise.}\\end{cases}\n",
    "\\end{equation}$$\n",
    "What is the complexity of your DCT routine? What is the meaning of $F_{00}$? \n",
    "\n",
    "<b>c)</b> The coefficients $F_{uv}$ are divided by quantisation values $Q_{uv}$ and rounded to the nearest integer. Quantisation is a lossy process; high quantisation coefficients result in a high compression factor, though at the expense of image quality. Implement the quantisation step. A common choice for the quantisation matrix is given in the code template. As mentioned in the lecture, a full JPEG encoder would now apply further compression techniques.  \n",
    "\n",
    "<b>d)</b> Derive the IDCT and write a decoder for our simple JPEG block encoder. Compare the original image with the subsequently encoded and then decoded image."
   ]
  },
  {
   "cell_type": "code",
   "execution_count": 1,
   "metadata": {},
   "outputs": [
    {
     "data": {
      "image/png": "[encoded data removed]",
      "text/plain": [
       "<Figure size 432x288 with 1 Axes>"
      ]
     },
     "metadata": {
      "needs_background": "light"
     },
     "output_type": "display_data"
    },
    {
     "name": "stderr",
     "output_type": "stream",
     "text": [
      "<ipython-input-1-6d3ce58e6bac>:22: DeprecationWarning: `np.int` is a deprecated alias for the builtin `int`. To silence this warning, use `int` by itself. Doing this will not modify any behavior and is safe. When replacing `np.int`, you may wish to use e.g. `np.int64` or `np.int32` to specify the precision. If you wish to review your current use, check the release note link for additional information.\n",
      "Deprecated in NumPy 1.20; for more details and guidance: https://numpy.org/devdocs/release/1.20.0-notes.html#deprecations\n",
      "  return block - 128*np.ones((8,8), dtype=np.int)\n",
      "<ipython-input-1-6d3ce58e6bac>:29: DeprecationWarning: `np.int` is a deprecated alias for the builtin `int`. To silence this warning, use `int` by itself. Doing this will not modify any behavior and is safe. When replacing `np.int`, you may wish to use e.g. `np.int64` or `np.int32` to specify the precision. If you wish to review your current use, check the release note link for additional information.\n",
      "Deprecated in NumPy 1.20; for more details and guidance: https://numpy.org/devdocs/release/1.20.0-notes.html#deprecations\n",
      "  return block + 128*np.ones((8,8), dtype=np.int)\n"
     ]
    },
    {
     "data": {
      "image/png": "[encoded data removed]",
      "text/plain": [
       "<Figure size 432x288 with 1 Axes>"
      ]
     },
     "metadata": {
      "needs_background": "light"
     },
     "output_type": "display_data"
    }
   ],
   "source": [
    "import numpy as np\n",
    "from matplotlib import pyplot as plt\n",
    "from numpy import dtype\n",
    "\n",
    "\n",
    "Cosines = np.zeros((8,8))\n",
    "Coeffs  = np.ones((8,8))\n",
    "qtable = np.matrix( [[ 16,  11,  10,  16,  24,  40,  51,  61],\n",
    "                     [ 12,  12,  14,  19,  26,  58,  60,  55],\n",
    "                     [ 14,  13,  16,  24,  40,  57,  69,  56],\n",
    "                     [ 14,  17,  22,  29,  51,  87,  80,  62],\n",
    "                     [ 18,  22,  37,  56,  68, 109, 103,  77],\n",
    "                     [ 24,  35,  55,  64,  81, 104, 113,  92],\n",
    "                     [ 49,  64,  78,  87, 103, 121, 120, 101],\n",
    "                     [ 72,  92,  95,  98, 112, 100, 103,  99]])\n",
    "\n",
    "\n",
    "def normalise(block):\n",
    "    '''\n",
    "    Shift pixel values of an 8-by-8 matrix to [-128, 127]\n",
    "    '''\n",
    "    return block - 128*np.ones((8,8), dtype=np.int)\n",
    "\n",
    "\n",
    "def denormalise(block):\n",
    "    '''\n",
    "    Shift pixel values to [0, 255]\n",
    "    '''\n",
    "    return block + 128*np.ones((8,8), dtype=np.int)\n",
    "\n",
    "\n",
    "def dct(block):\n",
    "    '''\n",
    "    DCT matrix for an 8-by-8 block\n",
    "    '''\n",
    "    dctBlock = np.zeros((8,8)) \n",
    "         \n",
    "    for i in range(0,8):\n",
    "        for j in range(0,8):\n",
    "            blockSum = 0.\n",
    "            for x in range(0,8):\n",
    "                for y in range(0,8):\n",
    "                    pixel = block[x,y]\n",
    "                    blockSum = blockSum + pixel * Cosines[x,i] * Cosines[y,j]\n",
    "            dctBlock[i,j] = int(0.25 * Coeffs[i,j] * blockSum)\n",
    "            \n",
    "    return dctBlock\n",
    "\n",
    "\n",
    "def idct(block):\n",
    "    '''\n",
    "    inverse DCT for an 8-by-8 block\n",
    "    '''\n",
    "    image = np.zeros((8,8)) \n",
    "         \n",
    "    for x in range(0,8):\n",
    "        for y in range(0,8):\n",
    "            blockSum = 0.\n",
    "            for u in range(0,8):\n",
    "                for v in range(0,8):\n",
    "                    blockSum = blockSum + Coeffs[u,v] * block[u,v] * Cosines[x,u] * Cosines[y,v]\n",
    "            image[x,y] = int(0.25 * blockSum)\n",
    "            \n",
    "    return image\n",
    "\n",
    "    \n",
    "def quantise(block):\n",
    "    '''\n",
    "    Lossy compression through quantisation of DCT-coefficients\n",
    "    '''   \n",
    "    return np.round(block/qtable, 0)\n",
    "\n",
    "\n",
    "def dequantise(block):\n",
    "    '''\n",
    "    Dequantise the DCT coefficients\n",
    "    '''\n",
    "    return np.multiply(qtable, block)\n",
    "\n",
    "\n",
    "def encodeBlock(block):\n",
    "    '''\n",
    "    JPEG-encode an 8-by-8 block (no lossless compression)\n",
    "    '''\n",
    "    normalisedBlock = normalise(block)\n",
    "    dctBlock = dct(normalisedBlock)\n",
    "    quantisedBlock = quantise(dctBlock)\n",
    "    return quantisedBlock\n",
    "\n",
    "\n",
    "def decodeBlock(block):\n",
    "    '''\n",
    "    Decode an 8-by-8 block for your simple JPEG encoder\n",
    "    '''\n",
    "    return denormalise(idct(dequantise(block)))\n",
    "\n",
    "\n",
    "# values in [0, 255]\n",
    "image = np.matrix([[ 37, 41,  53,  68,  89,  79,  54,  68],\n",
    "                   [ 36, 28,  38,  65, 100,  94,  62,  65],\n",
    "                   [ 46, 36,  46,  66,  84,  76,  59,  78],\n",
    "                   [ 84, 67,  73,  84,  86,  73,  64,  87],\n",
    "                   [ 77, 86, 116, 113,  77,  57,  79, 129],\n",
    "                   [ 73, 62,  76,  74,  58,  70, 109, 155],\n",
    "                   [ 82, 54,  55,  57,  63, 105, 154, 189],\n",
    "                   [121, 73,  65,  86, 126, 181, 203, 200]], dtype=int)\n",
    "\n",
    "plt.imshow(image, cmap='gray', interpolation='nearest', vmin=0, vmax=255)\n",
    "plt.show()\n",
    "\n",
    "# compute lookup tables\n",
    "for x in range(0,8):\n",
    "    for y in range(0,8):\n",
    "        Cosines[x,y] = np.cos((2.*x+1)*y*np.pi/16)\n",
    "        \n",
    "vec = np.array([1/np.sqrt(2), 1, 1, 1, 1, 1, 1, 1])\n",
    "Coeffs = np.outer(vec, vec)\n",
    "\n",
    "# encode and decode the given block \n",
    "encodedBlock = encodeBlock(image)\n",
    "decodedImage = decodeBlock(encodedBlock)\n",
    "plt.imshow(decodedImage, cmap='gray', interpolation='nearest', vmin=0, vmax=255)\n",
    "plt.show()"
   ]
  },
  {
   "cell_type": "markdown",
   "metadata": {},
   "source": [
    "## Exercise 3: Discrete Cosine Transform"
   ]
  },
  {
   "cell_type": "markdown",
   "metadata": {},
   "source": [
    "We start with a dataset $f_{-N+1}, \\ldots, f_N$, which fulfills the following\n",
    "symmetry constraint:\n",
    "\\begin{equation}\n",
    "      f_{-n} = f_n \\qquad \\mbox{for $n=1,\\ldots, N-1$}\n",
    "\\end{equation}\n",
    "\n",
    "<b>a)</b> Show that the corresponding Fourier coefficients\n",
    "   $$\\begin{equation}\n",
    "      F_k = \\frac{1}{2N}\n",
    "            \\sum\\limits_{n=-N+1}^{N} f_n \\omega_{2N}^{-kn}\n",
    "   \\end{equation}$$\n",
    "   are real values only and can be written as:\n",
    "   \n",
    "   $$\\begin{equation}\n",
    "     F_k = \\frac{1}{N} \\left( \\frac{1}{2} f_0 + \\sum\\limits_{n=1}^{N-1} f_n \\cos\\left( \\frac{\\pi nk}{N} \\right)+\\frac{1}{2} f_N \\cos(\\pi k)\\right).\n",
    "   \\end{equation}$$\n",
    "\n",
    "<b>b)</b> Show that the $F_k$ is symmetric too.\n",
    "\n",
    "<b>c)</b>\n",
    "Let $FFT(f)$ be a procedure that computes the coefficients $F_k$\n",
    "efficiently.\n",
    "\n",
    "Write a short procedure $my\\_dct(g)$ which uses procedure $FFT$\n",
    "to compute the coefficients $F_k$ for $k=0,\\ldots, N$ \n",
    "for the (non-symmetrical) data $f_0,\\ldots,f_N$."
   ]
  },
  {
   "cell_type": "code",
   "execution_count": 1,
   "metadata": {},
   "outputs": [
    {
     "name": "stdout",
     "output_type": "stream",
     "text": [
      "my_dct:[2.6, -1.694427190999916, -0.12360679774997899, 0.09442719099991592, 0.323606797749979, 0.2]\n",
      "re dct:[2.6, -1.6944271909999156, -0.12360679774997917, 0.0944271909999161, 0.323606797749979, 0.2]\n"
     ]
    }
   ],
   "source": [
    "# given fft procedure\n",
    "def fft(f):\n",
    "    from scipy.fftpack import fft as unscaled_fft\n",
    "    return list(map(lambda x : x/len(f), unscaled_fft(f)))\n",
    "\n",
    "\n",
    "def my_dct(g):\n",
    "    f = g + g[-2:0:-1]\n",
    "    F = fft(f)\n",
    "    return F[:len(g)]\n",
    "\n",
    "\n",
    "## test\n",
    "\n",
    "# test direct implementation of dct\n",
    "import math\n",
    "def dct(g):\n",
    "    N = len(g)-1\n",
    "    return [1/N*(sum([g[n]*math.cos(math.pi*k*n/N) for n in range(1,N)])+g[0]/2+g[N]/2*math.cos(math.pi*k)) for k in range(N+1)]\n",
    "\n",
    "\n",
    "g = [0.0, -1.0, 2.0, 4.0, 5.0, 6.0]\n",
    "print(\"my_dct:\" + str(list(map(lambda x : x.real, my_dct(g))))) # remove imaginary part caused by rounding error (in the 10^-16)\n",
    "print(\"re dct:\" + str(dct(g)))\n"
   ]
  },
  {
   "cell_type": "code",
   "execution_count": null,
   "metadata": {},
   "outputs": [],
   "source": []
  }
 ],
 "metadata": {
  "kernelspec": {
   "display_name": "Python 3",
   "language": "python",
   "name": "python3"
  },
  "language_info": {
   "codemirror_mode": {
    "name": "ipython",
    "version": 3
   },
   "file_extension": ".py",
   "mimetype": "text/x-python",
   "name": "python",
   "nbconvert_exporter": "python",
   "pygments_lexer": "ipython3",
   "version": "3.8.8"
  }
 },
 "nbformat": 4,
 "nbformat_minor": 1
}
