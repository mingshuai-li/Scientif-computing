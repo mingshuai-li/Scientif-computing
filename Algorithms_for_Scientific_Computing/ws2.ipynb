{
 "cells": [
  {
   "cell_type": "markdown",
   "metadata": {},
   "source": [
    "# Algorithms of Scientific Computing"
   ]
  },
  {
   "cell_type": "markdown",
   "metadata": {},
   "source": [
    "## Exercise 1"
   ]
  },
  {
   "cell_type": "markdown",
   "metadata": {},
   "source": [
    "In the last worksheet we showed that the $a_k$ and $b_k$ can be computed by\n",
    "\\begin{equation}\n",
    "    c_k = \\frac{1}{12} \\sum\\limits_{l=0}^{11} X_l e^{-i2\\pi kl/12},\n",
    "\\end{equation}\n",
    "i.e. by a DFT.\n",
    "\n",
    "Use the idea of the Fast Fourier Transformation, to reduce this DFT of length 12 to the computation of some DFTs of length 6 or 3, respectively.\n",
    "\n",
    "Use the fact that all $X_l \\in \\mathbb{R}$.\n",
    "\n",
    "Draw a diagram, that shows the needed computation steps or write an appropriate program (for example in Python)."
   ]
  },
  {
   "cell_type": "code",
   "execution_count": 2,
   "metadata": {},
   "outputs": [
    {
     "data": {
      "image/png": "[encoded data removed]",
      "text/plain": [
       "<Figure size 432x288 with 1 Axes>"
      ]
     },
     "metadata": {
      "needs_background": "light"
     },
     "output_type": "display_data"
    }
   ],
   "source": [
    "import cmath\n",
    "import math\n",
    "\n",
    "\n",
    "def dft3(X):\n",
    "    c0 = np.sum(X)\n",
    "    c1 = np.sum([X[l]*cmath.exp(-2*math.pi*l*1J/3) for l in range(0,3)])\n",
    "    c2 = c1.conjugate()\n",
    "    return [c0, c1, c2]\n",
    "\n",
    "def rfft6(X):\n",
    "    c1 = dft3([X[2*l] for l in range(0,3)])\n",
    "    c2 = dft3([X[2*l+1] for l in range(0,3)])\n",
    "    c = [c1[k]+c2[k]*cmath.exp(-math.pi*k*1J/3) for k in range(0,3)] + [c1[0]-c2[0]]\n",
    "    c = c + [c[6-k].conjugate() for k in range(4,6)]\n",
    "    return c\n",
    "\n",
    "def rfft12(X):\n",
    "    c1 = rfft6([X[2*l] for l in range(0,6)])\n",
    "    c2 = rfft6([X[2*l+1] for l in range(0,6)])\n",
    "    c = [(c1[k]+c2[k]*cmath.exp(-math.pi*k*1J/6))/12 for k in range(0,6)] + [(c1[0]-c2[0])/12]\n",
    "    c = c + [c[12-k].conjugate() for k in range(7,12)]\n",
    "    return c\n",
    "\n",
    "## test with last WS data to see if this work\n",
    "import numpy as np\n",
    "import matplotlib.pyplot as plt\n",
    "import math\n",
    "\n",
    "X = [408, 89, -66, 10, 338, 807, 1238, 1511, 1583, 1462, 1183, 804]\n",
    "\n",
    "c = np.array(rfft12(X))\n",
    "\n",
    "a = c.real\n",
    "a[1:6] = np.product([[2],a[1:6]])\n",
    "b = np.product([[-2],c[1:6].imag])\n",
    "\n",
    "#generate interpolation point\n",
    "def Xint_gen(a,b,t):\n",
    "    return sum([a[k]*math.cos(math.pi*k*t/180) for k in range(0,7)]) + \\\n",
    "        sum([b[k-1]*math.sin(math.pi*k*t/180) for k in range(1,6)])\n",
    "\n",
    "# plotting interpolation results and initial data\n",
    "resolution = 2\n",
    "plt.plot(range(0,720,resolution), [Xint_gen(a,b,t) for t in range(0,720,resolution)])\n",
    "plt.plot(range(0,360,30), X, 'o');\n",
    "plt.xlabel('ascension')\n",
    "plt.ylabel('declination')\n",
    "plt.show()"
   ]
  },
  {
   "cell_type": "code",
   "execution_count": null,
   "metadata": {},
   "outputs": [],
   "source": []
  }
 ],
 "metadata": {
  "kernelspec": {
   "display_name": "Python 3",
   "language": "python",
   "name": "python3"
  },
  "language_info": {
   "codemirror_mode": {
    "name": "ipython",
    "version": 3
   },
   "file_extension": ".py",
   "mimetype": "text/x-python",
   "name": "python",
   "nbconvert_exporter": "python",
   "pygments_lexer": "ipython3",
   "version": "3.8.8"
  }
 },
 "nbformat": 4,
 "nbformat_minor": 1
}
