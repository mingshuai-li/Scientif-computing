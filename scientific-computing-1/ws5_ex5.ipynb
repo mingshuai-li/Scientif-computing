{
 "cells": [
  {
   "cell_type": "markdown",
   "metadata": {},
   "source": [
    "# Logistic Map"
   ]
  },
  {
   "cell_type": "code",
   "execution_count": 1,
   "metadata": {},
   "outputs": [],
   "source": [
    "from pylab import *"
   ]
  },
  {
   "cell_type": "markdown",
   "metadata": {},
   "source": [
    "The logistic map is given as: "
   ]
  },
  {
   "cell_type": "markdown",
   "metadata": {},
   "source": [
    "$$x_{n+1}=f(x_n)=r\\cdot x_n\\cdot \\left(1-x_n\\right)$$\n",
    "with $r>0$"
   ]
  },
  {
   "cell_type": "markdown",
   "metadata": {},
   "source": [
    "We first define this function:"
   ]
  },
  {
   "cell_type": "code",
   "execution_count": 2,
   "metadata": {},
   "outputs": [],
   "source": [
    "def getNext(x, r):\n",
    "    return r*x*(1-x)"
   ]
  },
  {
   "cell_type": "markdown",
   "metadata": {},
   "source": [
    "## Critical Points\n",
    "Let us first check, where our critical points are. Remember, we are using discrete maps, so a critical point can be found at: $x_{n+1}=x_n=x^*$ (nothing changes)"
   ]
  },
  {
   "cell_type": "markdown",
   "metadata": {},
   "source": [
    "$$x^*=r\\cdot x^*\\cdot (1-x^*)$$"
   ]
  },
  {
   "cell_type": "markdown",
   "metadata": {},
   "source": [
    "$$x^*_1=0 $$ $$\\vee$$ $$ 1=r\\cdot(1-x^*_2) \\Rightarrow x^*_2=1-r^{-1}$$"
   ]
  },
  {
   "cell_type": "markdown",
   "metadata": {},
   "source": [
    "For the stability analysis we need $f'(x)$:\n",
    "$$f'(x)=-2rx+r$$\n",
    "(a critical point $x^*$ is stable, if $|f'(x^*)|<1$\n",
    "\n",
    "Stability for $x_1^*=0$:\n",
    "$$f'(x_1^*=0)=r$$\n",
    "$x_1^*=0$ is therefore stable for $|r|<1$. With $r>0$:\n",
    "$$0<r<1$$"
   ]
  },
  {
   "cell_type": "markdown",
   "metadata": {},
   "source": [
    "Stability for $x_2^*=1-r^{-1}$:\n",
    "$$f'(x^*_2=1-r^{-1})=-2r\\cdot(1-r^{-1})+r=-2r+2+r=2-r$$"
   ]
  },
  {
   "cell_type": "markdown",
   "metadata": {},
   "source": [
    "$x_2^*=1-r^{-1}$ is therefore stable if\n",
    "$$1<r<3$$"
   ]
  },
  {
   "cell_type": "code",
   "execution_count": 3,
   "metadata": {},
   "outputs": [
    {
     "data": {
      "image/png": "[encoded data removed]",
      "text/plain": [
       "<Figure size 700x400 with 1 Axes>"
      ]
     },
     "metadata": {
      "needs_background": "light"
     },
     "output_type": "display_data"
    }
   ],
   "source": [
    "figure(figsize=(7, 4), dpi=100)\n",
    "\n",
    "#define the limits for the plots:\n",
    "xlim([0,4])\n",
    "ylim([-0.1,1])\n",
    "xlabel('r')\n",
    "ylabel('$x^*$')\n",
    "\n",
    "#first x_1:\n",
    "x = np.linspace(0, 1, 2)  # 2 evenly-spaced values from 0 to 1\n",
    "y = np.zeros(2)\n",
    "plot(x,y,'-g') #stable, so green\n",
    "#still x_1\n",
    "x = np.linspace(1, 4, 2)  # 2 evenly-spaced values from 1 to 4\n",
    "y = np.zeros(2)\n",
    "plot(x,y,'-r') #unstable, so red!\n",
    "\n",
    "#x_2:\n",
    "x2_func = lambda r: 1.-1./r\n",
    "x2_vecfunc = np.vectorize(x2_func)\n",
    "\n",
    "x = np.linspace(0.1, 1, 200)  # 200 evenly-spaced values from 0.1 to 1\n",
    "y = x2_vecfunc(x)\n",
    "plot(x,y,'-r') #unstable, so red\n",
    "#still x_2\n",
    "x = np.linspace(1, 3, 200)  # 200 evenly-spaced values from 1 to 3\n",
    "y = x2_vecfunc(x)\n",
    "plot(x,y,'-g') #stable, so green!\n",
    "#still x_2\n",
    "x = np.linspace(3, 4, 200)  # 200 evenly-spaced values from 3 to 4\n",
    "y = x2_vecfunc(x)\n",
    "plot(x,y,'-r') #unstable, so red!\n",
    "\n",
    "show()"
   ]
  },
  {
   "cell_type": "markdown",
   "metadata": {},
   "source": [
    "Open question in this interval: what happens for $3<r<4$?\n",
    "Answer: we sometimes get cycles, i.e. $$x_{n+m}=x_{n}$$\n",
    "To illustrate this, let us define a function that gives us already converged $x_n$."
   ]
  },
  {
   "cell_type": "code",
   "execution_count": 4,
   "metadata": {},
   "outputs": [
    {
     "name": "stdout",
     "output_type": "stream",
     "text": [
      "r=0: (stable critical point)\n",
      "[0.0, 0.0, 0.0, 0.0, 0.0, 0.0, 0.0, 0.0, 0.0, 0.0, 0.0]\n",
      "r=0.5: (stable critical point)\n",
      "[7.686291081808886e-303, 3.843145540904443e-303, 1.9215727704522215e-303, 9.607863852261108e-304, 4.803931926130554e-304, 2.401965963065277e-304, 1.2009829815326384e-304, 6.004914907663192e-305, 3.002457453831596e-305, 1.501228726915798e-305, 7.50614363457899e-306]\n",
      "r=1: (stable critical point)\n",
      "[0.0009855391906809531, 0.000984567903184585, 0.0009835985292286037, 0.000982631063161903, 0.0009816654993556125, 0.0009807018322029873, 0.000979740056119301, 0.0009787801655417364, 0.0009778221549292785, 0.000976866018762608, 0.000975911751543995]\n",
      "r=2: (stable critical point)\n",
      "[0.5, 0.5, 0.5, 0.5, 0.5, 0.5, 0.5, 0.5, 0.5, 0.5, 0.5]\n",
      "r=3: (stable critical point)\n",
      "[0.6591907869838786, 0.6739748800183601, 0.6591982233677915, 0.6739677770296163, 0.6592056376661211, 0.6739606948059713, 0.6592130299878712, 0.6739536332462437, 0.6592204004412939, 0.673946592249942, 0.6592277491338973]\n",
      "r=3.2: (stable 2-cycle)\n",
      "[0.5130445095326298, 0.7994554904673701, 0.5130445095326298, 0.7994554904673701, 0.5130445095326298, 0.7994554904673701, 0.5130445095326298, 0.7994554904673701, 0.5130445095326298, 0.7994554904673701, 0.5130445095326298]\n",
      "r=3.5: (stable 4-cycle)\n",
      "[0.8269407065914387, 0.5008842103072179, 0.8749972636024641, 0.38281968301732416, 0.8269407065914387, 0.5008842103072179, 0.8749972636024641, 0.38281968301732416, 0.8269407065914387, 0.5008842103072179, 0.8749972636024641]\n"
     ]
    }
   ],
   "source": [
    "def getLastN(x0,r,transient,number):\n",
    "    x=x0\n",
    "    for i in range(0,transient):\n",
    "        x=getNext(x,r)\n",
    "    #xvec=[xvec=[x]]\n",
    "    xvec=[x]\n",
    "    for i in range(0,number):\n",
    "        x=getNext(x,r)\n",
    "        xvec.append(x)\n",
    "    return xvec\n",
    "\n",
    "x0=0.1\n",
    "transiente=1000\n",
    "lastnumber=10\n",
    "print(\"r=0: (stable critical point)\")\n",
    "print(getLastN(x0,0.,transiente,lastnumber))\n",
    "print(\"r=0.5: (stable critical point)\")\n",
    "print(getLastN(x0,0.5,transiente,lastnumber))\n",
    "print(\"r=1: (stable critical point)\")\n",
    "print(getLastN(x0,1.,transiente,lastnumber))\n",
    "print(\"r=2: (stable critical point)\")\n",
    "print(getLastN(x0,2,transiente,lastnumber))\n",
    "print(\"r=3: (stable critical point)\")\n",
    "print(getLastN(x0,3,transiente,lastnumber))\n",
    "print(\"r=3.2: (stable 2-cycle)\")\n",
    "print(getLastN(x0,3.2,transiente,lastnumber))\n",
    "print(\"r=3.5: (stable 4-cycle)\")\n",
    "print(getLastN(x0,3.5,transiente,lastnumber))"
   ]
  },
  {
   "cell_type": "markdown",
   "metadata": {},
   "source": [
    "This is not very nice to look at, so we want to make it nicer!\n",
    "\n",
    "We want to show all stable nodes and cycles depending on $r$"
   ]
  },
  {
   "cell_type": "code",
   "execution_count": 5,
   "metadata": {},
   "outputs": [
    {
     "data": {
      "image/png": "[encoded data removed]",
      "text/plain": [
       "<Figure size 432x288 with 1 Axes>"
      ]
     },
     "metadata": {
      "needs_background": "light"
     },
     "output_type": "display_data"
    }
   ],
   "source": [
    "numEndPoints=200\n",
    "transiente=10000\n",
    "x = np.linspace(0.0, 4, 3000)\n",
    "x0 = 0.1\n",
    "\n",
    "#x2_vecfunc = np.vectorize(getLastN)\n",
    "y=[]\n",
    "for r in x:\n",
    "    y.extend(getLastN(x0,r,transiente,numEndPoints))\n",
    "\n",
    "xvalues=np.repeat(x, numEndPoints)\n",
    "# print(len(xvalues))\n",
    "# print(len(y))\n",
    "plot(xvalues,y[:len(xvalues)],',')\n",
    "show()"
   ]
  },
  {
   "cell_type": "markdown",
   "metadata": {},
   "source": [
    "We see chaotic bahavior starting at around 3.5 and a stable 3-cycle at around 3.83:"
   ]
  },
  {
   "cell_type": "code",
   "execution_count": 6,
   "metadata": {},
   "outputs": [
    {
     "name": "stdout",
     "output_type": "stream",
     "text": [
      "r = 1+sqrt(8) = 3.8284271247461903 : (stable 3-cycle)\n",
      "[0.15992543498148273, 0.5143464668972302, 0.9563188100568624, 0.15992543599932363, 0.5143464695475874, 0.9563188097657238, 0.15992543701655204, 0.5143464721963499, 0.9563188094747603, 0.15992543803316872, 0.5143464748435194]\n"
     ]
    }
   ],
   "source": [
    "print(\"r = 1+sqrt(8) =\",1+sqrt(8),\": (stable 3-cycle)\")\n",
    "print(getLastN(x0,1+sqrt(8.),transiente,lastnumber))"
   ]
  },
  {
   "cell_type": "markdown",
   "metadata": {},
   "source": [
    "For values bigger than r=4 divergence occurs:"
   ]
  },
  {
   "cell_type": "code",
   "execution_count": 7,
   "metadata": {},
   "outputs": [
    {
     "name": "stdout",
     "output_type": "stream",
     "text": [
      "r = 4.1 : (divergence)\n",
      "[0.8200138733909665, 0.5903644833492417, 0.9673370405960985, 0.1263843619475224, 0.4416454200105602, 0.9863789719770243, 0.05374198247429209, 0.2034151271760999, 0.6481496528481241, 0.9122067214439212, 0.3203424751858141]\n"
     ]
    }
   ],
   "source": [
    "print(\"r = 4.1 : (divergence)\")\n",
    "print(getLastN(x0,4.,20,10))"
   ]
  },
  {
   "cell_type": "markdown",
   "metadata": {},
   "source": [
    "For more information and other nice plots:\n",
    "https://en.wikipedia.org/wiki/Logistic_map"
   ]
  },
  {
   "cell_type": "code",
   "execution_count": null,
   "metadata": {},
   "outputs": [],
   "source": []
  }
 ],
 "metadata": {
  "kernelspec": {
   "display_name": "Python 3",
   "language": "python",
   "name": "python3"
  },
  "language_info": {
   "codemirror_mode": {
    "name": "ipython",
    "version": 3
   },
   "file_extension": ".py",
   "mimetype": "text/x-python",
   "name": "python",
   "nbconvert_exporter": "python",
   "pygments_lexer": "ipython3",
   "version": "3.7.4"
  }
 },
 "nbformat": 4,
 "nbformat_minor": 1
}
